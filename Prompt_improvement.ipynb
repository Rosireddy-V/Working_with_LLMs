{
 "cells": [
  {
   "cell_type": "code",
   "execution_count": 25,
   "id": "d4260b08-f7fb-411a-ae71-f47bf1f6d195",
   "metadata": {},
   "outputs": [
    {
     "name": "stdout",
     "output_type": "stream",
     "text": [
      "28\n"
     ]
    }
   ],
   "source": [
    "from langchain_community.document_loaders import PyPDFLoader\n",
    "file_path = \"invest4g_Product_Brochure.pdf\"\n",
    "loader1 = PyPDFLoader(file_path)\n",
    "docs=loader1.load()\n",
    "print(len(docs))"
   ]
  },
  {
   "cell_type": "code",
   "execution_count": 8,
   "id": "9d2bbf68-b687-4aae-8ad8-f46c0d87d8c2",
   "metadata": {},
   "outputs": [
    {
     "name": "stdout",
     "output_type": "stream",
     "text": [
      "invest4g_Product_Brochure.pdf\n"
     ]
    },
    {
     "data": {
      "text/plain": [
       "Document(metadata={'source': 'invest4g_Product_Brochure.pdf', 'page': 2}, page_content='Cover  Options  that  you can choose\\nEligibility Conditi ons un der the plan\\nEligibility ConditionsCover  Opti on\\nLife Option Care  Option Century Option\\nEntry Age10 – 65 years 18 – 50 years 18 – 65 years\\nMaturity  Age 18 – 80 years 28 – 80 years Up till age 100 years\\nPolicy  Term\\n(in Years)For Limited Pay2 and Regular Pay\\n10 - 30 years  (inclusive ) 10 - 30 years  (inclusive ) 100 minus  Age at entry\\nFor Single Pay\\nCover\\nMulti pleAge at\\nEntry\\n(Years)Policy\\nTerm\\n(Years)\\n10 0 - 32 5 -30\\n10 33 -\\n38 5 - 20\\n10 39 -\\n44 5 - 10N/A N/AThe plan provides life risk coverage protection through diﬀerent Cover options to suit your needs. You can choose any \\none of the Cover Options as below and customize your plan.\\nCover Option 1- Life Option:   A simple option that provides life coverage the Policy Term and the accumulated fund value \\nof your savings at maturity .\\nUnder this option, higher of Sum Assured less partial withdrawals / withdrawals under Systematic Withdrawal Option / \\nwithdrawals under Milestone Withdrawal Option (in preceding two years) or Fund Value, subject to 105% of all \\nPremiums paid, is payable on death of the Life Assured. In case the Life Assured survives till the maturity of the Policy, \\nthe Fund value is payable at that point in time and the Policy will terminate.\\nCover Option 2: Care Option:  Option that provides life coverage and ensures that your savings contributions are made \\neven in your absence by means of ‘Premium Funding Beneﬁt’ , thus ensuring a secure future for your dependents.\\nUnder this option, lump sum (higher of Sum Assured or 105% of all Premiums paid) is paid on death of the Life Assured \\nand remaining future premiums as and when due are funded by the Company. The Fund Value is payable on maturity of \\nthe Policy. Please note that Sum Assured payable on death under this beneﬁt option is not reduced by the partial \\nwithdrawals / withdrawals under Systematic Withdrawal Option / withdrawals under Milestone Withdrawals Option \\nmade by the Life Assured prior to his / her death.\\nCover Option 3: Century Option:  Option that will cover you till you turn 100! And also allows you to leave a legacy for your \\nloved ones.\\nUnder this option, higher of Sum Assured less partial withdrawals / withdrawals under Systematic Withdrawal Option / \\nwithdrawals under Milestone Withdrawals Option (in preceding two years) or Fund Value, subject to 105% of all \\nPremiums paid, is payable on death of the Life Assured. In case the Life Assured survives till the policy anniversary on \\nwhich the Life Assured turns 100 years (age last birthday), the Fund value is payable at that point in time and the Policy \\nwill terminate.  \\nPlease note that you can choose a Cover Option at inception stage only. Once chosen it cannot be changed later during \\nthe Policy Term. The details of death beneﬁt under each of these cover options is given under beneﬁt section.')"
      ]
     },
     "execution_count": 8,
     "metadata": {},
     "output_type": "execute_result"
    }
   ],
   "source": [
    "print(docs[2].metadata['source'])\n",
    "docs[2]"
   ]
  },
  {
   "cell_type": "code",
   "execution_count": 31,
   "id": "22ed30a6-4ef2-451e-a585-0242019e3e69",
   "metadata": {},
   "outputs": [],
   "source": [
    "from langchain.text_splitter import RecursiveCharacterTextSplitter\n",
    "\n",
    "def return_data_splits(docs):\n",
    "    text_splitter = RecursiveCharacterTextSplitter(chunk_size=2048, chunk_overlap=256)\n",
    "    all_splits = text_splitter.split_documents(docs)\n",
    "    return all_splits\n",
    "\n",
    "fourg_chunks=return_data_splits(docs)"
   ]
  },
  {
   "cell_type": "code",
   "execution_count": 32,
   "id": "f3a41a09-bf75-47b0-bded-cec1a537dd36",
   "metadata": {},
   "outputs": [],
   "source": [
    "from langchain.text_splitter import CharacterTextSplitter\n",
    "\n",
    "text_splitter = CharacterTextSplitter(\n",
    "    separator = \"\\n\",\n",
    "    chunk_size = 2048,\n",
    "    chunk_overlap  = 256)\n",
    "\n",
    "document_chunks = text_splitter.split_documents(docs)\n"
   ]
  },
  {
   "cell_type": "code",
   "execution_count": 33,
   "id": "b9f4beac-1cd6-4598-8071-28f596e04ab3",
   "metadata": {},
   "outputs": [
    {
     "name": "stdout",
     "output_type": "stream",
     "text": [
      "56\n"
     ]
    },
    {
     "data": {
      "text/plain": [
       "2039"
      ]
     },
     "execution_count": 33,
     "metadata": {},
     "output_type": "execute_result"
    }
   ],
   "source": [
    "print(len(document_chunks))\n",
    "len(document_chunks[1].page_content)"
   ]
  },
  {
   "cell_type": "code",
   "execution_count": 34,
   "id": "e9156941-d238-46e9-a617-30091e9aa62d",
   "metadata": {},
   "outputs": [
    {
     "name": "stdout",
     "output_type": "stream",
     "text": [
      "56\n"
     ]
    },
    {
     "data": {
      "text/plain": [
       "2039"
      ]
     },
     "execution_count": 34,
     "metadata": {},
     "output_type": "execute_result"
    }
   ],
   "source": [
    "print(len(fourg_chunks))\n",
    "len(fourg_chunks[1].page_content)"
   ]
  },
  {
   "cell_type": "code",
   "execution_count": 35,
   "id": "657dc722-033a-4690-96a2-01ad0056ad44",
   "metadata": {},
   "outputs": [
    {
     "name": "stderr",
     "output_type": "stream",
     "text": [
      "/Applications/anaconda3/envs/misenv/lib/python3.12/site-packages/huggingface_hub/file_download.py:1132: FutureWarning: `resume_download` is deprecated and will be removed in version 1.0.0. Downloads always resume when possible. If you want to force a new download, use `force_download=True`.\n",
      "  warnings.warn(\n"
     ]
    }
   ],
   "source": [
    "from langchain_community.vectorstores import FAISS\n",
    "from langchain_community.embeddings import HuggingFaceEmbeddings\n",
    "\n",
    "# Use a local HuggingFace model instead\n",
    "local_embeddings = HuggingFaceEmbeddings(model_name=\"sentence-transformers/all-mpnet-base-v2\")\n",
    "db = FAISS.from_documents(fourg_chunks, local_embeddings)\n",
    "#vectorstore = Chroma.from_documents(documents=fourg_chunks, embedding=local_embeddings)"
   ]
  },
  {
   "cell_type": "code",
   "execution_count": 47,
   "id": "6ed4bf84-1373-41dd-bca4-5ed876256b69",
   "metadata": {},
   "outputs": [
    {
     "data": {
      "text/plain": [
       "['5 5,00,000 - 3 ,128 29,83,663 8,357 - - 2 9,92,021\\n6 5,00,000 - 2 ,250 37 ,08,99 4 - - - 37 ,08,99 4\\n7 5,00,000 - 1 ,158 44,72,412 - - - 44 ,72,412\\n8 5,00,000 - 5 5 2,85,273 - - - 52,85,273\\n9 5,00,000 - - 61,49,286 - - - 61,49,286\\n10 5,00,000 - - 70 ,67,664 2 5,95 3 1 ,03,814 - 71 ,97,431\\n11 5,00,000 - - 81,81,759 - - - 81,81,759\\n12 5,00,000 - - 92,28,020 - - - 92,28,020\\n13 5,00,000 - - 1 ,03,40,114 - - - 1 ,03,40,114\\n14 5,00,000 - - 1 ,15,22,181 - - - 1 ,15,22,181\\n15 5,00,000 - - 1 ,27,78,625 5 0,623 3 ,79,672 - 1 ,32,08,920\\n16 - - - 1 ,40,40,033 - - - 1 ,40,40,033\\n17 - - - 1 ,49,23,442 - - - 1 ,49,23,442\\n18 - - - 1 ,58,6 2,434 - - - 1 ,58,6 2,434\\n19 - - - 1 ,68,6 0,509 - - - 1 ,68,6 0,509\\n20 - - - 1 ,79,21,384 - 6,96,8 17 24 ,613 1 ,86,42,814\\nPolicy\\nYearAnnual\\nPremiumPolicy\\nAdmin\\nChargeMortality\\nChargeFund Value\\nBefore\\nAdditionsLoyalty\\nAdditionsWealt h\\nBoostersReturn of\\nMortality\\nChargeFund Value \\nafter Additions\\n1 5,00,000 - 5,136 5, 05,640 - - - 5,05,640\\n2 5,00,000 - 4 ,828 10,23,556 - - - 10,23,556\\n3 5,00,000 - 4 ,467 1 5,54,102 - - - 15,54,102\\n4 5,00,000 - 4 ,039 20,97,656 - - - 20,97,656\\n5 5, 00,000 - 3 ,522 2 6,54,631 7 ,764 - - 26,62,395\\n6 5, 00,000 - 2 ,881 32 ,33,437 - - - 32,33,437\\n7 5,00,000 - 2 ,117 3 8,18,841 - - - 38,18,841\\n8 5, 00,000 - 1 ,189 44,19,143 - - - 44,19,143\\n9 5, 00,000 - 65 5 0,34,927 - - - 50,34,927\\n10 5,00,000 - - 56,65, 292 21 ,940 87,760 - 57,74,993\\n11 5,00,000 - - 64,22,789 - - - 64,22,789\\n12 5,00,000 - - 70 ,85,8 43 - - - 70,85,8 43\\n13 5,00,000 - - 77 ,64,514 - - - 77,64,514\\n14 5,00,000 - - 84,59,170 - - - 84,59,170\\n15 5, 00,000 - - 91,70,188 38,490 2 ,88,6 79 - 94,97,357\\n16 - - - 97,21,050 - - - 97,21,050\\n17 - - - 99,5 0,012 - - - 99,5 0,012\\n18 - - - 1 ,01,84,367 - - - 1 ,01,84,367\\n19 - - - 1 ,04,24,242 - - - 1 ,04,24,242• At 4% p.a. Fund Growth Rate',\n",
       " '4%##8%##\\n10,00,000 1 ,00,00,000 1 ,00,00,000 1 ,16,02,869 1,44,37,592\\n20,00,000 2,00,00,000 2,00,00,000 2,32,05,737 2,88,75,184\\n50,00,000 5,00,00,000 5,00,00,000 5,80,14,343 7 ,21,87,959Total  Premiums Paid \\n(`)(`) (`)(`)\\n(`)Lump Sum paid \\non Death (`)1,80,00060,000 9,00,000\\n18,00,000\\n27,00,0006,00,000\\n12,00,000\\n18,00,000\\n6,00,000\\n12,00,000\\n18,00,0006,00,000\\n12,00,00018,00,0001,20,000\\n1,80,000 60,000\\n1,20,000',\n",
       " 'withdrawals / withdrawals under Systematic Withdrawal Option / withdrawals under Milestone Withdrawals Option \\nmade by the Life Assured prior to his / her death.\\nCover Option 3: Century Option:  Option that will cover you till you turn 100! And also allows you to leave a legacy for your \\nloved ones.\\nUnder this option, higher of Sum Assured less partial withdrawals / withdrawals under Systematic Withdrawal Option / \\nwithdrawals under Milestone Withdrawals Option (in preceding two years) or Fund Value, subject to 105% of all \\nPremiums paid, is payable on death of the Life Assured. In case the Life Assured survives till the policy anniversary on \\nwhich the Life Assured turns 100 years (age last birthday), the Fund value is payable at that point in time and the Policy \\nwill terminate.  \\nPlease note that you can choose a Cover Option at inception stage only. Once chosen it cannot be changed later during \\nthe Policy Term. The details of death beneﬁt under each of these cover options is given under beneﬁt section.']"
      ]
     },
     "execution_count": 47,
     "metadata": {},
     "output_type": "execute_result"
    }
   ],
   "source": [
    "question = \"who is the first president of america?\"\n",
    "rel_docs=db.similarity_search(question,k=3)\n",
    "content=[doc.page_content for doc in rel_docs]\n",
    "content"
   ]
  },
  {
   "cell_type": "code",
   "execution_count": 123,
   "id": "fd7acd82-97c8-44d6-8cfa-024ab0e458eb",
   "metadata": {},
   "outputs": [
    {
     "data": {
      "text/plain": [
       "[(Document(metadata={'source': 'invest4g_Product_Brochure.pdf', 'page': 5}, page_content='Annual  Premium  \\n(`)Sum AssuredTotal  Premiums Paid \\n(`)Total  Maturity  Benefit (`)\\n(Fund Valu e) at the end of 15 years\\n4%##8%##\\n11,15,305 15,46,869\\n22,44,078 31,11,471\\n33,66,117 4 6,67,206\\nDeat hBenefit : In case of Amit ’s unfortunate deathat the en dof 5thpolicy yea r:\\n\\uf0d8\\n\\uf0d8\\n\\uf0d8\\nAnnual  PremiumTotal future \\nPremium  funded by \\nthe Company  (`)Total  Maturity  Beneﬁt (`)\\n(Fund Value) at the end of 15 \\nyears\\n4%##8%##\\n11,23,963 15,61,458\\n22,61,694 31,40,996\\n33,92,541 47,11,494\\nIllustrative Example 3:  Mrs. Singh, age 40 years, is a successful business woman and an intelligent investor having \\ninvestments in diﬀerent instruments. She chooses Cover Option 1 (Life Option) under this plan, to pay annual premium for a period of 10 years and a Policy Term of 10 years as shown below. \\nMaturity Beneﬁt: The table below shows fund values for multiple scenarios assuming annual gross investment \\nreturn of 4% and 8% with 100% investment in Balanced Plus Fund.Lump sum (higher of Sum Assured or 105% of all Premiums paid up to the date of death) is paid on death – to take care of any immediate liabilities on the family.\\nRemaining future premiums as and when due would be funded by the Company - ensuring that Rahul’s \\nsavings for his desired goal continues uninterrupted. \\nThe Fund Value would be paid on maturity of the Policy.\\nIllustrative Example 4:  Mr. Rajpal, age 40 years,  chooses Cover Option 3 (Century Option) under this plan, to pay \\nannual premiums for a period of 20 years as shown below. Maturity Beneﬁt: The table below shows fund values for multiple scenarios at age 100 years assuming annual \\ngross investment return of 4% and 8% with 100% investment in Balanced Plus Fund.Annual  Premium Sum AssuredTotal  Maturity  Beneﬁ t (`)\\n(Fund Valu e) at the end of 10 years\\n4%##8%##\\n10,00,000 1 ,00,00,000 1 ,00,00,000 1 ,16,02,869 1,44,37,592\\n20,00,000 2,00,00,000 2,00,00,000 2,32,05,737 2,88,75,184\\n50,00,000 5,00,00,000 5,00,00,000 5,80,14,343 7 ,21,87,959Total  Premiums Paid \\n(`)(`) (`)(`)\\n(`)Lump Sum paid'),\n",
       "  0.7969502),\n",
       " (Document(metadata={'source': 'invest4g_Product_Brochure.pdf', 'page': 4}, page_content=\"1. Systematic Transfer O ption (STO)\\n2. Return Protector O ption (RPO)\\n3. Auto Fun ds Rebalancin g (AFR)\\n4. Safety S witchOption(SSO)\\nMont hly Premium  \\n(` )Sum Assured (` )Total  Premiums Paid\\n(` )Total  Maturity  Beneﬁt (` )\\n(Fund Valu e) at the end of 15 years\\n4 %##8%##\\n6,63,96 0 9,07,889\\nStep 3: Choose your Funds and Portfolio Management Option \\nYou can choose from a range of 8 (eight) diﬀerent Unit Linked Funds with diﬀerent risk appetites. Further, you may \\nselect one among following 4 diﬀerent Portfolio Management Options to manage and build on wealth in an optimal way:\\nIllustrative Example 1:\\n Rahul, aged 21, has just started his career and is getting into habit of  insurance & savings  \\nusing this plan.  Rahul opts for Cover Option 1 (Life Option) under this plan and starts saving with a monthly premium of Rs. 3,000 and a Premium Paying Term & Policy Term of 15 years.\\nMaturity Beneﬁt: The table below shows maturity values for multiple scenarios assuming annual gross investment \\nreturn of 4% and 8% with 100% investment in Equity II Fund\\nRahul, with small but disciplined contribution, at the end of 15 years is not only able to create a substantial corpus but \\nalso developed a habit for savings towards a strong ﬁnancial future.\\nIllustrative Example 2: Amit aged 35, is married and has a 3 years old daughter. He wants insurance & create a \\ncorpus for the future of his daughter. He is looking for a customized solution which ensures that in an event he is \\nnot around, the family's immediate needs are met and in the meantime his dream for providing a corpus to his daughter is also met. Amit chooses Cover Option 2 (Care Option) under this plan with a Premium Paying Term and Policy Term of 15 years. \\nMaturity Beneﬁt: The table below shows maturity values with multiple scenarios assuming annual gross investment \\nreturn of 4% and 8% with 100% investment in an Equity II Fund.3,60,000 3,000 5,40,000\"),\n",
       "  0.8148247),\n",
       " (Document(metadata={'source': 'invest4g_Product_Brochure.pdf', 'page': 1}, page_content='Key Features\\n\\uf06c\\uf06c\\n\\uf06c\\n\\uf06c\\uf06c\\n\\uf06c\\n\\uf06c\\n\\uf06c\\n\\uf06c\\n\\uf06c\\n\\uf06c\\n\\uf06cCanara HSBC Life Insurance Invest 4G  \\nA Unit Linked Individual Life Insurance Savings Plan\\nYou always work hard towards the very best in your life. Never settling for the second best option is your signature. So, \\nfor a valued customer like you, ﬁnancial protection and ﬁnancial planning for your loved ones has to be the very best. This plan provides life insurance cover to protect your family in case of your unfortunate demise as well as provides you with the greatest value for your hard earned savings. No matter at what life stage you are; a youngster just getting into the habit of savings, a family man planning for creating a secure future for his kids, planning for your own golden years or even for creating a legacy after you and at the same time safeguarding your wealth so that your personal ﬁnancial goals are met even in case you are not around. We have a solution for you.\\nPresenting Canara HSBC Life Insurance Invest 4G plan - A Unit Linked Individual Life Insurance Savings Plan which you \\ncan customize as per your goals and changing requirements. With an unmatched combination of Portfolio \\nManagement Options \\nand ﬂexibilities, this plan gives you complete control over your savings and insurance needs. \\nThis product is a non-participating product. \\nFinancial Protection for your loved ones with life insurance: Three Cover Options to choose from namely \\n‘Life Option’, ‘Care Option’ or ‘Century Option’ for diﬀerent life stages\\nLow Charges: Maximize your savings opportunity. Only Fund Management Charges and Risk Charges^ levied on your Policy\\nReturn of Mortality Charges (RoMC): Mortality Charges deducted during the Policy Term for Regular and \\nLimited Premium Paying policies will be added to the Fund Value at maturity \\nPremium Funding Beneﬁt: To ensure your targeted savings contributions are made even in your absenceAdditions in the fund to maximize the beneﬁts:\\n  \\n\\uf06c   Loyalty Additions from end of 5th Policy Year from the date of commencement and every 5th Policy Year'),\n",
       "  0.8173543),\n",
       " (Document(metadata={'source': 'invest4g_Product_Brochure.pdf', 'page': 6}, page_content='Sum AssuredTotal  Premiums PaidTotal  Maturity  Beneﬁ t (`)\\n(Fund Valu e) at age 100 \\nyears\\n4%##8%##\\n44,66, 066 3,09,28, 336\\n66,99, 099 4,63,92,505\\n97,15,164 6,68,58,588\\nAnnual  Premium Sum AssuredTotal  Premiums Paid Death Benefit\\n4%##8%##\\n9,13,102 12,68,496\\n13,69,65 3 1 9,02,743\\n18,26,204 2 5,36,99 1Death Beneﬁt: In case of Mr. Rajpal’s unfortunate death in the 15th policy year, the death beneﬁt, based on \\nthe assumed annual gross investment returns, are as per the table below.\\n##The assumed rates of return (4% p.a. and 8% p.a.) shown in the above illustrative examples of diﬀerent \\nscenarios are not guaranteed and they are not the upper or lower limits of what you might get back as the \\nvalue of your Policy  depends on a number of factors including future investment performance. The Fund Values shown in the above illustrative example are after deduction of all charges including applicable Goods and Services Tax & applicable cess (es) / levy, if any, (@18%).\\nThe death beneﬁt under all the options of this Plan is subject to the guaranteed beneﬁt of 105% of all \\nPremiums paid till the date of death.Annual  Premium  \\n(`)\\n(`)(`)(`)(`)\\n(`)(`)\\n50,000\\n75,000\\n1,00, 0005,00,000\\n7,50,00010,00,000\\n50,00075,0001,00,0005,00,0007,50,00010,00,0007,00,00010,50,00014,00,00010,00,000\\n15,00,00020,00,000'),\n",
       "  0.8355012)]"
      ]
     },
     "execution_count": 123,
     "metadata": {},
     "output_type": "execute_result"
    }
   ],
   "source": [
    "question = \"give me an example for a particular age and polciy term of 40 years through which i can understand the overall benfit of invest4g plan\"\n",
    "question1=\"explain me about this insurance plan?\"\n",
    "rel_docs=db.similarity_search_with_score(question,k=4)\n",
    "rel_docs"
   ]
  },
  {
   "cell_type": "code",
   "execution_count": 101,
   "id": "38bc917b-9955-4825-a693-c2b7719ea244",
   "metadata": {},
   "outputs": [
    {
     "data": {
      "text/plain": [
       "2.0315053"
      ]
     },
     "execution_count": 101,
     "metadata": {},
     "output_type": "execute_result"
    }
   ],
   "source": [
    "rel_docs=db.similarity_search_with_score(question1,k=3)\n",
    "rel_docs[2][1]"
   ]
  },
  {
   "cell_type": "code",
   "execution_count": 24,
   "id": "458c0d79-4ef3-4538-acdc-75531622d433",
   "metadata": {},
   "outputs": [
    {
     "data": {
      "text/plain": [
       "'Benefits in the plan\\nVariant For In-Force  Policy For Reduce d Paid-up2 Policy\\nCover\\nOption 1 -\\nLifeOptionHigher of:\\ni.Sum Assured less withdrawals\\n6,if any ,in the\\nprecedin gtwo years ,or\\nii.Fund Value as on date of inti mation of death\\nclaim,or\\niii. 10 5%of all Premiumspaidupto the date of\\ndeath.\\nThe Policyshall ter minate after the payment of any\\nof the above benefits.Higher of:\\ni.Paid-u p SumAssured3less withdrawals6,if any ,\\nin the  precedin gtwo years ,or\\nii.Fund Value as on date of in timation of death\\nclaim,or\\niii. 10 5% of all Premiumspaid u pto the date of\\ndeath.\\nThe Policyshall ter minate a fter the payment of any\\nof the above benefits.\\nCoverOption 2 -\\nCareOption\\n5Higher of the followin gwill be payable as a l ump\\nsum:\\ni.Sum Assure d,or\\nii. 10 5%of all Premiumspaidupto the date of\\ndeath\\nPremium Fundi ng B enefit4will also be com e\\npayable. All the charges,excep tMortality &\\nPremium Fun ding Be nefit charges, shall conti nue to\\nbe d educ ted fro mthe unit account un tilmaturity\\nof the Policy.Please note that Sum Assured\\npayable on death under this cove roption is not\\nredu ced by the withdrawals made prior to the\\ndeath of the Life Assured.Higher of:\\ni.Paid-u p SumAssured3\\nii. 10 5% of all Premiumspaid u pto the date of\\ndeath\\nThe Policyshall ter minate a fter the payment of any\\nof the above benefits.\\nCoverOption 3 -\\nCenturyOptionHigher of:\\ni.Sum Assured less withdrawals\\n6,if any ,in the\\nprecedin gtwo years ,or\\nii.Fund Value as on date of in timation of death\\nclaim,or\\niii. 10 5%of all Premiumspaidupto the date of\\ndeath.\\nThe Policyshall ter minate after the payment of any\\nof the above benefits.Higher of:\\ni.Paid-u p SumAssured3less withdrawals6,if any ,\\nin the  precedin gtwo years ,or\\nii.Fund Value as on date of in timation of death\\nclaim,or\\niii. 10 5% of all Premiumspaid u pto the date of\\ndeath.\\nThe Policyshall ter minate a fter the payment of any\\nof the above benefits.\\nNote:1. Death Beneﬁt\\nIn case of unfortunate demise of the Life Assured, the Death Beneﬁt will be as per the Cover Option chosen by you'"
      ]
     },
     "execution_count": 24,
     "metadata": {},
     "output_type": "execute_result"
    }
   ],
   "source": [
    "rel_docs[0][0].page_content"
   ]
  },
  {
   "cell_type": "code",
   "execution_count": 36,
   "id": "ab6238a5-0cf4-4d31-98c8-2ee4cc042224",
   "metadata": {},
   "outputs": [],
   "source": [
    "retriever=db.as_retriever(search_kwargs={\"k\": 5})"
   ]
  },
  {
   "cell_type": "code",
   "execution_count": 37,
   "id": "25e4f630-fc7c-4915-b6df-dc8fe75a3765",
   "metadata": {},
   "outputs": [],
   "source": [
    "from langchain_ollama import ChatOllama\n",
    "\n",
    "llm = ChatOllama(\n",
    "    model=\"llama3.1:8b\",\n",
    ")"
   ]
  },
  {
   "cell_type": "code",
   "execution_count": 68,
   "id": "ccfaf5c1-1059-433b-bd50-a1e12d31cce2",
   "metadata": {},
   "outputs": [],
   "source": [
    "from langchain.chains import create_retrieval_chain\n",
    "from langchain.chains.combine_documents import create_stuff_documents_chain\n",
    "from langchain_core.prompts import ChatPromptTemplate\n",
    "\n",
    "system_prompt = (\n",
    "    \"You are an assistant for question-answering tasks. \"\n",
    "    \"Use the following pieces of retrieved context to answer \"\n",
    "    \"the question. If you don't know the answer, say that you \"\n",
    "    \"don't know. Use three sentences maximum and keep the \"\n",
    "    \"answer concise.\"\n",
    "    \"\\n\\n\"\n",
    "    \"{context}\"\n",
    ")\n",
    "system_prompt1 = (\n",
    "    \"You are an assistant for question-answering tasks. \"\n",
    "    \"Use the following pieces of retrieved context to answer \"\n",
    "    \"the question. If you don't know the answer, say that you \"\n",
    "    \"don't know. Use three sentences maximum and keep the \"\n",
    "    \"answer concise.\"\n",
    "    \"\\n\\n\"\n",
    "    \"{context}\"\n",
    ")\n",
    "system_prompt2 = (\n",
    "    \"You are an assistant for question-answering tasks based on a specific domain. \"\n",
    "    \"Your knowledge base is just the retrieved context. Do not give the answer to the question \"\n",
    "    \"which is out of the retrieved context pieces.\"\n",
    "    \"Use the following pieces of retrieved context to answer \"\n",
    "    \"the question. If you don't know the answer, say that you don't know. \"\n",
    "    \"Do not generate the answer when the question asked is not relevant to the context retrieved, in\"\n",
    "    \"this case simply say that please ask the relevant questions based on the product. \"\n",
    "    \"Strictly stick to the context retrived to answer the question. Do NOT give the answer which is out of the context.\"\n",
    "    \"Use five sentences maximum and keep the \"\n",
    "    \"answer concise.\"\n",
    "    \"\\n\\n\"\n",
    "    \"{context}\"\n",
    ")\n",
    "system_prompt3 = (\n",
    "    \"You are an assistant for question-answering tasks based on a specific domain. \"\n",
    "    \"Your knowledge base is just the retrieved context. Do not give the answer to the question \"\n",
    "    \"which is out of the retrieved context pieces. For answering\"\n",
    "    \"Use the following pieces of retrieved context to answer \"\n",
    "    \"the question. If you don't know the answer, say that you don't know. \"\n",
    "    \"Do not generate the answer when the question asked is not relevant to the context retrieved, in\"\n",
    "    \"this case simply say that please ask the relevant questions based on the product. \"\n",
    "    \"Strictly stick to the context retrived to answer the question. Do NOT give the answer which is out of the context.\"\n",
    "    \"\\n\\n\"\n",
    "    \"{context}\"\n",
    ")\n",
    "system_prompt4 = \"\"\"\n",
    "Answer the user's questions based on the below context. \n",
    "If the context doesn't contain any relevant information to the question, don't make something up and just say \"I don't know, please ask a relevant question\":\n",
    "\n",
    "<context>\n",
    "{context}\n",
    "</context>\n",
    "\"\"\"\n",
    "\n",
    "system_prompt5 = \"\"\"\n",
    "Answer the user's questions based on the below context. When making up something, strictly stick to the facts and numbers based on the below context.\n",
    "If the context doesn't contain any relevant information to the question, don't make something up and just say \"I don't know, please ask a relevant question\":\n",
    "\n",
    "<context>\n",
    "{context}\n",
    "</context>\n",
    "\"\"\"\n",
    "\n",
    "system_prompt6 = \"\"\"\n",
    "You are an information retrieval assistant. Your primary role is to answer user questions strictly and exclusively using the information provided in the given context chunks. Your instructions are as follows:\n",
    "\n",
    "Respond only and exclusively using the information contained in the provided chunks. Do not introduce any information that is not present in the chunks.\n",
    "\n",
    "If the provided chunks do not contain sufficient information to answer the question, or if the chunks do not directly address the user’s query, respond with: \"I am unable to answer this question with the available information.\"\n",
    "\n",
    "Do not explain your answer or provide any additional commentary. Your responses should be concise and focused on addressing the user's query using only the provided information.\n",
    "\n",
    "Adhere to the context and limitations at all times. If any part of the question cannot be answered with the provided chunks, you must refrain from speculation or the use of external knowledge.\n",
    "\n",
    "If there are multiple chunks provided, integrate the information cohesively, but do not infer or create connections beyond what is explicitly stated in the chunks.\n",
    "\n",
    "If no chunks are provided or if they are insufficient, immediately default to the response outlined in instruction.\n",
    "Final Reminder: Your responses must be anchored solely in the content of the provided chunks. Any deviation from this rule should result in the default response.\n",
    "\n",
    "<context>\n",
    "{context}\n",
    "</context>\n",
    "\"\"\"\n",
    "\n",
    "system_prompt7 = \"\"\"\n",
    "Answer the user's questions based on the below context. When making up something, strictly stick to the facts and numbers based on the below context.\n",
    "Strictly only rely on the sources provided in generating your response. Never rely on external sources.\n",
    "If the context doesn't contain any relevant information to the question, don't make something up and just say \"I don't know, please ask a relevant question\":\n",
    "\n",
    "<context>\n",
    "{context}\n",
    "</context>\n",
    "\"\"\"\n",
    "\n",
    "system_prompt8 = \"\"\"\n",
    "You are an assistant for Question and Answering tasks. \n",
    "You can only make conversations based on the provided context. \n",
    "For the asked question if a response cannot be formed strictly using the retrieved context, politely say you don’t have knowledge about that topic.\n",
    "Do not make up any examples when you are asked to give me an example about any topic. If the asked example is there in the context directly give it as an answer rather than making up something:\n",
    "\n",
    "<context>\n",
    "{context}\n",
    "</context>\n",
    "\"\"\"\n",
    "\n",
    "system_prompt9=\"\"\"\n",
    "Answer the user's questions based on the below context. \n",
    "If the context retrieved does not contain enough information to answer the question ,then don't make something up and simply just say \"I don't know, please ask a relevant question\":\n",
    "If the context retrieved does not contain enough information to answer the question or if the asked question is not relevant to the retrieved context,\n",
    "then simply just say \"I don't know, please ask a relevant question\":\n",
    "<context>\n",
    "{context}\n",
    "</context>\n",
    "\"\"\"\n",
    "\n",
    "system_prompt10=\"\"\"\n",
    "You are assisting with answering the questions about life insurance products offered by the Canara HSBC Life Insurance.\n",
    "Your knowledge base is the retrieved context below.\n",
    "Do not make any assumptions, predictions and calculations out of the below context scope.\n",
    "Especially do not make any calculations.\n",
    "Answer the user's questions based on the below context. When answering the question strictly adhere that your knowledge base is just the retrieved context.\n",
    "When the is to generate an example then do not make any assumptions and do not generate the answer, Strictly say that \"I don't know, please ask a relevant question\".\n",
    "If you are not able to generate the answer based on the retrieved context then simply just say \"I don't know, please ask a relevant question\":\n",
    "\n",
    "<context>\n",
    "{context}\n",
    "</context>\n",
    "\"\"\"\n",
    "system_prompt11=\"\"\"\n",
    "You are an assistant for question-answering tasks. Use the following pieces of retrieved context to answer the question. \n",
    "If you don't know the answer, just say that you don't know. Use three sentences maximum and keep the answer concise.\n",
    "\n",
    "\n",
    "Context: {context} \n",
    "\n",
    "Answer:\n",
    "\n",
    "\"\"\"\n",
    "system_prompt15=\"\"\"\n",
    "Follow exactly these 5 steps:\n",
    "1. Read the context below and aggregrate this data\n",
    "Context : {context}\n",
    "2. Answer the question using only this context\n",
    "3. Do not make any calculations and assumptions with the numbers present in the question until and unless they are less than or equal to the numbers present in this context, In this case reply that you don't know about this topic\n",
    "4. When generating the examples strictly use the facts and numbers present only in this context\n",
    "5. Show the source for your answers\n",
    "\n",
    "If you don't have any context and are unsure of the answer, reply that you don't know about this topic.\n",
    "\n",
    "\"\"\"\n",
    "system_prompt12=\"\"\"\n",
    "Follow exactly these 5 steps:\n",
    "1. Read the context below and aggregrate this data\n",
    "Context : {context}\n",
    "2. Answer the question using only this context\n",
    "3. Use only the numerical values present in this context for making calculations and assumptions.\n",
    "4. If the numerical values present in the question are greater than the corresponding numerical values present in this context then use the numerical values present in this context for calculations and assumptions\n",
    "5. Show the source for your answers\n",
    "\n",
    "If you don't have any context and are unsure of the answer, reply that you don't know about this topic.\n",
    "\n",
    "\"\"\"\n",
    "system_prompt16=\"\"\"\n",
    "Follow exactly those 5 steps:\n",
    "1. Read the context below and aggregrate this data\n",
    "Context : {context}\n",
    "2. Answer the question using only this context\n",
    "3. You are only allowed to use the following retrieved context to generate answers. Do not make any assumptions or calculations using any information that is not explicitly present in the retrieved context.\n",
    "4. If the retrieved context does not provide enough information to make calculations or generate examples, respond with 'The necessary information is not available.'\n",
    "5. Show the source for your answers\n",
    "\n",
    "\n",
    "If you don't have any context and are unsure of the answer, reply that you don't know about this topic.\n",
    "\"\"\"\n",
    "system_prompt13=\"\"\"\n",
    "Based on the following retrieved context, answer the user's question. If the answer is not in the retrieved context, respond with 'The information is not available in the document.'\n",
    "4. If the values present in the question are greater than the values present in this context then reply with the \n",
    "\n",
    "\n",
    "Retrieved Context: {context}\n",
    "\n",
    "\n",
    "Answer:\n",
    "\n",
    "\"\"\"\n",
    "system_prompt14=\"\"\"\n",
    "Follow exactly these 5 steps:\n",
    "1. Read the context below and aggregrate this data\n",
    "Context : {context}\n",
    "2. Answer the question using only this context\n",
    "3. If the numerical values present in the question scenario are less than numerical values present in this context then reply that you don't know about this topic\n",
    "3. Do not make any calculations and assumptions with the numbers present in the question until and unless they are less than or equal to the numbers present in this context\n",
    "4. When generating the examples strictly use the facts and numbers present only in this context\n",
    "5. Show the source for your answers\n",
    "\n",
    "If you don't have any context and are unsure of the answer, reply that you don't know about this topic.\n",
    "\n",
    "\"\"\"\n",
    "#Do not make any calculations and assumptions with the numbers present in the question until and unless they are also present in this context\n",
    "#Do not make any calculations with the numbers which are not present in this context \n",
    "#until and unless less than the numbers \n",
    "prompt = ChatPromptTemplate.from_messages(\n",
    "    [\n",
    "        (\"system\", system_prompt16),\n",
    "        (\"human\", \"{input}\"),\n",
    "    ]\n",
    ")\n",
    "\n",
    "\n",
    "question_answer_chain = create_stuff_documents_chain(llm, prompt)\n",
    "rag_chain = create_retrieval_chain(retriever, question_answer_chain)"
   ]
  },
  {
   "cell_type": "code",
   "execution_count": 105,
   "id": "2a1ae6f8-6956-4c56-944c-08b1b10eb3f0",
   "metadata": {},
   "outputs": [
    {
     "name": "stderr",
     "output_type": "stream",
     "text": [
      "INFO:langchain.retrievers.multi_query:Generated queries: ['Here are three alternative versions of the original question:', 'What methods or techniques exist for breaking down complex tasks into smaller, more manageable sub-tasks?', 'What strategies or frameworks have been proposed for decomposing large-scale tasks into constituent parts that can be executed independently?', 'How do experts and researchers recommend structuring or partitioning tasks to facilitate their completion?']\n"
     ]
    },
    {
     "name": "stdout",
     "output_type": "stream",
     "text": [
      "Generated Queries:\n",
      "Query 1: ['Here are three alternative versions of the original question:', 'What methods or techniques exist for breaking down complex tasks into smaller, more manageable sub-tasks?', 'What strategies or frameworks have been proposed for decomposing large-scale tasks into constituent parts that can be executed independently?', 'How do experts and researchers recommend structuring or partitioning tasks to facilitate their completion?']\n"
     ]
    }
   ],
   "source": [
    "import logging\n",
    "from io import StringIO\n",
    "from langchain.retrievers.multi_query import MultiQueryRetriever\n",
    "\n",
    "\n",
    "# Initialize LLM and MultiQueryRetriever\n",
    "question = \"What are the approaches to Task Decomposition?\"\n",
    "\n",
    "retriever_from_llm = MultiQueryRetriever.from_llm(\n",
    "    retriever=retriever, llm=llm\n",
    ")\n",
    "\n",
    "# Set up logging to capture the INFO logs into a StringIO buffer\n",
    "log_stream = StringIO()\n",
    "\n",
    "# Create a custom logging handler\n",
    "class ListHandler(logging.Handler):\n",
    "    def __init__(self):\n",
    "        super().__init__()\n",
    "        self.log_list = []  # List to store log messages\n",
    "    \n",
    "    def emit(self, record):\n",
    "        log_entry = self.format(record)\n",
    "        self.log_list.append(log_entry)\n",
    "\n",
    "# Set up the logger to use our custom handler\n",
    "log_handler = ListHandler()\n",
    "log_formatter = logging.Formatter('%(message)s')\n",
    "log_handler.setFormatter(log_formatter)\n",
    "\n",
    "logger = logging.getLogger(\"langchain.retrievers.multi_query\")\n",
    "logger.addHandler(log_handler)\n",
    "logger.setLevel(logging.INFO)\n",
    "\n",
    "# Invoke the retriever to trigger logging\n",
    "unique_docs = retriever_from_llm.invoke(question)\n",
    "\n",
    "# Access the logs and find the generated queries\n",
    "log_messages = log_handler.log_list\n",
    "\n",
    "# Extract the generated queries from the logs\n",
    "generated_queries = []\n",
    "for message in log_messages:\n",
    "    if \"Generated queries\" in message:\n",
    "        # The message contains generated queries; process it\n",
    "        queries = message.split(\"Generated queries: \")[1]\n",
    "        generated_queries.append(queries)\n",
    "\n",
    "# Print the stored generated queries\n",
    "print(\"Generated Queries:\")\n",
    "for i, query in enumerate(generated_queries, 1):\n",
    "    print(f\"Query {i}: {query}\")\n"
   ]
  },
  {
   "cell_type": "code",
   "execution_count": 127,
   "id": "e385aa86-6aec-426c-861d-6cb03a5778f4",
   "metadata": {},
   "outputs": [
    {
     "data": {
      "text/plain": [
       "'What strategies or frameworks have been proposed for decomposing large-scale tasks into constituent parts that can be executed independently?'"
      ]
     },
     "execution_count": 127,
     "metadata": {},
     "output_type": "execute_result"
    }
   ],
   "source": [
    "generated_queries[0].split(\", '\")[2].replace(\"'\",\"\").replace(\"'\",\"\")"
   ]
  },
  {
   "cell_type": "code",
   "execution_count": 128,
   "id": "d3613808-5833-425b-9db1-6d92f01fe237",
   "metadata": {},
   "outputs": [
    {
     "data": {
      "text/plain": [
       "[\"Generated queries: ['Here are three alternative versions of the original question:', 'What methods or techniques exist for breaking down complex tasks into smaller, more manageable sub-tasks?', 'What strategies or frameworks have been proposed for decomposing large-scale tasks into constituent parts that can be executed independently?', 'How do experts and researchers recommend structuring or partitioning tasks to facilitate their completion?']\"]"
      ]
     },
     "execution_count": 128,
     "metadata": {},
     "output_type": "execute_result"
    }
   ],
   "source": [
    "log_messages"
   ]
  },
  {
   "cell_type": "code",
   "execution_count": 130,
   "id": "da98e997-f8e8-4c6b-8e50-f0ad09e223b7",
   "metadata": {},
   "outputs": [],
   "source": [
    "from langchain.retrievers.multi_query import MultiQueryRetriever\n",
    "#from langchain_openai import ChatOpenAI\n",
    "\n",
    "question = \"give me an example for a particular age and polciy term of 40 years through which i can understand the maturity benefit of Cover option1(life option)\"\n",
    "retriever_from_llm = MultiQueryRetriever.from_llm(\n",
    "    retriever=retriever, llm=llm\n",
    ")"
   ]
  },
  {
   "cell_type": "code",
   "execution_count": 131,
   "id": "e0935e42-5f11-4281-b10b-8c2083e49536",
   "metadata": {},
   "outputs": [],
   "source": [
    "# Set logging for the queries\n",
    "import logging\n",
    "\n",
    "logging.basicConfig()\n",
    "logger=logging.getLogger(\"langchain.retrievers.multi_query\").setLevel(logging.INFO)"
   ]
  },
  {
   "cell_type": "code",
   "execution_count": 138,
   "id": "0cc4cb6a-f568-4e2a-aa77-dfc048ff667a",
   "metadata": {},
   "outputs": [
    {
     "name": "stderr",
     "output_type": "stream",
     "text": [
      "INFO:langchain.retrievers.multi_query:Generated queries: ['Here are three different versions of the given user question to retrieve relevant documents from a vector database:', ' ', 'Version 1:', 'What scenarios illustrate the financial maturity benefits of a life insurance policy (option 1, also known as cover option 1) for an individual who is approximately 40 years old and holds a specific policy term of 20-50 years?', ' ', 'Version 2:', 'Provide examples of how a person aged around 40 can effectively utilize a 40-year policy term to understand the long-term financial benefits associated with a Cover option 1 (life insurance) plan, considering various policy maturity milestones.', ' ', 'Version 3:', 'Showcase case studies or real-life examples of individuals who have successfully leveraged a life insurance policy (option 1 or cover option 1) with a policy term of approximately 40 years to achieve financial stability and maturity benefits, particularly during the 40-50 age range.']\n"
     ]
    },
    {
     "data": {
      "text/plain": [
       "16"
      ]
     },
     "execution_count": 138,
     "metadata": {},
     "output_type": "execute_result"
    }
   ],
   "source": [
    "unique_docs = retriever_from_llm.invoke(question)\n",
    "len(unique_docs)"
   ]
  },
  {
   "cell_type": "code",
   "execution_count": 139,
   "id": "b4947570-afd0-4678-accc-6866b2e845ec",
   "metadata": {},
   "outputs": [
    {
     "name": "stderr",
     "output_type": "stream",
     "text": [
      "INFO:langchain.retrievers.multi_query:Generated queries: ['Here are three alternative versions of the original question:', 'What techniques or methods are used in the field of Artificial Intelligence for breaking down complex tasks into more manageable components?', 'What strategies do researchers and practitioners employ to decompose large-scale problems into smaller, more solvable sub-tasks in order to achieve a specific goal or objective?', 'Can you provide me with examples of task decomposition approaches that have been successfully applied in various domains such as robotics, planning, or scheduling?']\n"
     ]
    },
    {
     "name": "stdout",
     "output_type": "stream",
     "text": [
      "Log 1: Generated queries: ['Here are three alternative versions of the original question:', 'What techniques or methods are used in the field of Artificial Intelligence for breaking down complex tasks into more manageable components?', 'What strategies do researchers and practitioners employ to decompose large-scale problems into smaller, more solvable sub-tasks in order to achieve a specific goal or objective?', 'Can you provide me with examples of task decomposition approaches that have been successfully applied in various domains such as robotics, planning, or scheduling?']\n"
     ]
    }
   ],
   "source": [
    "import logging\n",
    "\n",
    "# Custom handler to capture log messages\n",
    "class CaptureHandler(logging.Handler):\n",
    "    def __init__(self):\n",
    "        super().__init__()\n",
    "        self.log_messages = []  # List to store log messages\n",
    "    \n",
    "    def emit(self, record):\n",
    "        log_entry = self.format(record)\n",
    "        self.log_messages.append(log_entry)\n",
    "\n",
    "# Set up logging\n",
    "logging.basicConfig()\n",
    "\n",
    "# Create a logger for 'langchain.retrievers.multi_query'\n",
    "logger = logging.getLogger(\"langchain.retrievers.multi_query\")\n",
    "\n",
    "# Set the logger to INFO level\n",
    "logger.setLevel(logging.INFO)\n",
    "\n",
    "# Create a custom capture handler and attach it to the logger\n",
    "capture_handler = CaptureHandler()\n",
    "log_formatter = logging.Formatter('%(message)s')  # Simplified format\n",
    "capture_handler.setFormatter(log_formatter)\n",
    "logger.addHandler(capture_handler)\n",
    "\n",
    "# Example log action: Logging a test message\n",
    "#logger.info(\"This is a test log message.\")\n",
    "question = \"What are the approaches to Task Decomposition?\"\n",
    "\n",
    "retriever_from_llm = MultiQueryRetriever.from_llm(\n",
    "    retriever=retriever, llm=llm\n",
    ")\n",
    "unique_docs = retriever_from_llm.invoke(question)\n",
    "# Access captured logs\n",
    "captured_logs = capture_handler.log_messages\n",
    "\n",
    "# Print captured log messages\n",
    "for i, log in enumerate(captured_logs, 1):\n",
    "    print(f\"Log {i}: {log}\")\n"
   ]
  },
  {
   "cell_type": "code",
   "execution_count": 155,
   "id": "c4a3c9d1-d644-43c7-8acb-a2e8661c1760",
   "metadata": {},
   "outputs": [
    {
     "name": "stdout",
     "output_type": "stream",
     "text": [
      "What techniques or methods are used in the field of Artificial Intelligence for breaking down complex tasks into more manageable components?\n",
      "What strategies do researchers and practitioners employ to decompose large-scale problems into smaller, more solvable sub-tasks in order to achieve a specific goal or objective?\n",
      "Can you provide me with examples of task decomposition approaches that have been successfully applied in various domains such as robotics, planning, or scheduling?\n",
      "['What techniques or methods are used in the field of Artificial Intelligence for breaking down complex tasks into more manageable components?', 'What strategies do researchers and practitioners employ to decompose large-scale problems into smaller, more solvable sub-tasks in order to achieve a specific goal or objective?', 'Can you provide me with examples of task decomposition approaches that have been successfully applied in various domains such as robotics, planning, or scheduling?']\n"
     ]
    }
   ],
   "source": [
    "ques=log.split(\", '\")\n",
    "ques=ques[1:]\n",
    "a=0\n",
    "q=[]\n",
    "for que in ques:\n",
    "    a+=1\n",
    "    if a==3:\n",
    "        print(que.replace(\"']\",\"\"))\n",
    "        q.append(que.replace(\"']\",\"\"))\n",
    "    else:\n",
    "        print(que.replace(\"'\",\"\"))\n",
    "        q.append(que.replace(\"'\",\"\"))\n",
    "\n",
    "print(q)"
   ]
  },
  {
   "cell_type": "code",
   "execution_count": 80,
   "id": "2abf1301-792f-4e52-a03f-22d6376d9dfa",
   "metadata": {},
   "outputs": [
    {
     "data": {
      "text/plain": [
       "[Document(metadata={'source': 'invest4g_Product_Brochure.pdf', 'page': 12}, page_content='Mon ey Mar ket&\\nOthers ^0%-40%\\nLiquid Fund\\n(SFIN : ULI F00514/07/0 8LIQUI DFUND13 6)Togenerate reasonable returns\\ncomm ensurate with low risk and\\na highdegree of li quidity.Equity* -\\nLowDebt Securities 0%-60%*\\nMon ey Mar ket&\\nOthers ^40%-100 %This Plan gives you the ﬂexibility to manage and control the savings in your own way. Here you can choose from a range of 8 Unit \\nLinked Funds. You can choose to allocate your Premiums to any, all or a combination of the Unit Linked Funds as per your risk preference.\\nThe investment and risk proﬁle of each Unit Linked Fund is described below:\\nLarge Cap Advantage Fund@\\n(SFIN: ULIF02109/06/20LARCPADFND136)To generate long term capital \\nappreciation through invest-ments predominantly in large cap stocks. \\n@ Where the fund(s) with the following Segregated Fund Identiﬁcation Number (SFIN) (Fund Name: Large Cap Advantage Fund & SFIN: \\nULIF02109/06/20LARCPADFND136) attached to the Product(s) (Product Name: Canara HSBC  Life Insurance Invest 4G & UIN: 136L064V03) \\napproved by the Board of the insurer, which do not comply with Regulation 8 of Schedule I of the IRDAI (Investment) Regulations, 2016 read \\nwith the Master Circular – Investment issued thereunder, the Policyholder will be given a free switch to the following funds:'),\n",
       " Document(metadata={'source': 'invest4g_Product_Brochure.pdf', 'page': 12}, page_content='20 - - - 1 ,06,69, 767 - 4 ,53,688 28,243 1 ,11,51,698\\nRange of Unit  Linke d Funds availa ble in the Plan\\nFund Name Fund Philoso phy Asset AllocationRisk\\nProfile\\nEquity* 90%- 100 %\\nHighDebt Securities -\\nMon ey Mar ket&\\nOthers ^0%- 10%\\nEmerging Leaders Equi ty Fund\\n(SFIN :\\nULIF02020/12/17E MLEDEQ FND1 36)Togenerate lon gterm capi tal\\napprec iation through\\ninves tments predom inantly in\\nmid cap stocks .Equity* 60%-100 %\\nHighDebt Securities -\\nMon ey Mar ket&\\nOthers ^0%-40%\\nIndia  Multi-Cap EquityFund\\n(SFIN :\\nULIF01816/08/16IMCAPEQFND13 6)Togenerate capitalappreciation\\nin the lon gtermthrou ghequity\\ninves tments by inves ting in a\\ndiversi ﬁedportfolio of Small C ap,\\nMid Ca p and Lar ge Cap\\ncompan ies.Equity* 60%-100 %\\nHighDebt Securities -\\nMon ey Mar ket&\\nOthers ^0%-40%\\nEquity II Fund\\n(SFIN : ULI F006 07/01/10EQUTYII FND136)To generate lo ng-term c apital\\napprec iation fro m active\\nmanagem ent of a portfolio\\ninvested in diversi ﬁed equities.Equity* 60%-100 %\\nHighDebt Securities -\\nMon ey Mar ket&\\nOthers ^0%-40%\\nGrowth Plus Fund\\n(SFIN :\\nULIF00913/09/10GROW TPLFND13 6)To a chievecapital appreciation\\nby investin g p redo minantly in\\nequities,with li mited inves tment\\nin fixed in com e securities.Equity* 50%-90%\\nMedium\\nto Hi ghDebt Securities 10%-50%\\nMon ey Mar ket&\\nOthers ^0%-40%\\nBalancedPlusFund\\n(SFIN : ULI F01013/0 9/10BLNCDPLFND1 36)Togenerate capitalappreciation\\nand current in come, thro ugh a\\njudic ious mixof inves tments in\\nequities and ﬁxed income\\nsecurities.Equity* 30%-70 %\\nMediumDebt Securities 30%-70 %\\nMon ey Mar ket&\\nOthers ^0%-40%\\nDebt Fund\\n(SFIN : ULI F00409/07/0 8INDE BTFU ND1 36)To earn regular in com e by\\ninves tingin hi gh qual ity debt\\nsecurities.Equity* -\\nLowto\\nMediumDebt Securities 60%-100 %\\nMon ey Mar ket&\\nOthers ^0%-40%\\nLiquid Fund\\n(SFIN : ULI F00514/07/0 8LIQUI DFUND13 6)Togenerate reasonable returns\\ncomm ensurate with low risk and\\na highdegree of li quidity.Equity* -\\nLowDebt Securities 0%-60%*\\nMon ey Mar ket&'),\n",
       " Document(metadata={'source': 'invest4g_Product_Brochure.pdf', 'page': 6}, page_content='Sum AssuredTotal  Premiums PaidTotal  Maturity  Beneﬁ t (`)\\n(Fund Valu e) at age 100 \\nyears\\n4%##8%##\\n44,66, 066 3,09,28, 336\\n66,99, 099 4,63,92,505\\n97,15,164 6,68,58,588\\nAnnual  Premium Sum AssuredTotal  Premiums Paid Death Benefit\\n4%##8%##\\n9,13,102 12,68,496\\n13,69,65 3 1 9,02,743\\n18,26,204 2 5,36,99 1Death Beneﬁt: In case of Mr. Rajpal’s unfortunate death in the 15th policy year, the death beneﬁt, based on \\nthe assumed annual gross investment returns, are as per the table below.\\n##The assumed rates of return (4% p.a. and 8% p.a.) shown in the above illustrative examples of diﬀerent \\nscenarios are not guaranteed and they are not the upper or lower limits of what you might get back as the \\nvalue of your Policy  depends on a number of factors including future investment performance. The Fund Values shown in the above illustrative example are after deduction of all charges including applicable Goods and Services Tax & applicable cess (es) / levy, if any, (@18%).\\nThe death beneﬁt under all the options of this Plan is subject to the guaranteed beneﬁt of 105% of all \\nPremiums paid till the date of death.Annual  Premium  \\n(`)\\n(`)(`)(`)(`)\\n(`)(`)\\n50,000\\n75,000\\n1,00, 0005,00,000\\n7,50,00010,00,000\\n50,00075,0001,00,0005,00,0007,50,00010,00,0007,00,00010,50,00014,00,00010,00,000\\n15,00,00020,00,000'),\n",
       " Document(metadata={'source': 'invest4g_Product_Brochure.pdf', 'page': 4}, page_content=\"1. Systematic Transfer O ption (STO)\\n2. Return Protector O ption (RPO)\\n3. Auto Fun ds Rebalancin g (AFR)\\n4. Safety S witchOption(SSO)\\nMont hly Premium  \\n(` )Sum Assured (` )Total  Premiums Paid\\n(` )Total  Maturity  Beneﬁt (` )\\n(Fund Valu e) at the end of 15 years\\n4 %##8%##\\n6,63,96 0 9,07,889\\nStep 3: Choose your Funds and Portfolio Management Option \\nYou can choose from a range of 8 (eight) diﬀerent Unit Linked Funds with diﬀerent risk appetites. Further, you may \\nselect one among following 4 diﬀerent Portfolio Management Options to manage and build on wealth in an optimal way:\\nIllustrative Example 1:\\n Rahul, aged 21, has just started his career and is getting into habit of  insurance & savings  \\nusing this plan.  Rahul opts for Cover Option 1 (Life Option) under this plan and starts saving with a monthly premium of Rs. 3,000 and a Premium Paying Term & Policy Term of 15 years.\\nMaturity Beneﬁt: The table below shows maturity values for multiple scenarios assuming annual gross investment \\nreturn of 4% and 8% with 100% investment in Equity II Fund\\nRahul, with small but disciplined contribution, at the end of 15 years is not only able to create a substantial corpus but \\nalso developed a habit for savings towards a strong ﬁnancial future.\\nIllustrative Example 2: Amit aged 35, is married and has a 3 years old daughter. He wants insurance & create a \\ncorpus for the future of his daughter. He is looking for a customized solution which ensures that in an event he is \\nnot around, the family's immediate needs are met and in the meantime his dream for providing a corpus to his daughter is also met. Amit chooses Cover Option 2 (Care Option) under this plan with a Premium Paying Term and Policy Term of 15 years. \\nMaturity Beneﬁt: The table below shows maturity values with multiple scenarios assuming annual gross investment \\nreturn of 4% and 8% with 100% investment in an Equity II Fund.3,60,000 3,000 5,40,000\"),\n",
       " Document(metadata={'source': 'invest4g_Product_Brochure.pdf', 'page': 5}, page_content='Annual  Premium  \\n(`)Sum AssuredTotal  Premiums Paid \\n(`)Total  Maturity  Benefit (`)\\n(Fund Valu e) at the end of 15 years\\n4%##8%##\\n11,15,305 15,46,869\\n22,44,078 31,11,471\\n33,66,117 4 6,67,206\\nDeat hBenefit : In case of Amit ’s unfortunate deathat the en dof 5thpolicy yea r:\\n\\uf0d8\\n\\uf0d8\\n\\uf0d8\\nAnnual  PremiumTotal future \\nPremium  funded by \\nthe Company  (`)Total  Maturity  Beneﬁt (`)\\n(Fund Value) at the end of 15 \\nyears\\n4%##8%##\\n11,23,963 15,61,458\\n22,61,694 31,40,996\\n33,92,541 47,11,494\\nIllustrative Example 3:  Mrs. Singh, age 40 years, is a successful business woman and an intelligent investor having \\ninvestments in diﬀerent instruments. She chooses Cover Option 1 (Life Option) under this plan, to pay annual premium for a period of 10 years and a Policy Term of 10 years as shown below. \\nMaturity Beneﬁt: The table below shows fund values for multiple scenarios assuming annual gross investment \\nreturn of 4% and 8% with 100% investment in Balanced Plus Fund.Lump sum (higher of Sum Assured or 105% of all Premiums paid up to the date of death) is paid on death – to take care of any immediate liabilities on the family.\\nRemaining future premiums as and when due would be funded by the Company - ensuring that Rahul’s \\nsavings for his desired goal continues uninterrupted. \\nThe Fund Value would be paid on maturity of the Policy.\\nIllustrative Example 4:  Mr. Rajpal, age 40 years,  chooses Cover Option 3 (Century Option) under this plan, to pay \\nannual premiums for a period of 20 years as shown below. Maturity Beneﬁt: The table below shows fund values for multiple scenarios at age 100 years assuming annual \\ngross investment return of 4% and 8% with 100% investment in Balanced Plus Fund.Annual  Premium Sum AssuredTotal  Maturity  Beneﬁ t (`)\\n(Fund Valu e) at the end of 10 years\\n4%##8%##\\n10,00,000 1 ,00,00,000 1 ,00,00,000 1 ,16,02,869 1,44,37,592\\n20,00,000 2,00,00,000 2,00,00,000 2,32,05,737 2,88,75,184\\n50,00,000 5,00,00,000 5,00,00,000 5,80,14,343 7 ,21,87,959Total  Premiums Paid \\n(`)(`) (`)(`)\\n(`)Lump Sum paid'),\n",
       " Document(metadata={'source': 'invest4g_Product_Brochure.pdf', 'page': 7}, page_content='Benefits in the plan\\nVariant For In-Force  Policy For Reduce d Paid-up2 Policy\\nCover\\nOption 1 -\\nLifeOptionHigher of:\\ni.Sum Assured less withdrawals\\n6,if any ,in the\\nprecedin gtwo years ,or\\nii.Fund Value as on date of inti mation of death\\nclaim,or\\niii. 10 5%of all Premiumspaidupto the date of\\ndeath.\\nThe Policyshall ter minate after the payment of any\\nof the above benefits.Higher of:\\ni.Paid-u p SumAssured3less withdrawals6,if any ,\\nin the  precedin gtwo years ,or\\nii.Fund Value as on date of in timation of death\\nclaim,or\\niii. 10 5% of all Premiumspaid u pto the date of\\ndeath.\\nThe Policyshall ter minate a fter the payment of any\\nof the above benefits.\\nCoverOption 2 -\\nCareOption\\n5Higher of the followin gwill be payable as a l ump\\nsum:\\ni.Sum Assure d,or\\nii. 10 5%of all Premiumspaidupto the date of\\ndeath\\nPremium Fundi ng B enefit4will also be com e\\npayable. All the charges,excep tMortality &\\nPremium Fun ding Be nefit charges, shall conti nue to\\nbe d educ ted fro mthe unit account un tilmaturity\\nof the Policy.Please note that Sum Assured\\npayable on death under this cove roption is not\\nredu ced by the withdrawals made prior to the\\ndeath of the Life Assured.Higher of:\\ni.Paid-u p SumAssured3\\nii. 10 5% of all Premiumspaid u pto the date of\\ndeath\\nThe Policyshall ter minate a fter the payment of any\\nof the above benefits.\\nCoverOption 3 -\\nCenturyOptionHigher of:\\ni.Sum Assured less withdrawals\\n6,if any ,in the\\nprecedin gtwo years ,or\\nii.Fund Value as on date of in timation of death\\nclaim,or\\niii. 10 5%of all Premiumspaidupto the date of\\ndeath.\\nThe Policyshall ter minate after the payment of any\\nof the above benefits.Higher of:\\ni.Paid-u p SumAssured3less withdrawals6,if any ,\\nin the  precedin gtwo years ,or\\nii.Fund Value as on date of in timation of death\\nclaim,or\\niii. 10 5% of all Premiumspaid u pto the date of\\ndeath.\\nThe Policyshall ter minate a fter the payment of any\\nof the above benefits.\\nNote:1. Death Beneﬁt\\nIn case of unfortunate demise of the Life Assured, the Death Beneﬁt will be as per the Cover Option chosen by you'),\n",
       " Document(metadata={'source': 'invest4g_Product_Brochure.pdf', 'page': 11}, page_content='5 5,00,000 - 3 ,128 29,83,663 8,357 - - 2 9,92,021\\n6 5,00,000 - 2 ,250 37 ,08,99 4 - - - 37 ,08,99 4\\n7 5,00,000 - 1 ,158 44,72,412 - - - 44 ,72,412\\n8 5,00,000 - 5 5 2,85,273 - - - 52,85,273\\n9 5,00,000 - - 61,49,286 - - - 61,49,286\\n10 5,00,000 - - 70 ,67,664 2 5,95 3 1 ,03,814 - 71 ,97,431\\n11 5,00,000 - - 81,81,759 - - - 81,81,759\\n12 5,00,000 - - 92,28,020 - - - 92,28,020\\n13 5,00,000 - - 1 ,03,40,114 - - - 1 ,03,40,114\\n14 5,00,000 - - 1 ,15,22,181 - - - 1 ,15,22,181\\n15 5,00,000 - - 1 ,27,78,625 5 0,623 3 ,79,672 - 1 ,32,08,920\\n16 - - - 1 ,40,40,033 - - - 1 ,40,40,033\\n17 - - - 1 ,49,23,442 - - - 1 ,49,23,442\\n18 - - - 1 ,58,6 2,434 - - - 1 ,58,6 2,434\\n19 - - - 1 ,68,6 0,509 - - - 1 ,68,6 0,509\\n20 - - - 1 ,79,21,384 - 6,96,8 17 24 ,613 1 ,86,42,814\\nPolicy\\nYearAnnual\\nPremiumPolicy\\nAdmin\\nChargeMortality\\nChargeFund Value\\nBefore\\nAdditionsLoyalty\\nAdditionsWealt h\\nBoostersReturn of\\nMortality\\nChargeFund Value \\nafter Additions\\n1 5,00,000 - 5,136 5, 05,640 - - - 5,05,640\\n2 5,00,000 - 4 ,828 10,23,556 - - - 10,23,556\\n3 5,00,000 - 4 ,467 1 5,54,102 - - - 15,54,102\\n4 5,00,000 - 4 ,039 20,97,656 - - - 20,97,656\\n5 5, 00,000 - 3 ,522 2 6,54,631 7 ,764 - - 26,62,395\\n6 5, 00,000 - 2 ,881 32 ,33,437 - - - 32,33,437\\n7 5,00,000 - 2 ,117 3 8,18,841 - - - 38,18,841\\n8 5, 00,000 - 1 ,189 44,19,143 - - - 44,19,143\\n9 5, 00,000 - 65 5 0,34,927 - - - 50,34,927\\n10 5,00,000 - - 56,65, 292 21 ,940 87,760 - 57,74,993\\n11 5,00,000 - - 64,22,789 - - - 64,22,789\\n12 5,00,000 - - 70 ,85,8 43 - - - 70,85,8 43\\n13 5,00,000 - - 77 ,64,514 - - - 77,64,514\\n14 5,00,000 - - 84,59,170 - - - 84,59,170\\n15 5, 00,000 - - 91,70,188 38,490 2 ,88,6 79 - 94,97,357\\n16 - - - 97,21,050 - - - 97,21,050\\n17 - - - 99,5 0,012 - - - 99,5 0,012\\n18 - - - 1 ,01,84,367 - - - 1 ,01,84,367\\n19 - - - 1 ,04,24,242 - - - 1 ,04,24,242• At 4% p.a. Fund Growth Rate'),\n",
       " Document(metadata={'source': 'invest4g_Product_Brochure.pdf', 'page': 8}, page_content='upon payment of such beneﬁt.\\nC. Cover Option 3 - Century Option: In case the Life Assured survives till the maturity of the Policy, Fund Value as \\non the date of maturity is payable and the Policy will terminate upon payment of such beneﬁt. Maturity date will be the Policy Anniversary on which he / she is 100 years age last birthday.\\nYou also have the option to receive Maturity Beneﬁt as a structured payout using Settlement Option under \\nLife Option and Care Option.\\nThe product oﬀers regular additions namely Loyalty Additions, Wealth Boosters and Return of Mortality Charge \\nwhich are expressed as a % of the fund value and explained in detail below.\\nThis plan oﬀers fund value related Loyalty Additions at the end of every 5th Policy Year starting from the commencement of the Policy i.e. 5th Policy Year, 10th Policy Year, 15th Policy year etc. till the end of the Premium Payment Term provided all the due premiums are received till that time. The Loyalty Additions for each Unit Linked Fund will be equal to a percentage of the average fund value of last 60 monthly policy anniversaries for the respective Unit Linked Fund. Loyalty Addition Percentage varies by the Unit Linked Fund as detailed in the table below.\\nLoyalty Additions will not be applicable for Single Premium policies\\nIn addition to the Loyalty Additions, this Plan oﬀers Wealth Boosters as per the table below, provided all \\ndue premiums have been received till the time of the additions. The Wealth Boosters for each Unit Linked Fund will be equal to a percentage of the average fund value of last 60 monthly policy anniversaries for the respective Unit'),\n",
       " Document(metadata={'source': 'invest4g_Product_Brochure.pdf', 'page': 22}, page_content='Charge s in this pl an\\nFund FMC  (p.a)\\nEmerging Leaders Equi ty Fund 1.35%\\nIndia  Multi Cap Equ ity Fund 1.35%\\nEquity II Fund 1.35%\\nGrowth Plus Fund 1.35%\\nBalancedPlus F und 1.35%\\nLarge Cap Advantage Fund 1.00 %\\nDebt Fund 1.00 %\\nLiquid Fund 0.80%\\nDiscontinued Policy F und (DPF) 0.50%\\nPolicy  is discontinue d \\ndurin g the policy  yearDiscontinuance  Charge s for Policies  havin g \\nAnnuali zed Premium  up to Rs. 50,000Discontinuance  Charge s for Policies  havin g \\nAnnuali zed Premium  above Rs. 50,000\\n1Lower of 2 0%*(APorFV)subjec t\\nto a maxim umofRs.3,000Lower of 6%*(AP orFV)subjec t\\nto a maxim umofRs.6,000\\n2Lower of 1 5%*(APorFV)subjec t\\nto a maxim umofRs.2,000Lower of 4%*(AP orFV)subjec t\\nto a maxim umofRs.5,000\\n3Lower of 1 0%*(APorFV)subjec t\\nto a maxim umofRs.1,500Lower of 3%*(AP orFV)subjec t\\nto a maxim umofRs.4,000D. Revival of a discontinued Policy or being made paid-up after the Lock-in Period (Revival of a Reduced Paid-up Policy):\\nIf you choose to revive the Reduced Paid-up Policy, the Policy can be revived restoring the original risk cover in accordance \\nwith the terms and conditions of the Policy. At the time of revival, the Company shall:\\ni. Collect all due and unpaid Premiums without charging any interest or fee. \\nii. No charges shall be levied at the time of the revival.\\nThe FMC on Discontinued Policy Fund shall be as declared by the Authority from time to time. Currently, the FMC for DPF \\nshall not exceed 0.50% per annum. The FMC on Debt Fund, Large Cap Advantage Fund and Liquid Fund may be revised up to 1.35% p.a., subject to prior approval of IRDAI. \\n4. Surrender/ Discontinuance Charges:  Surrender / Discontinuance Charges are levied on the Fund Value on account \\nof Surrender / Discontinuance of the Policy. The Surrender / Discontinuance charges for this product are stated \\nbelow:\\nFor Regular / Limited Premium policies:1. Premium Allocation Charges:  No Charge. \\n2. Policy Administration Charges:  No Charge'),\n",
       " Document(metadata={'source': 'invest4g_Product_Brochure.pdf', 'page': 3}, page_content='10 45 -\\n49 5\\n10 50 -\\n65 N/A\\n1.25 0 - 65 5 - 30\\nPremium Payin g\\nTerm (PPT)Single Pay\\nLimit edPay2:5toPT-1 years\\nRegular Pa y:Same as PTLimit edPay2:10 to PT-1 years\\nRegular Pa y:Same as PTLimit edPay2:10 to PT - 1\\nyears\\nRegular Pa y:Same as PT\\nSum Assure dSingle Pa y:1.25or 10 ti mes\\nSinglePremium4basis A geat\\nEntryLimit edPay\\n2/Regular Pay :10\\nX Annuali zedPremium3Limit edPay2/Reg ular Pay :10\\nX Annuali zedPremium3Limit edPay2/Reg ular Pay:\\n10 X Annuali zedPremium3\\nAnnuali zed\\nPremium3/Sin gle\\nPremium4Limit ed /Regular Pa y:Rs.\\n24,000 – No Li mit\\nSingle Pay:Rs. 1,00,000 – No\\nLimitLimit ed / Re gular Pay :Rs.\\n48,000 – No Li mitLimit ed/ Re gular Pa y:Rs.\\n48,000 – No Li mit\\nPremium Payment\\nMode5 Single,Annual , Sem i- Annual ,Quarterly and Monthly\\nNote:\\nHow Does Your Plan  Work?1. The deﬁnition of age used is age as on last birthday. The entry ages given above are only applicable for policies\\nissued with standard mortality rates.\\n2. Please note that PPT will always be lower than PT under Limited Premium Payment option.\\n3. Annualized Premium is the sum of total due Premium(s) in a Policy Year during Premium Payment Term that is\\nselected by the Policyholder.\\n4. Single Premium means the amount of premium payable by the Policyholder at the inception of the Policy.5. You may change your Premium Payment Mode anytime during the Policy Term by submitting a written request at\\nleast 60 days prior to the next Policy Anniversary. The change in Premium payment mode will be eﬀective only on\\nthe next Policy Anniversary. Change in Premium Payment Mode is not allowed post the death of Life Assured incase Care Option is chosen.\\n6. The Company may accept ﬁrst 3 month’s premiums in advance at Policy inception for monthly payment policies.'),\n",
       " Document(metadata={'source': 'invest4g_Product_Brochure.pdf', 'page': 2}, page_content='Cover  Options  that  you can choose\\nEligibility Conditi ons un der the plan\\nEligibility ConditionsCover  Opti on\\nLife Option Care  Option Century Option\\nEntry Age10 – 65 years 18 – 50 years 18 – 65 years\\nMaturity  Age 18 – 80 years 28 – 80 years Up till age 100 years\\nPolicy  Term\\n(in Years)For Limited Pay2 and Regular Pay\\n10 - 30 years  (inclusive ) 10 - 30 years  (inclusive ) 100 minus  Age at entry\\nFor Single Pay\\nCover\\nMulti pleAge at\\nEntry\\n(Years)Policy\\nTerm\\n(Years)\\n10 0 - 32 5 -30\\n10 33 -\\n38 5 - 20\\n10 39 -\\n44 5 - 10N/A N/AThe plan provides life risk coverage protection through diﬀerent Cover options to suit your needs. You can choose any \\none of the Cover Options as below and customize your plan.\\nCover Option 1- Life Option:   A simple option that provides life coverage the Policy Term and the accumulated fund value \\nof your savings at maturity .\\nUnder this option, higher of Sum Assured less partial withdrawals / withdrawals under Systematic Withdrawal Option / \\nwithdrawals under Milestone Withdrawal Option (in preceding two years) or Fund Value, subject to 105% of all \\nPremiums paid, is payable on death of the Life Assured. In case the Life Assured survives till the maturity of the Policy, \\nthe Fund value is payable at that point in time and the Policy will terminate.\\nCover Option 2: Care Option:  Option that provides life coverage and ensures that your savings contributions are made \\neven in your absence by means of ‘Premium Funding Beneﬁt’ , thus ensuring a secure future for your dependents.\\nUnder this option, lump sum (higher of Sum Assured or 105% of all Premiums paid) is paid on death of the Life Assured \\nand remaining future premiums as and when due are funded by the Company. The Fund Value is payable on maturity of \\nthe Policy. Please note that Sum Assured payable on death under this beneﬁt option is not reduced by the partial \\nwithdrawals / withdrawals under Systematic Withdrawal Option / withdrawals under Milestone Withdrawals Option \\nmade by the Life Assured prior to his / her death.'),\n",
       " Document(metadata={'source': 'invest4g_Product_Brochure.pdf', 'page': 2}, page_content='withdrawals / withdrawals under Systematic Withdrawal Option / withdrawals under Milestone Withdrawals Option \\nmade by the Life Assured prior to his / her death.\\nCover Option 3: Century Option:  Option that will cover you till you turn 100! And also allows you to leave a legacy for your \\nloved ones.\\nUnder this option, higher of Sum Assured less partial withdrawals / withdrawals under Systematic Withdrawal Option / \\nwithdrawals under Milestone Withdrawals Option (in preceding two years) or Fund Value, subject to 105% of all \\nPremiums paid, is payable on death of the Life Assured. In case the Life Assured survives till the policy anniversary on \\nwhich the Life Assured turns 100 years (age last birthday), the Fund value is payable at that point in time and the Policy \\nwill terminate.  \\nPlease note that you can choose a Cover Option at inception stage only. Once chosen it cannot be changed later during \\nthe Policy Term. The details of death beneﬁt under each of these cover options is given under beneﬁt section.'),\n",
       " Document(metadata={'source': 'invest4g_Product_Brochure.pdf', 'page': 25}, page_content='Exclusions\\nSuicide exclusion: In case of death due to suicide within 12 months from the date of commencement of the Policy or \\nfrom t he date of the revival of the Policy, the nominee of the Policyholder shall be entitled to Fund Value, as available \\non \\nthe date of intimation of death. Further, any charges other than Fund Management Charges recovered subsequent \\nto the date of death of the Life Assured shall be added back to the Fund Value as available on the date of intimation of \\ndeath. The Policy will terminate upon payment of such beneﬁt amount under all the Cover Options available under the \\nproduct.\\nOther Term\\ns & Conditions\\n1. Where Life Assured is a minor: Where the Policy has been issued on the life of a minor, the Life Assured (i.e. the \\nminor in this case) and the Policyholder will be diﬀerent at the date of commencement of the Policy. The risk cover \\nof the Life Assured shall start immediately from the date of commencement of the Policy. The Policy shall automatically vest on the Life Assured immediately on his / her date of completion of 18 years of age and the Life Assured would be the holder of the Policy from such date, subject to assignment, if any. Till such time that the Life Assured and the Policyholder are diﬀerent, all beneﬁts (death and survival) are linked to the life of the Life Assured and there is no contingency on the life of the Policyholder. In the event of death of the Life Assured in minority, all the proceeds under the Policy would go to the Policyholder and the Policy will terminate.\\n2. Free-Look Option:  If the Policyholder does not agree with the terms and conditions of the Policy, he / she shall have \\nthe option to request for cancellation of the Policy by returning the original Policy Document along with a written request stating the reasons for non-acceptance to the Company within the free-look period of 15 days (30 days in case the Policy is sourced through Distance Marketing Mode) from the date of receipt of the Policy Document.'),\n",
       " Document(metadata={'source': 'invest4g_Product_Brochure.pdf', 'page': 21}, page_content='Until the expiry of Grace Period, the Policy is deemed to be in-force with beneﬁts and applicable charges continuing as per \\nterms and conditions of the Policy. \\nFor an in force Policy, if a surrender request is received within the ﬁrst 5 policy years, the Fund Value after deduction of \\napplicable Surrender Charges is transferred to the DPF and the proceeds of discontinued policy shall be refunded to the Policyholder only after completion of Lock-in Period.\\nF. Discontinuance of Policy after the Lock-in Period (after ﬁrst ﬁve years):\\nIf the Premium is not received by the expiry of the Grace Period, the Policy shall be converted into a Reduced Paid-up \\nPolicy, with the Paid-up Sum Assured. The Policy shall continue to be in Reduced Paid-up status. All applicable charges \\nas per terms and conditions of the Policy shall be deducted during the Revival Period. Upon such Discontinuance, the Company shall communicate the status of the policy within 3 months of the ﬁrst unpaid premium, to the Policyholder and provide the following options:\\n1) Revive the Policy within the Revival Period;\\n2) Complete withdrawal of the Policy\\ni. In case the Policyholder opts for F (1) above but does not revive the Policy during the Revival Period, the Fund \\nValue shall be paid to the Policyholder at the end of the Revival Period or at the end of the Policy Term, whichever \\nis earlier and the Policy will terminate upon such payment.\\nii. In case the Policyholder does not exercise any of the options as set out above, the Policy shall continue to be in\\nReduced Paid-up status. The Fund Value shall be paid to the Policyholder at the end of the Revival Period or at the end of the Policy Term, whichever is earlier and the Policy will terminate upon such payment.\\niii. However, the Policyholder has an option to surrender the Policy anytime and Fund Value shall be payable.\\nUntil the expiry of Grace Period, the Policy is deemed to be in-force with beneﬁts and applicable charges \\ncontinuing as per terms and conditions of the Policy.'),\n",
       " Document(metadata={'source': 'invest4g_Product_Brochure.pdf', 'page': 21}, page_content='Until the expiry of Grace Period, the Policy is deemed to be in-force with beneﬁts and applicable charges \\ncontinuing as per terms and conditions of the Policy. \\nFor an in force Policy, if a surrender request is received post 5 policy years, the Fund Value shall be payable.\\n3. Policy Revival\\nA. Revival:\\nIn case of Discontinuance of the Policy due to non-payment of due premium(s), you can apply for revival of such a \\nPolicy by paying all due and unpaid Premiums, within the Revival Period. The Company can revive the Policy either on \\nits original or modiﬁed terms and conditions as per underwriting decision.\\nB. Revival Period:\\nIt means a period of 3 consecutive years from the date of ﬁrst unpaid premium, during which period you will be \\nentitled to revive the Policy which was discontinued due to the non-payment of Premium. \\nThe Policy shall be revived subject to the conditions mentioned below:\\ni. A Policy can be revived any time before the end of the Policy Term and within the Revival Periodii. Revival shall be subject to underwriting as per Company’s Board Approved Underwriting Policy.iii. The revival of the Policy will be eﬀective only after Company’s approval is communicated.\\nC. Revival of a discontinued Policy during the Lock-in Period:\\nIf you choose to revive a discontinued Policy, the Policy can be revived by restoring the risk cover along with the \\ninvestments made in the Unit Linked Funds as chosen by you, out of the Discontinued Policy Fund. At the time of \\nrevival, the Company shall:\\ni. Collect all due and unpaid Premiums without charging any interest or fee. \\nii. No charges shall be levied at the time of the revival iii. Add back to the Fund Value, the discontinuance charges deducted at the time of discontinuance of the Policy.'),\n",
       " Document(metadata={'source': 'invest4g_Product_Brochure.pdf', 'page': 1}, page_content='Key Features\\n\\uf06c\\uf06c\\n\\uf06c\\n\\uf06c\\uf06c\\n\\uf06c\\n\\uf06c\\n\\uf06c\\n\\uf06c\\n\\uf06c\\n\\uf06c\\n\\uf06cCanara HSBC Life Insurance Invest 4G  \\nA Unit Linked Individual Life Insurance Savings Plan\\nYou always work hard towards the very best in your life. Never settling for the second best option is your signature. So, \\nfor a valued customer like you, ﬁnancial protection and ﬁnancial planning for your loved ones has to be the very best. This plan provides life insurance cover to protect your family in case of your unfortunate demise as well as provides you with the greatest value for your hard earned savings. No matter at what life stage you are; a youngster just getting into the habit of savings, a family man planning for creating a secure future for his kids, planning for your own golden years or even for creating a legacy after you and at the same time safeguarding your wealth so that your personal ﬁnancial goals are met even in case you are not around. We have a solution for you.\\nPresenting Canara HSBC Life Insurance Invest 4G plan - A Unit Linked Individual Life Insurance Savings Plan which you \\ncan customize as per your goals and changing requirements. With an unmatched combination of Portfolio \\nManagement Options \\nand ﬂexibilities, this plan gives you complete control over your savings and insurance needs. \\nThis product is a non-participating product. \\nFinancial Protection for your loved ones with life insurance: Three Cover Options to choose from namely \\n‘Life Option’, ‘Care Option’ or ‘Century Option’ for diﬀerent life stages\\nLow Charges: Maximize your savings opportunity. Only Fund Management Charges and Risk Charges^ levied on your Policy\\nReturn of Mortality Charges (RoMC): Mortality Charges deducted during the Policy Term for Regular and \\nLimited Premium Paying policies will be added to the Fund Value at maturity \\nPremium Funding Beneﬁt: To ensure your targeted savings contributions are made even in your absenceAdditions in the fund to maximize the beneﬁts:\\n  \\n\\uf06c   Loyalty Additions from end of 5th Policy Year from the date of commencement and every 5th Policy Year'),\n",
       " Document(metadata={'source': 'invest4g_Product_Brochure.pdf', 'page': 9}, page_content='Linked Fund as detailed below. In case Premium Reduction option is exercised, Wealth Boosters post \\npremium reduction will be credited in a similar manner according to the then prevailing Annualized Premium. \\nFor Limited Premium policies with PPT less than 10 years (including Single Pay):\\nWhen Emerging Leaders Equity Fund, India Multi Cap Equity Fund, Equity II Fund, Growth Plus Fund & \\nBalanced Plus Fund are chosen: \\nWhen Large Cap Advantage Fund, Debt Fund & Liquid Fund are chosen: \\nFor Regular / Limited Premium policies with PPT greater than or equal to 10 years:\\nWhen Emerging Leaders Equity Fund, India Multi Cap Equity Fund, Equity II Fund, Growth Plus Fund & Balanced Plus Fund are chosen: 50,000\\nLess than 50,000')]"
      ]
     },
     "execution_count": 80,
     "metadata": {},
     "output_type": "execute_result"
    }
   ],
   "source": [
    "unique_docs"
   ]
  },
  {
   "cell_type": "code",
   "execution_count": 1,
   "id": "b2fecd6d-d690-4c60-833b-197d993f5233",
   "metadata": {},
   "outputs": [
    {
     "ename": "NameError",
     "evalue": "name 'ChatPromptTemplate' is not defined",
     "output_type": "error",
     "traceback": [
      "\u001b[0;31m---------------------------------------------------------------------------\u001b[0m",
      "\u001b[0;31mNameError\u001b[0m                                 Traceback (most recent call last)",
      "Cell \u001b[0;32mIn[1], line 1\u001b[0m\n\u001b[0;32m----> 1\u001b[0m prompt \u001b[38;5;241m=\u001b[39m ChatPromptTemplate\u001b[38;5;241m.\u001b[39mfrom_messages(\n\u001b[1;32m      2\u001b[0m     [\n\u001b[1;32m      3\u001b[0m         (\u001b[38;5;124m\"\u001b[39m\u001b[38;5;124msystem\u001b[39m\u001b[38;5;124m\"\u001b[39m, system_prompt11),\n\u001b[1;32m      4\u001b[0m         (\u001b[38;5;124m\"\u001b[39m\u001b[38;5;124mhuman\u001b[39m\u001b[38;5;124m\"\u001b[39m, \u001b[38;5;124m\"\u001b[39m\u001b[38;5;132;01m{input}\u001b[39;00m\u001b[38;5;124m\"\u001b[39m),\n\u001b[1;32m      5\u001b[0m     ]\n\u001b[1;32m      6\u001b[0m )\n\u001b[1;32m      8\u001b[0m question_answer_chain \u001b[38;5;241m=\u001b[39m create_stuff_documents_chain(llm, prompt)\n\u001b[1;32m      9\u001b[0m rag_chain \u001b[38;5;241m=\u001b[39m create_retrieval_chain(retriever_from_llm, question_answer_chain)\n",
      "\u001b[0;31mNameError\u001b[0m: name 'ChatPromptTemplate' is not defined"
     ]
    }
   ],
   "source": [
    "prompt = ChatPromptTemplate.from_messages(\n",
    "    [\n",
    "        (\"system\", system_prompt11),\n",
    "        (\"human\", \"{input}\"),\n",
    "    ]\n",
    ")\n",
    "\n",
    "question_answer_chain = create_stuff_documents_chain(llm, prompt)\n",
    "rag_chain = create_retrieval_chain(retriever_from_llm, question_answer_chain)"
   ]
  },
  {
   "cell_type": "code",
   "execution_count": 84,
   "id": "2f78e360-011c-421b-b796-da125db403c7",
   "metadata": {},
   "outputs": [
    {
     "name": "stderr",
     "output_type": "stream",
     "text": [
      "INFO:langchain.retrievers.multi_query:Generated queries: ['Here are three different versions of the user question to retrieve relevant documents from a vector database:', 'Version 1:', 'What are some real-life examples of individuals aged 40 who have experienced maturity benefits from purchasing life insurance policies with coverage options, specifically \"Cover Option 1\" or \"Life Option\", that can be used as case studies for understanding policy terms and age-related benefits?', 'Version 2:', 'Can you provide examples of policy holders who have achieved significant maturity benefits at the age of 40, particularly those related to \"Cover Option 1\" or \"Life Option\", that demonstrate how this type of insurance can deliver tangible benefits to individuals in this demographic?', 'Version 3:', 'I\\'m looking for concrete illustrations of how a 40-year-old individual with a specific interest in \"Cover Option 1\" (or \"Life Option\") life insurance policies can benefit from policy maturity, which can be used as a teaching tool to explain the advantages and implications of purchasing such insurance at this age?']\n"
     ]
    },
    {
     "name": "stdout",
     "output_type": "stream",
     "text": [
      "Let's consider an example to illustrate the maturity benefit of a Cover Option 1 (Life Option) policy, specifically a 20-year term life insurance policy with a 10% annual premium increase. Please note that this is a hypothetical example and actual policy terms may vary.\n",
      "\n",
      "**Policy Details:**\n",
      "\n",
      "* **Age at Entry:** 30 years\n",
      "* **Term Policy Duration:** 20 years (i.e., the policy will be in force until age 50)\n",
      "* **Premium Payment Term:** Same as the term policy duration, i.e., 20 years\n",
      "* **Annual Premium Increase Rate:** 10%\n",
      "* **Maturity Benefit:** This is where we get to the Cover Option 1 benefit\n",
      "\n",
      "Assuming a single premium of ₹100,000 (approximately $1,300 USD) at age 30:\n",
      "\n",
      "**Calculations:**\n",
      "\n",
      "Year | Premium | Total Paid |\n",
      " ---|---------|------------|\n",
      "1   | ₹100,000|₹ 100,000  |\n",
      "2   | ₹110,000|₹ 210,000  |\n",
      "3   | ₹121,000|₹ 331,000  |\n",
      "...| ...    | ...       |\n",
      "20  | ₹441,000|₹ 8,621,000|\n",
      "\n",
      "Assuming a return of premium (ROP) rider with Cover Option 1 (Life Option), the maturity benefit at age 50 would be:\n",
      "\n",
      "**Maturity Benefit Calculation:**\n",
      "\n",
      "Total Paid Premiums = ₹ 8,621,000\n",
      "\n",
      "Assuming an interest rate of around 5% compounded annually for the duration of the policy (20 years):\n",
      "\n",
      "Maturity Benefit = Total Paid Premiums + Interest Accrued\n",
      "= ₹ 8,621,000 + (₹ 8,621,000 \\* 0.05)\n",
      "≈ ₹ 9,105,550\n",
      "\n",
      "**Understanding the Maturity Benefit:**\n",
      "\n",
      "The maturity benefit is approximately ₹ 9,105,550 at age 50.\n",
      "\n",
      "In this example:\n",
      "\n",
      "1.  The policyholder paid a total of ₹ 8,621,000 in premiums over 20 years.\n",
      "2.  With an interest rate applied to these premiums (5% in this case), the maturity benefit increased to ₹ 9,105,550.\n",
      "3.  This means that if the policyholder were to receive all their premiums back at age 50 (which is not typically how life insurance works but illustrates the concept), they would receive a total of approximately ₹ 9,105,550.\n",
      "\n",
      "The Cover Option 1 benefit here demonstrates:\n",
      "\n",
      "*   **Life Option**: In case the insured passes away during the term of the policy, his or her nominee receives the maturity benefit. This example shows that even if the person dies before reaching age 50 (or the end of the term), their family would still receive a substantial amount.\n",
      "*   **Return of Premiums (ROP)**: The policy also provides for an ROP rider, meaning that if the insured survives the entire term and doesn't make any claims, they get all their premiums back at the end of the policy term.\n"
     ]
    }
   ],
   "source": [
    "question=\"what is the policy term for the person aged 34 who opts life option\"\n",
    "question1=\"give me an example for a particular age and polciy term of 40 years through which i can understand the maturity benefit of Cover option1(life option)\"\n",
    "question2=\"give me an example of a 40 year old person who chooses the Cover option1(life option) under this plan and what will be the maturity benefit\"\n",
    "relv_docs=db.similarity_search_with_score(question1,k=4)\n",
    "docs_dist=[doc[1] for doc in relv_docs]\n",
    "threshold=0.9\n",
    "min_dist=min(docs_dist)\n",
    "if min_dist<=threshold:\n",
    "    result = rag_chain.invoke({\"input\": question1})\n",
    "    print(result['answer'])\n",
    "else:\n",
    "    print(\"Question is not relevant to the product, please ask a relevant question\")"
   ]
  },
  {
   "cell_type": "code",
   "execution_count": 89,
   "id": "5e215f7d-b63c-4ff4-bdd4-6eca5aa799b1",
   "metadata": {},
   "outputs": [
    {
     "data": {
      "text/plain": [
       "14"
      ]
     },
     "execution_count": 89,
     "metadata": {},
     "output_type": "execute_result"
    }
   ],
   "source": [
    "len(result['context'])"
   ]
  },
  {
   "cell_type": "code",
   "execution_count": 85,
   "id": "a7df3e89-3634-4f5e-9d38-f694344e271f",
   "metadata": {},
   "outputs": [
    {
     "name": "stdout",
     "output_type": "stream",
     "text": [
      "Question is not relevant to the product, please ask a relevant question\n"
     ]
    }
   ],
   "source": [
    "question=\"what is the policy term for the person aged 34 who opts life option\"\n",
    "question1=\"give me an example for a particular age and polciy term of 40 years through which i can understand the maturity benefit of Cover option1(life option)\"\n",
    "question2=\"give me an example of a 40 year old person who chooses the Cover option1(life option) under this plan and what will be the maturity benefit\"\n",
    "question3=\"how many r's are in strawberry?\"\n",
    "relv_docs=db.similarity_search_with_score(question3,k=4)\n",
    "docs_dist=[doc[1] for doc in relv_docs]\n",
    "threshold=0.9\n",
    "min_dist=min(docs_dist)\n",
    "if min_dist<=threshold:\n",
    "    result = rag_chain.invoke({\"input\": question3})\n",
    "    print(result['answer'])\n",
    "else:\n",
    "    print(\"Question is not relevant to the product, please ask a relevant question\")"
   ]
  },
  {
   "cell_type": "code",
   "execution_count": 45,
   "id": "57fff605-5bb9-4326-b5c3-345182b7ce00",
   "metadata": {},
   "outputs": [
    {
     "name": "stdout",
     "output_type": "stream",
     "text": [
      "Let's consider an example to illustrate the concept of maturity benefit through a Cover Option (also known as Life Option) over a period of 25 years, not 50 years. However, this will give you an idea how it works.\n",
      "\n",
      "**Assumptions:**\n",
      "\n",
      "- The age is 30 years for both options.\n",
      "- Policy term is 25 years.\n",
      "- Premium paid annually.\n",
      "- Maturity benefit and the option to have a life cover (through Cover Option) are included in the policy.\n",
      "\n",
      "**Policy Details:**\n",
      "\n",
      "- **Option 1 (Life Option):** This option offers a maturity benefit of 10 times the premium paid at the end of the term, provided that the policyholder is alive. Additionally, this option includes a life cover for the entire duration of the policy.\n",
      "\n",
      "- **Option 2:** This is a basic insurance plan without any maturity benefit or life cover component.\n",
      "\n",
      "**Premium Calculation:**\n",
      "\n",
      "For simplicity, let's say the annual premium for both options (without any additional riders) at age 30 is Rs. 20,000 each.\n",
      "\n",
      "**Example Over 25 Years:**\n",
      "\n",
      "- **Option 1 (Life Option):**\n",
      "    - Annual Premium: Rs. 20,000\n",
      "    - Policy Term: 25 years\n",
      "    - Maturity Benefit: 10 times the annual premium, i.e., 10 * Rs. 20,000 = Rs. 2,00,000 at the end of 25 years.\n",
      "    - Life Cover: Equivalent to 1 year’s premium or Rs. 20,000.\n",
      "\n",
      "- **Option 2 (Basic Insurance):**\n",
      "    - Annual Premium: Rs. 20,000\n",
      "    - Policy Term: 25 years\n",
      "    - Benefit: Only death cover, no maturity benefit\n",
      "\n",
      "**Illustration Over a Period of 25 Years for an Individual Starting at Age 30:**\n",
      "\n",
      "Let’s say the policyholder pays the premium annually and survives the term.\n",
      "\n",
      "- **At End of Year 5:** The total premiums paid would be Rs. 1,20,000 (Rs. 24,000 per year for 5 years), but since this is a hypothetical scenario, let's simplify it by considering how these premiums are distributed over the period.\n",
      "\n",
      "- **Assuming an Interest Rate of around 6% pa:** For simplicity in understanding, if we consider that the premium money paid in each year (Rs. 20,000) grows at this rate and gets compounded annually, after 25 years, you might be able to see how the life insurance component of option 1 benefits.\n",
      "\n",
      "However, since calculating the exact growth with interest over 25 years is complex and can change based on numerous factors including inflation, interest rates etc., let’s simplify it for a better understanding:\n",
      "\n",
      "- **Simplified Maturity Benefit Example:** At the end of 25 years, assuming an annual growth rate similar to that of a savings account (though life insurance is generally more complex), if the Rs. 20,000 each year were invested at this rate and compounded annually, the total could be roughly equivalent to about Rs. 4 lakhs at the end of the term.\n",
      "\n",
      "This does not take into consideration any returns on investment (ROI) or interest that would apply over such a period in real-world scenarios with insurance policies and savings accounts. However, it gives you an idea of how saving can potentially compound over time when invested wisely.\n",
      "\n",
      "The concept we're trying to understand here is that the life cover option in your policy allows for a maturity benefit at the end of the term, alongside the death benefit, making your premium payments work harder towards creating wealth and providing financial protection beyond just the life insurance component.\n"
     ]
    }
   ],
   "source": [
    "question=\"what is the policy term for the person aged 34 who opts life option\"\n",
    "question1=\"give me an example for a particular age and polciy term of 50 years through which i can understand the maturity benefit of Cover option1(life option)\"\n",
    "question2=\"give me an example of a 40 year old person who chooses the Cover option1(life option) under this plan and what will be the maturity benefit\"\n",
    "relv_docs=db.similarity_search_with_score(question1,k=4)\n",
    "docs_dist=[doc[1] for doc in relv_docs]\n",
    "threshold=0.9\n",
    "min_dist=min(docs_dist)\n",
    "if min_dist<=threshold:\n",
    "    result = rag_chain.invoke({\"input\": question1})\n",
    "    print(result['answer'])\n",
    "else:\n",
    "    print(\"Question is not relevant to the product, please ask a relevant question\")"
   ]
  },
  {
   "cell_type": "code",
   "execution_count": 69,
   "id": "5efc0d41-353d-4961-80de-f2d70344926f",
   "metadata": {},
   "outputs": [
    {
     "name": "stdout",
     "output_type": "stream",
     "text": [
      "Let's consider an example:\n",
      "\n",
      "**Policy Term:** 20 years\n",
      "**Premium Payment:** Single Premium ( paid at the beginning)\n",
      "**Age:** 30 years old\n",
      "**Policy Benefits:**\n",
      "\n",
      "* Sum Assured: Rs. 10,00,000 (this is the maximum payout in case of death or maturity)\n",
      "* Cover Option 1 (Life Option): This option provides a maturity benefit of 100% of the Sum Assured if the policyholder survives the term.\n",
      "* Maturity Benefit: 50% of the Sum Assured (in this example) + Simple Interest (SI) on the premium paid\n",
      "\n",
      "**Premium Paid:** Rs. 2,00,000 (Single Premium)\n",
      "\n",
      "Now, let's calculate the maturity benefit:\n",
      "\n",
      "**Maturity Benefit Calculation:**\n",
      "\n",
      "1. Simple Interest (SI) on the premium paid:\n",
      "\t* Principal = Rs. 2,00,000\n",
      "\t* Rate of interest = 6% per annum (assumed)\n",
      "\t* Time period = 20 years\n",
      "\t* SI = (Principal × Rate of interest × Time period) / 100\n",
      "\t= (200000 × 0.06 × 20) / 100\n",
      "\t= Rs. 24,000\n",
      "2. Maturity Benefit:\n",
      "\t* Sum Assured = Rs. 10,00,000\n",
      "\t* Maturity benefit = 50% of the Sum Assured + SI\n",
      "\t= (50/100 × 1000000) + 24000\n",
      "\t= Rs. 5,00,000 + Rs. 24,000\n",
      "\t= Rs. 5,24,000\n",
      "\n",
      "In this example, if the policyholder survives the 20-year term and pays a single premium of Rs. 2,00,000, they will receive a maturity benefit of Rs. 5,24,000 at age 50.\n",
      "\n",
      "Now, let's consider two scenarios:\n",
      "\n",
      "**Scenario 1:** If the policyholder takes out another policy for the same term (20 years) but pays premiums annually, instead of a single premium payment. The total premium paid over 20 years would be approximately Rs. 9,49,000 (using an assumed interest rate).\n",
      "\n",
      "**Scenario 2:** In this example, we only have one payment made upfront and no additional payments are required to achieve the maturity amount of Rs. 5,24,000.\n",
      "\n",
      "By choosing Cover Option 1 (Life Option), the policyholder achieves a maturity benefit that is equivalent to approximately 50% of the Sum Assured + interest on the premium paid over the term, without requiring any further premium payments.\n",
      "\n",
      "This example illustrates how the maturity benefit can grow significantly when you opt for cover option 1 and pay premiums at the beginning rather than making annual payments.\n"
     ]
    }
   ],
   "source": [
    "question=\"what is the policy term for the person aged 34 who opts life option\"\n",
    "question1=\"give me an example for any particular age and a polciy term of 50 years through which i can understand the maturity benefit of Cover option1(life option)\"\n",
    "question2=\"give me an example of a 40 year old person who chooses the Cover option1(life option) under this plan and what will be the maturity benefit\"\n",
    "relv_docs=db.similarity_search_with_score(question1,k=4)\n",
    "docs_dist=[doc[1] for doc in relv_docs]\n",
    "threshold=0.9\n",
    "min_dist=min(docs_dist)\n",
    "if min_dist<=threshold:\n",
    "    result = rag_chain.invoke({\"input\": question1})\n",
    "    print(result['answer'])\n",
    "else:\n",
    "    print(\"Question is not relevant to the product, please ask a relevant question\")"
   ]
  },
  {
   "cell_type": "code",
   "execution_count": 67,
   "id": "401bc7c5-b6d6-4ae7-8818-8b4d06172d4f",
   "metadata": {},
   "outputs": [
    {
     "data": {
      "text/plain": [
       "[Document(metadata={'source': 'invest4g_Product_Brochure.pdf', 'page': 5}, page_content='Annual  Premium  \\n(`)Sum AssuredTotal  Premiums Paid \\n(`)Total  Maturity  Benefit (`)\\n(Fund Valu e) at the end of 15 years\\n4%##8%##\\n11,15,305 15,46,869\\n22,44,078 31,11,471\\n33,66,117 4 6,67,206\\nDeat hBenefit : In case of Amit ’s unfortunate deathat the en dof 5thpolicy yea r:\\n\\uf0d8\\n\\uf0d8\\n\\uf0d8\\nAnnual  PremiumTotal future \\nPremium  funded by \\nthe Company  (`)Total  Maturity  Beneﬁt (`)\\n(Fund Value) at the end of 15 \\nyears\\n4%##8%##\\n11,23,963 15,61,458\\n22,61,694 31,40,996\\n33,92,541 47,11,494\\nIllustrative Example 3:  Mrs. Singh, age 40 years, is a successful business woman and an intelligent investor having \\ninvestments in diﬀerent instruments. She chooses Cover Option 1 (Life Option) under this plan, to pay annual premium for a period of 10 years and a Policy Term of 10 years as shown below. \\nMaturity Beneﬁt: The table below shows fund values for multiple scenarios assuming annual gross investment \\nreturn of 4% and 8% with 100% investment in Balanced Plus Fund.Lump sum (higher of Sum Assured or 105% of all Premiums paid up to the date of death) is paid on death – to take care of any immediate liabilities on the family.\\nRemaining future premiums as and when due would be funded by the Company - ensuring that Rahul’s \\nsavings for his desired goal continues uninterrupted. \\nThe Fund Value would be paid on maturity of the Policy.\\nIllustrative Example 4:  Mr. Rajpal, age 40 years,  chooses Cover Option 3 (Century Option) under this plan, to pay \\nannual premiums for a period of 20 years as shown below. Maturity Beneﬁt: The table below shows fund values for multiple scenarios at age 100 years assuming annual \\ngross investment return of 4% and 8% with 100% investment in Balanced Plus Fund.Annual  Premium Sum AssuredTotal  Maturity  Beneﬁ t (`)\\n(Fund Valu e) at the end of 10 years\\n4%##8%##\\n10,00,000 1 ,00,00,000 1 ,00,00,000 1 ,16,02,869 1,44,37,592\\n20,00,000 2,00,00,000 2,00,00,000 2,32,05,737 2,88,75,184\\n50,00,000 5,00,00,000 5,00,00,000 5,80,14,343 7 ,21,87,959Total  Premiums Paid \\n(`)(`) (`)(`)\\n(`)Lump Sum paid'),\n",
       " Document(metadata={'source': 'invest4g_Product_Brochure.pdf', 'page': 2}, page_content='Cover  Options  that  you can choose\\nEligibility Conditi ons un der the plan\\nEligibility ConditionsCover  Opti on\\nLife Option Care  Option Century Option\\nEntry Age10 – 65 years 18 – 50 years 18 – 65 years\\nMaturity  Age 18 – 80 years 28 – 80 years Up till age 100 years\\nPolicy  Term\\n(in Years)For Limited Pay2 and Regular Pay\\n10 - 30 years  (inclusive ) 10 - 30 years  (inclusive ) 100 minus  Age at entry\\nFor Single Pay\\nCover\\nMulti pleAge at\\nEntry\\n(Years)Policy\\nTerm\\n(Years)\\n10 0 - 32 5 -30\\n10 33 -\\n38 5 - 20\\n10 39 -\\n44 5 - 10N/A N/AThe plan provides life risk coverage protection through diﬀerent Cover options to suit your needs. You can choose any \\none of the Cover Options as below and customize your plan.\\nCover Option 1- Life Option:   A simple option that provides life coverage the Policy Term and the accumulated fund value \\nof your savings at maturity .\\nUnder this option, higher of Sum Assured less partial withdrawals / withdrawals under Systematic Withdrawal Option / \\nwithdrawals under Milestone Withdrawal Option (in preceding two years) or Fund Value, subject to 105% of all \\nPremiums paid, is payable on death of the Life Assured. In case the Life Assured survives till the maturity of the Policy, \\nthe Fund value is payable at that point in time and the Policy will terminate.\\nCover Option 2: Care Option:  Option that provides life coverage and ensures that your savings contributions are made \\neven in your absence by means of ‘Premium Funding Beneﬁt’ , thus ensuring a secure future for your dependents.\\nUnder this option, lump sum (higher of Sum Assured or 105% of all Premiums paid) is paid on death of the Life Assured \\nand remaining future premiums as and when due are funded by the Company. The Fund Value is payable on maturity of \\nthe Policy. Please note that Sum Assured payable on death under this beneﬁt option is not reduced by the partial \\nwithdrawals / withdrawals under Systematic Withdrawal Option / withdrawals under Milestone Withdrawals Option \\nmade by the Life Assured prior to his / her death.'),\n",
       " Document(metadata={'source': 'invest4g_Product_Brochure.pdf', 'page': 2}, page_content='withdrawals / withdrawals under Systematic Withdrawal Option / withdrawals under Milestone Withdrawals Option \\nmade by the Life Assured prior to his / her death.\\nCover Option 3: Century Option:  Option that will cover you till you turn 100! And also allows you to leave a legacy for your \\nloved ones.\\nUnder this option, higher of Sum Assured less partial withdrawals / withdrawals under Systematic Withdrawal Option / \\nwithdrawals under Milestone Withdrawals Option (in preceding two years) or Fund Value, subject to 105% of all \\nPremiums paid, is payable on death of the Life Assured. In case the Life Assured survives till the policy anniversary on \\nwhich the Life Assured turns 100 years (age last birthday), the Fund value is payable at that point in time and the Policy \\nwill terminate.  \\nPlease note that you can choose a Cover Option at inception stage only. Once chosen it cannot be changed later during \\nthe Policy Term. The details of death beneﬁt under each of these cover options is given under beneﬁt section.'),\n",
       " Document(metadata={'source': 'invest4g_Product_Brochure.pdf', 'page': 8}, page_content='upon payment of such beneﬁt.\\nC. Cover Option 3 - Century Option: In case the Life Assured survives till the maturity of the Policy, Fund Value as \\non the date of maturity is payable and the Policy will terminate upon payment of such beneﬁt. Maturity date will be the Policy Anniversary on which he / she is 100 years age last birthday.\\nYou also have the option to receive Maturity Beneﬁt as a structured payout using Settlement Option under \\nLife Option and Care Option.\\nThe product oﬀers regular additions namely Loyalty Additions, Wealth Boosters and Return of Mortality Charge \\nwhich are expressed as a % of the fund value and explained in detail below.\\nThis plan oﬀers fund value related Loyalty Additions at the end of every 5th Policy Year starting from the commencement of the Policy i.e. 5th Policy Year, 10th Policy Year, 15th Policy year etc. till the end of the Premium Payment Term provided all the due premiums are received till that time. The Loyalty Additions for each Unit Linked Fund will be equal to a percentage of the average fund value of last 60 monthly policy anniversaries for the respective Unit Linked Fund. Loyalty Addition Percentage varies by the Unit Linked Fund as detailed in the table below.\\nLoyalty Additions will not be applicable for Single Premium policies\\nIn addition to the Loyalty Additions, this Plan oﬀers Wealth Boosters as per the table below, provided all \\ndue premiums have been received till the time of the additions. The Wealth Boosters for each Unit Linked Fund will be equal to a percentage of the average fund value of last 60 monthly policy anniversaries for the respective Unit'),\n",
       " Document(metadata={'source': 'invest4g_Product_Brochure.pdf', 'page': 25}, page_content='Exclusions\\nSuicide exclusion: In case of death due to suicide within 12 months from the date of commencement of the Policy or \\nfrom t he date of the revival of the Policy, the nominee of the Policyholder shall be entitled to Fund Value, as available \\non \\nthe date of intimation of death. Further, any charges other than Fund Management Charges recovered subsequent \\nto the date of death of the Life Assured shall be added back to the Fund Value as available on the date of intimation of \\ndeath. The Policy will terminate upon payment of such beneﬁt amount under all the Cover Options available under the \\nproduct.\\nOther Term\\ns & Conditions\\n1. Where Life Assured is a minor: Where the Policy has been issued on the life of a minor, the Life Assured (i.e. the \\nminor in this case) and the Policyholder will be diﬀerent at the date of commencement of the Policy. The risk cover \\nof the Life Assured shall start immediately from the date of commencement of the Policy. The Policy shall automatically vest on the Life Assured immediately on his / her date of completion of 18 years of age and the Life Assured would be the holder of the Policy from such date, subject to assignment, if any. Till such time that the Life Assured and the Policyholder are diﬀerent, all beneﬁts (death and survival) are linked to the life of the Life Assured and there is no contingency on the life of the Policyholder. In the event of death of the Life Assured in minority, all the proceeds under the Policy would go to the Policyholder and the Policy will terminate.\\n2. Free-Look Option:  If the Policyholder does not agree with the terms and conditions of the Policy, he / she shall have \\nthe option to request for cancellation of the Policy by returning the original Policy Document along with a written request stating the reasons for non-acceptance to the Company within the free-look period of 15 days (30 days in case the Policy is sourced through Distance Marketing Mode) from the date of receipt of the Policy Document.')]"
      ]
     },
     "execution_count": 67,
     "metadata": {},
     "output_type": "execute_result"
    }
   ],
   "source": [
    "result['context']"
   ]
  },
  {
   "cell_type": "code",
   "execution_count": 21,
   "id": "32067b19-1fb0-4ddc-aa38-b560151ae0a4",
   "metadata": {},
   "outputs": [
    {
     "name": "stdout",
     "output_type": "stream",
     "text": [
      "The Loyalty Additions and Wealth Boosters start from the end of the 5th Policy Year. \n",
      "\n",
      "For Loyalty Additions: They will be available from the end of every 5th Policy Year (i.e., 10th, 15th, 20th Policy Year etc.) till the end of Premium Paying Term.\n",
      "\n",
      "For Wealth Boosters: They are available at the end of the 10th Policy Year and every 5th Policy Year thereafter (i.e., 15th, 20th Policy year etc.) until the end of the Policy Term.\n"
     ]
    }
   ],
   "source": [
    "result = rag_chain.invoke({\"input\": 'When do the additions start in the policy, and what are the conditions for their availability? '})\n",
    "print(result['answer'])"
   ]
  },
  {
   "cell_type": "code",
   "execution_count": 15,
   "id": "e7461a57-63a4-48ac-abeb-d6e4ae344c80",
   "metadata": {},
   "outputs": [
    {
     "name": "stdout",
     "output_type": "stream",
     "text": [
      "The Loyalty Additions start from the end of the 5th Policy Year and every 5th Policy Year thereafter. Wealth Boosters also become available at the end of the 10th Policy Year and every 5th Policy Year (15th, 20th, etc.) thereafter until the end of the Policy Term.\n"
     ]
    }
   ],
   "source": [
    "result = rag_chain.invoke({\"input\": 'When do the additions start in the policy, and what are the conditions for their availability? '})\n",
    "print(result['answer'])"
   ]
  },
  {
   "cell_type": "code",
   "execution_count": 18,
   "id": "4f3371c0-ecc9-4583-812d-dc2015373d3a",
   "metadata": {},
   "outputs": [
    {
     "name": "stdout",
     "output_type": "stream",
     "text": [
      "The Loyalty Additions start from the end of the 5th policy year from the date of commencement and every 5th policy year thereafter (i.e., 10th, 15th, 20th policy year etc.) till the end of Premium Paying Term. \n",
      "\n",
      "Wealth Boosters are available at the end of the 10th policy year from the date of commencement and every 5th policy year i.e., 15th, 20th policy year etc. thereafter till the end of Policy Term.\n"
     ]
    }
   ],
   "source": [
    "result = rag_chain.invoke({\"input\": 'When do the additions start in the policy, and what are the conditions for their availability? '})\n",
    "print(result['answer'])"
   ]
  },
  {
   "cell_type": "code",
   "execution_count": 37,
   "id": "70978e5f-9cd2-443d-a2de-40b7f36c0f3c",
   "metadata": {},
   "outputs": [
    {
     "name": "stdout",
     "output_type": "stream",
     "text": [
      "I don't see a plan provided. This conversation just started, and I'm ready to assist you with whatever question or problem you may have. Please share the plan you're referring to, and I'll do my best to help you evaluate your options and find the best choice for your specific situation!\n"
     ]
    }
   ],
   "source": [
    "result = rag_chain.invoke({\"input\": 'which is the best option in this plan?'})\n",
    "print(result['answer'])"
   ]
  },
  {
   "cell_type": "code",
   "execution_count": 34,
   "id": "fcb7b531-107b-45b9-8677-6c9441c4a4ce",
   "metadata": {},
   "outputs": [
    {
     "name": "stdout",
     "output_type": "stream",
     "text": [
      "The first President of the United States of America was George Washington. He served from April 30, 1789 to March 4, 1797.\n",
      "\n",
      "Washington was a key figure in American history and played a leading role in the country's fight for independence from Great Britain during the American Revolutionary War (1775-1783). He presided over the Constitutional Convention in 1787, where the United States Constitution was drafted. After his election as President in 1789, he set important precedents for the executive branch of government and established many of the customs and traditions that continue to this day.\n",
      "\n",
      "Washington's leadership and integrity helped establish a strong foundation for the young American nation, and he is widely regarded as one of the most influential figures in American history.\n"
     ]
    }
   ],
   "source": [
    "result = rag_chain.invoke({\"input\": 'who is the first president of america?'})\n",
    "print(result['answer'])"
   ]
  },
  {
   "cell_type": "code",
   "execution_count": 37,
   "id": "3be84b5a-c602-4fbe-9f54-cc6fcfdfbed4",
   "metadata": {},
   "outputs": [
    {
     "name": "stdout",
     "output_type": "stream",
     "text": [
      "The word \"strawberry\" contains 2 instances of the letter R.\n"
     ]
    }
   ],
   "source": [
    "result = rag_chain.invoke({\"input\": \"what is the count of the letter r in strawberry?\"})\n",
    "print(result['answer'])"
   ]
  },
  {
   "cell_type": "code",
   "execution_count": 35,
   "id": "e99dc098-9a8b-43f1-9794-51cb056557d9",
   "metadata": {},
   "outputs": [
    {
     "name": "stdout",
     "output_type": "stream",
     "text": [
      "I don't know, please ask a relevant question related to life insurance products offered by Canara HSBC Life Insurance.\n"
     ]
    }
   ],
   "source": [
    "result = rag_chain.invoke({\"input\": 'what is the capital of India'})\n",
    "print(result['answer'])"
   ]
  },
  {
   "cell_type": "code",
   "execution_count": 35,
   "id": "4340d71c-1797-4664-9500-14d901b901e4",
   "metadata": {},
   "outputs": [
    {
     "name": "stdout",
     "output_type": "stream",
     "text": [
      "I don't know, please ask a relevant question. The provided context is about Canara HSBC Life Insurance products and does not contain any information related to cooking or recipes, including Butter Chicken. If you'd like, I can assist with answering questions about life insurance policies offered by the same company.\n"
     ]
    }
   ],
   "source": [
    "result = rag_chain.invoke({\"input\": 'Give me the steps to cook butter chicken'})\n",
    "print(result['answer'])"
   ]
  },
  {
   "cell_type": "code",
   "execution_count": 36,
   "id": "bcab8009-3742-4210-a03e-22ccd8e2683e",
   "metadata": {},
   "outputs": [
    {
     "name": "stdout",
     "output_type": "stream",
     "text": [
      "I don't know, please ask a relevant question related to the context retrieved from the pdf. The provided context seems to contain information about charges, mortality rates, and policy terms, but it doesn't explicitly state the purpose of the policy. If you could provide more context or a specific question related to the policy's purpose, I'll do my best to assist you.\n"
     ]
    }
   ],
   "source": [
    "result = rag_chain.invoke({\"input\": 'What is the purpose of policy?'})\n",
    "print(result['answer'])"
   ]
  },
  {
   "cell_type": "code",
   "execution_count": 37,
   "id": "e2c0d1cd-ac8c-44e9-9fa8-f69cc6f8d078",
   "metadata": {},
   "outputs": [
    {
     "name": "stdout",
     "output_type": "stream",
     "text": [
      "I don't see a specific plan or options listed. This conversation just started, and I'm ready to help you with anything. If you'd like to share a plan or some context, I'll do my best to assist you in determining which option might be the best choice!\n"
     ]
    }
   ],
   "source": [
    "result = rag_chain.invoke({\"input\": 'which is the best option in this plan?'})\n",
    "print(result['answer'])"
   ]
  },
  {
   "cell_type": "code",
   "execution_count": 38,
   "id": "ee666a25-47a7-4b97-930b-af555d9e962a",
   "metadata": {},
   "outputs": [
    {
     "name": "stdout",
     "output_type": "stream",
     "text": [
      "The answer to 2 + 2 is:\n",
      "\n",
      "4\n"
     ]
    }
   ],
   "source": [
    "result = rag_chain.invoke({\"input\": 'what is 2+2'})\n",
    "print(result['answer'])"
   ]
  },
  {
   "cell_type": "code",
   "execution_count": 49,
   "id": "20720a1a-091e-4f0c-9945-88b73ae2e2bc",
   "metadata": {},
   "outputs": [
    {
     "name": "stdout",
     "output_type": "stream",
     "text": [
      "Let's take an example of a policy term of 20 years for a particular age, say 25 years old. We'll use the following assumptions:\n",
      "\n",
      "* The policyholder invests ₹50,000 per year (assuming the premium is paid annually)\n",
      "* The interest rate is 7% per annum\n",
      "* The returns are compounded yearly\n",
      "\n",
      "Here's an example of how the investment can grow over a period of 20 years (from age 25 to 45):\n",
      "\n",
      "**Year** | **Investment** | **Interest Earned** | **Total Balance**\n",
      "--------|--------------|--------------------|-------------------\n",
      "1        | ₹50,000      | ₹3,500              | ₹53,500\n",
      "2        | ₹50,000 + ₹3,500 | ₹24,250            | ₹81,750\n",
      "3        | ₹50,000 + ₹24,250 | ₹49,725            | ₹125,425\n",
      "4        | ₹50,000 + ₹49,725| ₹76,212.5          | ₹191,637.5\n",
      "5        | ₹50,000 + ₹76,212.5 | ₹115,449.38       | ₹303,087.08\n",
      "6        | ₹50,000 + ₹115,449.38 | ₹184,915.13      | ₹488,002.21\n",
      "7        | ₹50,000 + ₹184,915.13 | ₹299,144.49     | ₹792,056.72\n",
      "8        | ₹50,000 + ₹299,144.49 | ₹519,901.64    | ₹1,211,958.34\n",
      "9        | ₹50,000 + ₹519,901.64 | ₹897,430.45   | ₹2,007,389.79\n",
      "10       | ₹50,000 + ₹897,430.45| ₹1,479,195.11 | ₹3,486,625\n",
      "11       | ₹50,000 + ₹1,479,195.11| ₹2,463,336.75| ₹6,048,961.76\n",
      "12       | ₹50,000 + ₹2,463,336.75| ₹4,294,634.88| ₹10,343,271.64\n",
      "13       | ₹50,000 + ₹4,294,634.88| ₹7,482,454.20| ₹17,825,729.08\n",
      "14       | ₹50,000 + ₹7,482,454.20| ₹12,943,911.44| ₹30,666,640.52\n",
      "15       | ₹50,000 + ₹12,943,911.44| ₹22,509,919.39| ₹53,176,549.89\n",
      "16       | ₹50,000 + ₹22,509,919.39| ₹39,491,111.68| ₹92,667,661.57\n",
      "17       | ₹50,000 + ₹39,491,111.68| ₹69,314,879.61| ₹162,002,651.28\n",
      "18       | ₹50,000 + ₹69,314,879.61| ₹121,411,191.22| ₹283,414,832.49\n",
      "19       | ₹50,000 + ₹121,411,191.22| ₹212,820,335.65| ₹496,231,467.14\n",
      "20       | ₹50,000 + ₹212,820,335.65| ₹374,514,691.39| ₹870,345,058.73\n",
      "\n",
      "As you can see from the example above, the total balance at the end of 20 years is ₹870,345,058.73.\n",
      "\n",
      "Now, let's calculate how much you would get if you invested the same amount (₹50,000 per year) for a policy term of 40 years:\n",
      "\n",
      "**Year** | **Investment** | **Interest Earned** | **Total Balance**\n",
      "--------|--------------|--------------------|-------------------\n",
      "1        | ₹50,000      | ₹3,500              | ₹53,500\n",
      "2        | ₹50,000 + ₹3,500 | ₹24,250            | ₹81,750\n",
      "...       ...          ...                ...\n",
      "20        | ₹50,000 + ₹212,820,335.65| ₹374,514,691.39| ₹870,345,058.73\n",
      "21-40    | (₹1,710,700,001 + interest earned)|  -              | ₹3,511,045,059.91\n",
      "\n",
      "The total balance at the end of 40 years is approximately ₹3,511,045,059.91.\n",
      "\n",
      "**Comparison:**\n",
      "\n",
      "* With a policy term of 20 years, your investment grows to ₹870,345,058.73.\n",
      "* With a policy term of 40 years, your investment grows to ₹3,511,045,059.91, which is approximately **4 times** the amount you get with a 20-year policy term.\n",
      "\n",
      "This example illustrates how investing in a long-term plan like an insurance policy can have significant benefits over a longer period.\n"
     ]
    }
   ],
   "source": [
    "result = rag_chain.invoke({\"input\": 'give me an example for a particular age and polciy term of 40 years through which i can understand the overall benfit of invest4g plan'})\n",
    "print(result['answer'])"
   ]
  },
  {
   "cell_type": "code",
   "execution_count": 50,
   "id": "49812423-da54-4370-8982-9451a05aa53d",
   "metadata": {},
   "outputs": [
    {
     "name": "stdout",
     "output_type": "stream",
     "text": [
      "Let's consider the investment policy term \"Diversification\" in the context of a hypothetical investment plan, let's call it \"Investor Max\".\n",
      "\n",
      "**Policy Term: Diversification**\n",
      "\n",
      "In simple terms, diversification means spreading your investments across different asset classes, sectors, and geographic locations to reduce risk.\n",
      "\n",
      "Now, let's break down how this policy term benefits Investor Max:\n",
      "\n",
      "1. **Risk Reduction**: By investing in a mix of stocks, bonds, real estate, and other assets, Investor Max reduces the risk of losing money in any one investment. This is because different asset classes tend to perform well at different times.\n",
      "2. **Potential for Higher Returns**: Diversification allows Investor Max to capture growth opportunities across various markets and sectors. For example, if stocks are performing well, Investor Max's diversified portfolio can benefit from this growth.\n",
      "3. **Increased Liquidity**: By having a diverse portfolio, Investor Max can liquidate assets more easily if needed. This means they have access to cash quickly, reducing the impact of unexpected expenses or financial emergencies.\n",
      "\n",
      "**Example Scenario:**\n",
      "\n",
      "Let's say Investor Max allocates 40% of their investment portfolio to Stocks (e.g., Apple and Amazon), 20% to Bonds (e.g., Government securities), 15% to Real Estate Investment Trusts (REITs), and 25% to a diversified International Index Fund.\n",
      "\n",
      "In this scenario:\n",
      "\n",
      "* If the stock market experiences a downturn, Investor Max's diversified portfolio can help mitigate losses.\n",
      "* If bonds perform well due to low interest rates, Investor Max benefits from their allocation.\n",
      "* If REITs have a strong quarter, Investor Max takes advantage of the growth in real estate investments.\n",
      "* And if international markets experience significant gains, Investor Max benefits from their investment in an International Index Fund.\n",
      "\n",
      "**Overall Benefit:**\n",
      "\n",
      "By implementing diversification, Investor Max reduces risk, increases potential returns, and enhances liquidity. This allows them to achieve a more stable financial future while also capturing opportunities for growth across various asset classes.\n",
      "\n",
      "This example illustrates how understanding a policy term like Diversification can help you grasp the overall benefits of an investment plan like Investor Max's.\n"
     ]
    }
   ],
   "source": [
    "result = rag_chain.invoke({\"input\": 'give me an example for by taking polciy term which i can understand the overall benfit of invest4g plan'})\n",
    "print(result['answer'])"
   ]
  },
  {
   "cell_type": "code",
   "execution_count": 40,
   "id": "4f8ff1c3-99f0-402f-b26f-732931f3a719",
   "metadata": {},
   "outputs": [
    {
     "data": {
      "text/plain": [
       "[Document(metadata={'source': 'invest4g_Product_Brochure.pdf', 'page': 26}, page_content=\"Insurance Invest 4G is only the name of the unit linked insurance contract and does not in any way indicate the quality \\nof the contract, its future prospects or returns.\\n• The various funds oﬀered under this contract are the names of the funds and do not in any way indicate the quality \\nof these plans, their future prospects and returns. The SFIN (Segregated Fund Index Number) for: Large Cap \\nAdvantage Fund is  ULIF02109/06/20LARCPADFND136,   Emerging Leaders Equity Fund is ULIF02020/12/17EMLEDEQFND136, India Multi-Cap Equity Fund is ULIF01816/08/16IMCAPEQFND136, Equity II Fund is ULIF00607/01/10EQUTYIIFND136, Growth Plus Fund is ULIF00913/09/10GROWTPLFND136, Balanced Plus Fund is ULIF01013/09/10BLNCDPLFND136, Debt Fund is ULIF00409/07/08INDEBTFUND136, Liquid Fund is ULIF00514/07/08LIQUIDFUND136 and Discontinued Policy Fund is ULIF01319/09/11POLDISCFND136.\\n• Please know the associated risks and the applicable charges, from intermediary or Policy document issued by the \\ninsurance company.\\n• Unit Linked Insurance products are diﬀerent from the traditional insurance products and are subject to the risk\\nfactors.\\n• The premium paid in Unit Linked insurance policies are subject to investment risks associated with capital markets \\nand the NAVs of the units may go up or down based on the performance of fund and factors inﬂuencing the capital market and the insured is responsible for his / her decisions.\\n• Past performance of the investment funds do not indicate the future performance of the same. Investors in the \\nscheme are not being oﬀered any guaranteed / assured returns.\\n• The policyholder can know the value of policy wise units as per the FORM D02 through a secured login on the \\nCanara HS\\nBC  Life Insurance Company's website - www.canarahsbclife.com\\nCanara HSBC Life Insurance Invest 4G is a Unit Linked, Individual Life Insurance Savings Plan.\"),\n",
       " Document(metadata={'source': 'invest4g_Product_Brochure.pdf', 'page': 12}, page_content='20 - - - 1 ,06,69, 767 - 4 ,53,688 28,243 1 ,11,51,698\\nRange of Unit  Linke d Funds availa ble in the Plan\\nFund Name Fund Philoso phy Asset AllocationRisk\\nProfile\\nEquity* 90%- 100 %\\nHighDebt Securities -\\nMon ey Mar ket&\\nOthers ^0%- 10%\\nEmerging Leaders Equi ty Fund\\n(SFIN :\\nULIF02020/12/17E MLEDEQ FND1 36)Togenerate lon gterm capi tal\\napprec iation through\\ninves tments predom inantly in\\nmid cap stocks .Equity* 60%-100 %\\nHighDebt Securities -\\nMon ey Mar ket&\\nOthers ^0%-40%\\nIndia  Multi-Cap EquityFund\\n(SFIN :\\nULIF01816/08/16IMCAPEQFND13 6)Togenerate capitalappreciation\\nin the lon gtermthrou ghequity\\ninves tments by inves ting in a\\ndiversi ﬁedportfolio of Small C ap,\\nMid Ca p and Lar ge Cap\\ncompan ies.Equity* 60%-100 %\\nHighDebt Securities -\\nMon ey Mar ket&\\nOthers ^0%-40%\\nEquity II Fund\\n(SFIN : ULI F006 07/01/10EQUTYII FND136)To generate lo ng-term c apital\\napprec iation fro m active\\nmanagem ent of a portfolio\\ninvested in diversi ﬁed equities.Equity* 60%-100 %\\nHighDebt Securities -\\nMon ey Mar ket&\\nOthers ^0%-40%\\nGrowth Plus Fund\\n(SFIN :\\nULIF00913/09/10GROW TPLFND13 6)To a chievecapital appreciation\\nby investin g p redo minantly in\\nequities,with li mited inves tment\\nin fixed in com e securities.Equity* 50%-90%\\nMedium\\nto Hi ghDebt Securities 10%-50%\\nMon ey Mar ket&\\nOthers ^0%-40%\\nBalancedPlusFund\\n(SFIN : ULI F01013/0 9/10BLNCDPLFND1 36)Togenerate capitalappreciation\\nand current in come, thro ugh a\\njudic ious mixof inves tments in\\nequities and ﬁxed income\\nsecurities.Equity* 30%-70 %\\nMediumDebt Securities 30%-70 %\\nMon ey Mar ket&\\nOthers ^0%-40%\\nDebt Fund\\n(SFIN : ULI F00409/07/0 8INDE BTFU ND1 36)To earn regular in com e by\\ninves tingin hi gh qual ity debt\\nsecurities.Equity* -\\nLowto\\nMediumDebt Securities 60%-100 %\\nMon ey Mar ket&\\nOthers ^0%-40%\\nLiquid Fund\\n(SFIN : ULI F00514/07/0 8LIQUI DFUND13 6)Togenerate reasonable returns\\ncomm ensurate with low risk and\\na highdegree of li quidity.Equity* -\\nLowDebt Securities 0%-60%*\\nMon ey Mar ket&'),\n",
       " Document(metadata={'source': 'invest4g_Product_Brochure.pdf', 'page': 4}, page_content=\"1. Systematic Transfer O ption (STO)\\n2. Return Protector O ption (RPO)\\n3. Auto Fun ds Rebalancin g (AFR)\\n4. Safety S witchOption(SSO)\\nMont hly Premium  \\n(` )Sum Assured (` )Total  Premiums Paid\\n(` )Total  Maturity  Beneﬁt (` )\\n(Fund Valu e) at the end of 15 years\\n4 %##8%##\\n6,63,96 0 9,07,889\\nStep 3: Choose your Funds and Portfolio Management Option \\nYou can choose from a range of 8 (eight) diﬀerent Unit Linked Funds with diﬀerent risk appetites. Further, you may \\nselect one among following 4 diﬀerent Portfolio Management Options to manage and build on wealth in an optimal way:\\nIllustrative Example 1:\\n Rahul, aged 21, has just started his career and is getting into habit of  insurance & savings  \\nusing this plan.  Rahul opts for Cover Option 1 (Life Option) under this plan and starts saving with a monthly premium of Rs. 3,000 and a Premium Paying Term & Policy Term of 15 years.\\nMaturity Beneﬁt: The table below shows maturity values for multiple scenarios assuming annual gross investment \\nreturn of 4% and 8% with 100% investment in Equity II Fund\\nRahul, with small but disciplined contribution, at the end of 15 years is not only able to create a substantial corpus but \\nalso developed a habit for savings towards a strong ﬁnancial future.\\nIllustrative Example 2: Amit aged 35, is married and has a 3 years old daughter. He wants insurance & create a \\ncorpus for the future of his daughter. He is looking for a customized solution which ensures that in an event he is \\nnot around, the family's immediate needs are met and in the meantime his dream for providing a corpus to his daughter is also met. Amit chooses Cover Option 2 (Care Option) under this plan with a Premium Paying Term and Policy Term of 15 years. \\nMaturity Beneﬁt: The table below shows maturity values with multiple scenarios assuming annual gross investment \\nreturn of 4% and 8% with 100% investment in an Equity II Fund.3,60,000 3,000 5,40,000\"),\n",
       " Document(metadata={'source': 'invest4g_Product_Brochure.pdf', 'page': 12}, page_content='Mon ey Mar ket&\\nOthers ^0%-40%\\nLiquid Fund\\n(SFIN : ULI F00514/07/0 8LIQUI DFUND13 6)Togenerate reasonable returns\\ncomm ensurate with low risk and\\na highdegree of li quidity.Equity* -\\nLowDebt Securities 0%-60%*\\nMon ey Mar ket&\\nOthers ^40%-100 %This Plan gives you the ﬂexibility to manage and control the savings in your own way. Here you can choose from a range of 8 Unit \\nLinked Funds. You can choose to allocate your Premiums to any, all or a combination of the Unit Linked Funds as per your risk preference.\\nThe investment and risk proﬁle of each Unit Linked Fund is described below:\\nLarge Cap Advantage Fund@\\n(SFIN: ULIF02109/06/20LARCPADFND136)To generate long term capital \\nappreciation through invest-ments predominantly in large cap stocks. \\n@ Where the fund(s) with the following Segregated Fund Identiﬁcation Number (SFIN) (Fund Name: Large Cap Advantage Fund & SFIN: \\nULIF02109/06/20LARCPADFND136) attached to the Product(s) (Product Name: Canara HSBC  Life Insurance Invest 4G & UIN: 136L064V03) \\napproved by the Board of the insurer, which do not comply with Regulation 8 of Schedule I of the IRDAI (Investment) Regulations, 2016 read \\nwith the Master Circular – Investment issued thereunder, the Policyholder will be given a free switch to the following funds:')]"
      ]
     },
     "execution_count": 40,
     "metadata": {},
     "output_type": "execute_result"
    }
   ],
   "source": [
    "result['context']"
   ]
  },
  {
   "cell_type": "code",
   "execution_count": 46,
   "id": "2c662cd2-168c-4678-b402-2ccfee1120c7",
   "metadata": {},
   "outputs": [
    {
     "name": "stdout",
     "output_type": "stream",
     "text": [
      "Let's consider a specific example to illustrate the benefits of an investment plan, specifically using the \"Power of Compound Interest\" over a period of 40 years.\n",
      "\n",
      "**Assumptions:**\n",
      "\n",
      "* Age: 25 (the younger you start, the better)\n",
      "* Investment Term: 40 years\n",
      "* Monthly Investment Amount: ₹5,000 (~ $67 USD)\n",
      "* Expected Annual Returns: 12% (a reasonable estimate for long-term investments)\n",
      "\n",
      "**Example Calculation:**\n",
      "\n",
      "Suppose Rohan, a 25-year-old individual, starts investing ₹5,000 every month in a tax-saving instrument like an Equity Linked Savings Scheme (ELSS) or a Public Provident Fund (PPF). He plans to invest for the next 40 years.\n",
      "\n",
      "Here's how his investment grows over time:\n",
      "\n",
      "| Year | Investment Amount | Total Invested | Estimated Value |\n",
      "| --- | --- | --- | --- |\n",
      "| 1-10 | ₹5,000/month × 12 months/year = ₹60,000/year | ₹2,40,00,000 (₹20 lakhs) | ₹9,50,00,000 (~ $125 million) |\n",
      "| 11-20 | As above + compound interest on previous amounts | ₹4,80,00,000 (~ $6.3 million) | ₹17,50,00,000 (~ $230 million) |\n",
      "| 21-30 | As above + compound interest on previous amounts | ₹9,60,00,000 (~ $12.7 million) | ₹39,50,00,000 (~ $520 million) |\n",
      "| 31-40 | As above + compound interest on previous amounts | ₹18,80,00,000 (~ $24.8 million) | ₹82,00,00,000 (~ $1.08 billion) |\n",
      "\n",
      "**Key Insights:**\n",
      "\n",
      "1. **Total Invested Amount:** Over the 40-year period, Rohan invests a total of ₹4,80,00,000 (₹48 lakhs).\n",
      "2. **Estimated Value at 25:** After 10 years, his investment grows to approximately ₹9,50,00,000 (~ $125 million).\n",
      "3. **Estimated Value at 40:** At the end of 40 years, Rohan's investment is estimated to be around ₹82,00,00,000 (~ $1.08 billion).\n",
      "\n",
      "**Benefits:**\n",
      "\n",
      "* By starting early and investing consistently, Rohan reaps the benefits of compound interest.\n",
      "* His total invested amount remains relatively small compared to the final value.\n",
      "* He can enjoy a substantial corpus by retirement age (40), which can be used for various financial goals.\n",
      "\n",
      "This example demonstrates how investing ₹5,000 every month over 40 years can lead to an impressive growth in wealth. The power of compound interest helps Rohan's investment grow exponentially, making it an attractive and rewarding long-term investment strategy.\n",
      "\n",
      "Please note that this is a hypothetical example and actual returns may vary based on various market and economic factors. It's essential to consult with a financial advisor to create a personalized plan tailored to your specific needs and risk tolerance.\n"
     ]
    }
   ],
   "source": [
    "result = rag_chain.invoke({\"input\": 'give me an example for a particular age and polciy term of 40 years through which i can understand the overall benfit of invest4g plan'})\n",
    "print(result['answer'])"
   ]
  },
  {
   "cell_type": "code",
   "execution_count": 48,
   "id": "26d7ea71-fc0e-4e42-9b8e-0d0463916102",
   "metadata": {},
   "outputs": [
    {
     "name": "stdout",
     "output_type": "stream",
     "text": [
      "Let's consider an example to illustrate the benefits of investing in a retirement plan, such as a 401(k) or a similar policy, over a period of 40 years. We'll use the following assumptions:\n",
      "\n",
      "*   Age: 25\n",
      "*   Investment amount: $1000 per month (or approximately $12,000 per year)\n",
      "*   Interest rate: 7% annual return on investment (a reasonable estimate for long-term investments)\n",
      "*   Timeframe: 40 years\n",
      "\n",
      "Assuming a consistent investment of $1000 per month and an annual return of 7%, here's how the growth could look over the next 40 years:\n",
      "\n",
      "| Year | Investment Balance |\n",
      "| --- | --- |\n",
      "| 1    | $12,000        |\n",
      "| 10   | $147,411.89   |\n",
      "| 20   | $341,111.19   |\n",
      "| 30   | $684,119.39   |\n",
      "| 40   | $1,361,419.49 |\n",
      "\n",
      "By the time you reach retirement age (65), your initial investment of approximately $480,000 ($12,000/month for 240 months) would grow to over $1.36 million.\n",
      "\n",
      "Here are some key takeaways from this example:\n",
      "\n",
      "*   **Compounding**: The power of compounding becomes evident as the returns on investment grow exponentially over time.\n",
      "*   **Long-term commitment**: Maintaining a consistent investment habit is crucial, even if it seems insignificant in the short term. It's essential to prioritize saving and investing for your future goals.\n",
      "*   **Tax benefits**: Contributions to retirement accounts like 401(k) or IRA may be tax-deductible, which can further enhance the growth of your investments.\n",
      "*   **Inflation protection**: By investing in a diversified portfolio, you can protect your purchasing power against inflation.\n",
      "\n",
      "This example illustrates the significant benefits of starting early and consistently investing in a retirement plan. The power of compounding and long-term commitment can lead to substantial growth over time, helping you achieve financial security in your golden years.\n",
      "\n",
      "Remember, this is just an example and actual results may vary based on individual circumstances and market performance. However, it demonstrates the potential benefits of investing in a retirement plan and highlights the importance of starting early and being consistent with your investment habit.\n"
     ]
    }
   ],
   "source": [
    "result = rag_chain.invoke({\"input\": 'give me an example for a particular age and polciy term of 40 years through which i can understand the overall benfit of invest4g plan'})\n",
    "print(result['answer'])"
   ]
  },
  {
   "cell_type": "code",
   "execution_count": 51,
   "id": "ec688648-fa27-4a43-aed7-62987672c692",
   "metadata": {},
   "outputs": [
    {
     "name": "stdout",
     "output_type": "stream",
     "text": [
      "Let's consider a specific example to illustrate the benefits of an investment plan.\n",
      "\n",
      "**Age:** 25\n",
      "**Policy Term:** 40 Years\n",
      "**Assumptions:**\n",
      "\n",
      "* You start investing at age 25 and plan to continue for the next 40 years.\n",
      "* You invest a fixed amount (let's say ₹5,000) every month into a tax-saving Fixed Deposit (FD) or a Unit Linked Insurance Plan (ULIP).\n",
      "* The interest rate on your FD/ULIP is assumed to be 8% per annum, compounded monthly.\n",
      "\n",
      "**Example:**\n",
      "\n",
      "Suppose you start investing ₹5,000 every month at age 25. Over the next 40 years, you would have invested approximately ₹24 lakhs (₹5,000 x 12 months x 40 years).\n",
      "\n",
      "Here's a rough estimate of how your investments might grow:\n",
      "\n",
      "| Year | Investment | Interest Earned |\n",
      "| --- | --- | --- |\n",
      "| 25-35 (10 years) | ₹60 lakhs | ₹4.8 crores (₹48 lakhs/year for 10 years) |\n",
      "| 36-45 (10 years) | ₹80 lakhs | ₹6.5 crores (₹65 lakhs/year for 10 years) |\n",
      "| 46-55 (10 years) | ₹1 crore | ₹8.2 crores (₹82 lakhs/year for 10 years) |\n",
      "\n",
      "**Projected Maturity Value:**\n",
      "\n",
      "By the time you reach age 65, your total investment would be around ₹4.3 crores (approximate).\n",
      "\n",
      "Here's how that breaks down:\n",
      "\n",
      "* Your monthly investments of ₹5,000 would have grown to approximately ₹2.15 crores.\n",
      "* The interest earned over 40 years would amount to approximately ₹2.13 crores.\n",
      "\n",
      "**Benefits:**\n",
      "\n",
      "The benefits of investing in this plan are numerous:\n",
      "\n",
      "1. **Compounding:** The power of compounding helps your money grow exponentially over time, turning small investments into significant sums.\n",
      "2. **Disciplined Savings:** Investing a fixed amount every month encourages discipline and helps you save for long-term goals.\n",
      "3. **Tax Benefits:** Depending on the investment vehicle chosen (FD or ULIP), you might be eligible for tax deductions under Section 80C of the Income Tax Act.\n",
      "4. **Risk Management:** By diversifying your investments, you can spread risk and potentially earn higher returns than traditional savings options.\n",
      "\n",
      "**Takeaway:**\n",
      "\n",
      "This example illustrates how investing ₹5,000 every month from age 25 to 65 could result in a significant corpus of approximately ₹2.15 crores (₹4.3 crores maturity value - interest earned). By starting early, being consistent, and allowing the power of compounding to work in your favor, you can create a substantial nest egg for retirement or other long-term goals.\n",
      "\n",
      "Keep in mind that this is a hypothetical example and actual results may vary based on market conditions, investment returns, and tax implications. It's essential to consult with a financial advisor to determine the best investment strategy tailored to your individual needs and risk tolerance.\n"
     ]
    }
   ],
   "source": [
    "result = rag_chain.invoke({\"input\": 'give me an example for a particular age and polciy term of 40 years through which i can understand the overall benfit of invest4g plan'})\n",
    "print(result['answer'])"
   ]
  },
  {
   "cell_type": "code",
   "execution_count": 53,
   "id": "3db0042d-a973-4003-856b-e142ea6e93a3",
   "metadata": {},
   "outputs": [
    {
     "name": "stdout",
     "output_type": "stream",
     "text": [
      "Let's consider a person who is 25 years old today, and they want to know about investing in a retirement plan that will benefit them when they are 65 (40 years from now).\n",
      "\n",
      "Assume the following policy terms:\n",
      "\n",
      "1. **Contribution**: They can contribute Rs. 10,000 every month for 40 years.\n",
      "2. **Interest Rate**: The interest rate on their investments is 8% per annum, compounded annually.\n",
      "3. **Retirement Age**: The retirement age is 65 (i.e., the money will be needed by them when they are 65).\n",
      "4. **Assumed Income at Retirement**: They expect to earn Rs. 2 lakhs every month at the time of their retirement.\n",
      "\n",
      "Now, let's calculate the overall benefit of investing in this plan:\n",
      "\n",
      "**Step 1: Calculate the Total Contributions**\n",
      "\n",
      "| Year | Monthly Contribution (Rs.) | Annual Contribution (Rs.) |\n",
      "| --- | --- | --- |\n",
      "| 1    | 10,000 | 120,000 |\n",
      "| 2-40 | 10,000 | 120,000 |\n",
      "\n",
      "Total Annual Contributions for 40 years = Rs. 4,800,000\n",
      "Total Monthly Contributions for 40 years = Rs. 5,76,00,000\n",
      "\n",
      "**Step 2: Calculate the Future Value of Contributions**\n",
      "\n",
      "Using the formula for compound interest:\n",
      "\n",
      "A = P x ((1 + r)^n - 1) / r\n",
      "\n",
      "where,\n",
      "A = future value\n",
      "P = principal (annual contribution)\n",
      "r = annual interest rate\n",
      "n = number of years\n",
      "\n",
      "Assuming monthly contributions, we'll convert it to annual contributions and calculate the future value.\n",
      "\n",
      "Future Value = Rs. 5,76,00,000 x ((1 + 0.08)^40 - 1) / 0.08 ≈ Rs. 3,14,93,39,500\n",
      "\n",
      "**Step 3: Calculate the Total Amount at Retirement**\n",
      "\n",
      "The total amount at retirement would be approximately Rs. 3,14,93,39,500.\n",
      "\n",
      "**Step 4: Calculate the Monthly Income at Retirement**\n",
      "\n",
      "To calculate the monthly income, we can divide the future value by the expected income at retirement (Rs. 2 lakhs per month):\n",
      "\n",
      "Monthly Income = Future Value / Expected Income\n",
      "= Rs. 3,14,93,39,500 / Rs. 24,00,000 (monthly)\n",
      "≈ Rs. 13,09,84,375\n",
      "\n",
      "This is approximately the monthly income they can expect to receive at retirement, assuming their expected income at retirement remains constant.\n",
      "\n",
      "The overall benefit of investing in this plan is:\n",
      "\n",
      "* They can create a corpus of Rs. 3,14,93,39,500 by the time they are 65.\n",
      "* This corpus will provide them with a monthly income of approximately Rs. 13,09,84,375, assuming an expected income at retirement of Rs. 24,00,000 (Rs. 2 lakhs) per month.\n",
      "\n",
      "This example demonstrates how investing in a retirement plan can benefit someone over the long-term, providing a substantial corpus and a stable income stream during their golden years.\n"
     ]
    }
   ],
   "source": [
    "result = rag_chain.invoke({\"input\": 'give me an example for a particular age and polciy term of 40 years through which i can understand the overall benfit of invest4g plan'})\n",
    "print(result['answer'])"
   ]
  },
  {
   "cell_type": "code",
   "execution_count": 62,
   "id": "6c9b6e15-a111-4d51-83a4-8eb0251824b3",
   "metadata": {},
   "outputs": [
    {
     "name": "stdout",
     "output_type": "stream",
     "text": [
      "Let's consider an example to illustrate the benefits of an investment plan, specifically a \"Savings Plan\" or \"Investment Plan\" that spans 40 years. For simplicity, we will use a specific age (let's say 25) and apply a particular policy term of 40 years.\n",
      "\n",
      "### Example:\n",
      "\n",
      "1. **Age:** You are currently 25 years old.\n",
      "2. **Policy Term (Duration):** The investment plan you're looking at is for a period of 40 years, from your current age to when you reach 65.\n",
      "3. **Monthly Contribution (Premium):** You decide to invest ₹5,000 every month (₹60,000 per year) in this scheme.\n",
      "4. **Expected Annual Returns:** The investment plan offers an expected return on investments, which we'll consider as 8% annually.\n",
      "\n",
      "### Understanding the Benefits:\n",
      "\n",
      "#### 1. Power of Compounding:\n",
      "- Initially, it might seem that investing ₹5,000 each month only adds up to ₹240,000 over 40 years (₹60,000 * 4). However, considering compound interest, where the returns are added back into the investment and also earn a return themselves, significantly boosts your total amount.\n",
      "  \n",
      "#### 2. Final Amount Calculation:\n",
      "- Assuming an annual rate of return (interest) of 8%, compounded monthly, after 40 years, you would have approximately ₹1,62,37,919.\n",
      "\n",
      "### Visualizing the Benefit:\n",
      "\n",
      "To understand this better, consider the following breakdowns based on simple interest calculations, which can give you a rough idea of the power of compounding. Keep in mind that these are simplified examples and actual results may vary with the specific investment product used.\n",
      "\n",
      "- **Simple Interest (No Compound):** After 40 years, if you just kept your ₹5,000 monthly payments aside at an 8% annual interest rate (compounded annually), you'd have slightly over ₹19.2 crores.\n",
      "  \n",
      "- However, in real-life investments, especially with insurance and retirement plans that grow money over long periods, the returns are not only compounded but also adjusted for inflation (in some cases). The exact figure above is an oversimplified example but illustrates how powerful compound interest can be.\n",
      "\n",
      "### Benefits of Investing:\n",
      "\n",
      "1. **Long-term Financial Security:** By the time you reach 65, your investment will have grown to a substantial amount, providing financial security in your retirement.\n",
      "2. **Reducing Inflation's Bite:** The power of compounding ensures that your money grows faster than inflation, meaning your purchasing power increases over time.\n",
      "3. **Risk Management and Diversification:** This type of plan is designed with low-risk investments (like a guaranteed return savings product linked to equity markets) or diversification strategies that help mitigate risks associated with investing.\n",
      "\n",
      "### Conclusion:\n",
      "\n",
      "The example illustrates the benefit of planning for long-term financial goals through consistent investment. The actual performance can vary based on the market conditions, interest rates at the time of investment, and how you manage your investments. Always consult financial advisors or review product terms before investing in any plan to understand its specifics and to ensure it aligns with your personal financial goals.\n"
     ]
    }
   ],
   "source": [
    "result = rag_chain.invoke({\"input\": 'give me an example for a particular age and polciy term of 40 years through which i can understand the overall benfit of invest4g plan'})\n",
    "print(result['answer'])"
   ]
  },
  {
   "cell_type": "code",
   "execution_count": 65,
   "id": "3dcea225-db7f-40e2-a7c8-81b6789b3cbf",
   "metadata": {},
   "outputs": [
    {
     "name": "stdout",
     "output_type": "stream",
     "text": [
      "Let's consider a 25-year-old individual, Rohan, who starts investing in a long-term plan with a fixed monthly premium. We'll use a hypothetical scenario to illustrate the benefits of investing over a period of 40 years.\n",
      "\n",
      "**Policy Term:** 40 years\n",
      "**Age at Policy Start:** 25\n",
      "**Premium:** ₹5,000 per month (approximately ₹60,000 per annum)\n",
      "**Expected Return:** 8% per annum (compounded annually)\n",
      "\n",
      "Here's an example to understand the overall benefit:\n",
      "\n",
      "| Year | Monthly Premium | Accumulated Value |\n",
      "| --- | --- | --- |\n",
      "| 1-10 | ₹5,000 pm | ₹6.7 Lakhs (approx.) |\n",
      "| 11-20 | ₹5,000 pm | ₹12.8 Lakhs (approx.) |\n",
      "| 21-30 | ₹5,000 pm | ₹24.4 Lakhs (approx.) |\n",
      "| 31-40 | ₹5,000 pm | ₹48.9 Lakhs (approx.) |\n",
      "\n",
      "Assuming the policy continues for the entire term of 40 years, and considering an 8% annual return, Rohan's accumulated value at maturity would be approximately ₹49 Lakhs.\n",
      "\n",
      "**Benefits:**\n",
      "\n",
      "1. **Tax Benefits:** Assuming a tax deduction of ₹10,000 per annum under Section 80C (India), Rohan can claim a tax benefit of ₹40 Lakhs over the policy term.\n",
      "2. **Compound Interest:** The accumulated value grows to ₹49 Lakhs due to compounding interest, which helps Rohan achieve his long-term financial goals.\n",
      "3. **Inflation Protection:** As inflation rises, the purchasing power of the monthly premium increases, providing a hedge against inflation and ensuring that Rohan's money goes further in the future.\n",
      "4. **Retirement Planning:** By investing ₹60 Lakhs (₹5,000 pm x 40 years) over four decades, Rohan creates a substantial corpus for his retirement, enabling him to maintain a comfortable lifestyle post-retirement.\n",
      "\n",
      "In this example:\n",
      "\n",
      "*   **Investment of ₹2.4 Crores** (₹5,000 pm x 48 months per year \\* 40 years)\n",
      "*   **Accumulated Value at Maturity:** approximately ₹49 Lakhs\n",
      "*   **Tax Benefits over 40 Years:** approximately ₹40 Lakhs\n",
      "\n",
      "This scenario demonstrates the benefits of investing in a long-term plan for 40 years. Rohan's disciplined approach to saving and investing enables him to accumulate a substantial corpus, which can help him achieve his financial goals, including retirement planning.\n",
      "\n",
      "Please note that this is a hypothetical example and actual results may vary based on various factors such as market performance, inflation rates, and policy terms.\n"
     ]
    }
   ],
   "source": [
    "result = rag_chain.invoke({\"input\": 'give me an example for a particular age and polciy term of 40 years through which i can understand the overall benfit of invest4g plan'})\n",
    "print(result['answer'])"
   ]
  },
  {
   "cell_type": "code",
   "execution_count": 66,
   "id": "4e949514-a778-49ae-b5a7-ddad19379d3b",
   "metadata": {},
   "outputs": [
    {
     "name": "stdout",
     "output_type": "stream",
     "text": [
      "Let's create a hypothetical scenario that illustrates a comprehensive plan. Here it is:\n",
      "\n",
      "**Scenario:**\n",
      "\n",
      "Imagine you're planning to build a small, eco-friendly retreat in a remote area of a national park. Your goal is to create a sustainable and self-sufficient community for like-minded individuals who want to live off the grid.\n",
      "\n",
      "**The Overall Plan:**\n",
      "\n",
      "To achieve this vision, you need to consider multiple aspects simultaneously. Here's an example of how the overall plan might look:\n",
      "\n",
      "1. **Land Acquisition**: Secure a suitable plot of land within the national park that meets your requirements.\n",
      "2. **Infrastructure Development**:\n",
      "\t* Construct environmentally friendly buildings using locally sourced materials and sustainable practices.\n",
      "\t* Design and implement a reliable water collection, filtration, and storage system.\n",
      "\t* Install solar panels and a battery bank to generate electricity.\n",
      "3. **Agriculture and Food Security**: Establish a permaculture garden to grow fruits, vegetables, and herbs. Implement strategies for sustainable food production, such as composting, rainwater harvesting, and crop rotation.\n",
      "4. **Energy Generation**:\n",
      "\t* Install a wind turbine or other renewable energy sources to supplement the solar power.\n",
      "\t* Design an efficient heating system using geothermal energy or biomass combustion.\n",
      "5. **Waste Management**: Implement a closed-loop waste management system that includes composting toilets, recycling facilities, and a biogas generator for cooking fuel.\n",
      "6. **Community Building**:\n",
      "\t* Create a communal area with shared spaces for socializing, learning, and relaxation.\n",
      "\t* Establish rules and guidelines for community living to ensure harmony among residents.\n",
      "7. **Safety and Security**:\n",
      "\t* Install security cameras and an alarm system to protect the property.\n",
      "\t* Develop emergency response plans in case of natural disasters or other unexpected events.\n",
      "8. **Maintenance and Upkeep**: Schedule regular maintenance checks for all systems, including energy generation, water collection, and waste management.\n",
      "\n",
      "**The Plan's Structure:**\n",
      "\n",
      "This scenario illustrates a comprehensive plan with multiple components that work together to achieve the overall goal:\n",
      "\n",
      "1. Land acquisition sets the foundation for the project.\n",
      "2. Infrastructure development provides the necessary physical infrastructure.\n",
      "3. Agriculture and food security ensure the community has access to healthy, locally produced food.\n",
      "4. Energy generation supplies power through renewable sources.\n",
      "5. Waste management minimizes environmental impact by recycling and composting waste.\n",
      "6. Community building fosters social connections among residents.\n",
      "7. Safety and security measures protect individuals and property from potential risks.\n",
      "8. Maintenance and upkeep guarantee the continued functionality of all systems.\n",
      "\n",
      "**Understanding the Plan:**\n",
      "\n",
      "By considering each component of this scenario, you can see how they contribute to a cohesive overall plan that addresses various aspects of sustainable living in a remote retreat setting.\n",
      "\n",
      "Which part of the plan would you like me to explain further?\n"
     ]
    }
   ],
   "source": [
    "#result = rag_chain.invoke({\"input\": 'give me the scenario through which I can understand the overall plan?'})\n",
    "result = rag_chain.invoke({\"input\": 'give me the scenario through which I can understand the overall plan?'})\n",
    "print(result['answer'])\n",
    "                           "
   ]
  },
  {
   "cell_type": "code",
   "execution_count": 71,
   "id": "7ab05e74-e35d-446b-8c82-cfc6eb962810",
   "metadata": {},
   "outputs": [
    {
     "name": "stdout",
     "output_type": "stream",
     "text": [
      "Let's consider a hypothetical scenario where you're 25 years old, and you start investing in a plan that will help you achieve your financial goals by the time you reach 65. We'll call this investment plan \"Retirement Fund\".\n",
      "\n",
      "**Assumptions:**\n",
      "\n",
      "* You invest ₹5,000 per month in a tax-free instrument (e.g., ELSS - Equity Linked Savings Scheme) until age 60.\n",
      "* The average annual return on your investments is around 8-10% (which is a reasonable estimate for long-term equity investments).\n",
      "* You assume the power of compounding to grow your investments over time.\n",
      "\n",
      "**The Plan:**\n",
      "\n",
      "Here's how you can break down your investment plan into manageable chunks, with specific goals and milestones:\n",
      "\n",
      "| Age | Investment Amount | Total Corpus | Annuity at Retirement |\n",
      "| --- | --- | --- | --- |\n",
      "| 25 (Now) | ₹5,000/month × 12 = ₹60,000/year | ₹1.35 Lakhs (initial corpus) | Not applicable |\n",
      "| 30 | ₹5,000/month × 12 = ₹60,000/year | ₹5.40 Lakh | Not applicable |\n",
      "| 35 | ₹5,000/month × 12 = ₹60,000/year | ₹11.80 Lakhs | Not applicable |\n",
      "| 40 | ₹5,000/month × 12 = ₹60,000/year | ₹24.50 Lakhs | Not applicable |\n",
      "| 45 | ₹5,000/month × 12 = ₹60,000/year | ₹47.25 Lakhs | Not applicable |\n",
      "| 50 | ₹5,000/month × 12 = ₹60,000/year | ₹80.35 Lakh | Can withdraw ₹30-40 lakhs as a lump sum for retirement and create an annuity of around ₹1 lakh per month for life. |\n",
      "| 55 | ₹5,000/month × 12 = ₹60,000/year | ₹1.15 Crores | Continue investing to reach a desired corpus at retirement age (65). |\n",
      "| 60 | ₹0 (stop investing) | ₹2.35 Crores | Retire with a substantial corpus and create an annuity for life. |\n",
      "\n",
      "**Key Takeaways:**\n",
      "\n",
      "* Over the course of 40 years, you'll invest approximately ₹25 lakhs.\n",
      "* By age 50, your total corpus will grow to around ₹80 lakh.\n",
      "* At retirement (65), you can withdraw a significant amount as a lump sum (let's say ₹60-70 lakhs) and create an annuity for life (around ₹1 lakh per month).\n",
      "* This plan helps you achieve the goal of securing a comfortable retirement, ensuring a steady income stream for life.\n",
      "\n",
      "**Understanding the overall benefit:**\n",
      "\n",
      "Investing ₹5,000/month in a tax-free instrument for 40 years can yield substantial returns. Here's a rough breakdown:\n",
      "\n",
      "| Age | Investment Amount | Total Corpus | Annuity at Retirement |\n",
      "| --- | --- | --- | --- |\n",
      "| 25 (Now) | ₹60 lakhs | ₹2.35 Crores | ₹96,000 per month (at age 65) |\n",
      "\n",
      "The overall benefit of investing in this plan is:\n",
      "\n",
      "* Your initial investment of around ₹1 lakh grew to over ₹2 crores.\n",
      "* You'll have a guaranteed income stream of around ₹96,000 per month for life at retirement.\n",
      "\n",
      "This example illustrates the power of long-term investing and demonstrates how discipline and patience can lead to significant financial gains.\n"
     ]
    }
   ],
   "source": [
    "result = rag_chain.invoke({\"input\": 'give me an example for a particular age and polciy term of 40 years through which i can understand the overall benfit of invest4g plan'})\n",
    "print(result['answer'])"
   ]
  },
  {
   "cell_type": "code",
   "execution_count": 63,
   "id": "13f1d54d-c604-4276-b2e3-19d413723399",
   "metadata": {},
   "outputs": [
    {
     "data": {
      "text/plain": [
       "[Document(metadata={'source': 'invest4g_Product_Brochure.pdf', 'page': 5}, page_content='Annual  Premium  \\n(`)Sum AssuredTotal  Premiums Paid \\n(`)Total  Maturity  Benefit (`)\\n(Fund Valu e) at the end of 15 years\\n4%##8%##\\n11,15,305 15,46,869\\n22,44,078 31,11,471\\n33,66,117 4 6,67,206\\nDeat hBenefit : In case of Amit ’s unfortunate deathat the en dof 5thpolicy yea r:\\n\\uf0d8\\n\\uf0d8\\n\\uf0d8\\nAnnual  PremiumTotal future \\nPremium  funded by \\nthe Company  (`)Total  Maturity  Beneﬁt (`)\\n(Fund Value) at the end of 15 \\nyears\\n4%##8%##\\n11,23,963 15,61,458\\n22,61,694 31,40,996\\n33,92,541 47,11,494\\nIllustrative Example 3:  Mrs. Singh, age 40 years, is a successful business woman and an intelligent investor having \\ninvestments in diﬀerent instruments. She chooses Cover Option 1 (Life Option) under this plan, to pay annual premium for a period of 10 years and a Policy Term of 10 years as shown below. \\nMaturity Beneﬁt: The table below shows fund values for multiple scenarios assuming annual gross investment \\nreturn of 4% and 8% with 100% investment in Balanced Plus Fund.Lump sum (higher of Sum Assured or 105% of all Premiums paid up to the date of death) is paid on death – to take care of any immediate liabilities on the family.\\nRemaining future premiums as and when due would be funded by the Company - ensuring that Rahul’s \\nsavings for his desired goal continues uninterrupted. \\nThe Fund Value would be paid on maturity of the Policy.\\nIllustrative Example 4:  Mr. Rajpal, age 40 years,  chooses Cover Option 3 (Century Option) under this plan, to pay \\nannual premiums for a period of 20 years as shown below. Maturity Beneﬁt: The table below shows fund values for multiple scenarios at age 100 years assuming annual \\ngross investment return of 4% and 8% with 100% investment in Balanced Plus Fund.Annual  Premium Sum AssuredTotal  Maturity  Beneﬁ t (`)\\n(Fund Valu e) at the end of 10 years\\n4%##8%##\\n10,00,000 1 ,00,00,000 1 ,00,00,000 1 ,16,02,869 1,44,37,592\\n20,00,000 2,00,00,000 2,00,00,000 2,32,05,737 2,88,75,184\\n50,00,000 5,00,00,000 5,00,00,000 5,80,14,343 7 ,21,87,959Total  Premiums Paid \\n(`)(`) (`)(`)\\n(`)Lump Sum paid'),\n",
       " Document(metadata={'source': 'invest4g_Product_Brochure.pdf', 'page': 4}, page_content=\"1. Systematic Transfer O ption (STO)\\n2. Return Protector O ption (RPO)\\n3. Auto Fun ds Rebalancin g (AFR)\\n4. Safety S witchOption(SSO)\\nMont hly Premium  \\n(` )Sum Assured (` )Total  Premiums Paid\\n(` )Total  Maturity  Beneﬁt (` )\\n(Fund Valu e) at the end of 15 years\\n4 %##8%##\\n6,63,96 0 9,07,889\\nStep 3: Choose your Funds and Portfolio Management Option \\nYou can choose from a range of 8 (eight) diﬀerent Unit Linked Funds with diﬀerent risk appetites. Further, you may \\nselect one among following 4 diﬀerent Portfolio Management Options to manage and build on wealth in an optimal way:\\nIllustrative Example 1:\\n Rahul, aged 21, has just started his career and is getting into habit of  insurance & savings  \\nusing this plan.  Rahul opts for Cover Option 1 (Life Option) under this plan and starts saving with a monthly premium of Rs. 3,000 and a Premium Paying Term & Policy Term of 15 years.\\nMaturity Beneﬁt: The table below shows maturity values for multiple scenarios assuming annual gross investment \\nreturn of 4% and 8% with 100% investment in Equity II Fund\\nRahul, with small but disciplined contribution, at the end of 15 years is not only able to create a substantial corpus but \\nalso developed a habit for savings towards a strong ﬁnancial future.\\nIllustrative Example 2: Amit aged 35, is married and has a 3 years old daughter. He wants insurance & create a \\ncorpus for the future of his daughter. He is looking for a customized solution which ensures that in an event he is \\nnot around, the family's immediate needs are met and in the meantime his dream for providing a corpus to his daughter is also met. Amit chooses Cover Option 2 (Care Option) under this plan with a Premium Paying Term and Policy Term of 15 years. \\nMaturity Beneﬁt: The table below shows maturity values with multiple scenarios assuming annual gross investment \\nreturn of 4% and 8% with 100% investment in an Equity II Fund.3,60,000 3,000 5,40,000\"),\n",
       " Document(metadata={'source': 'invest4g_Product_Brochure.pdf', 'page': 1}, page_content='Key Features\\n\\uf06c\\uf06c\\n\\uf06c\\n\\uf06c\\uf06c\\n\\uf06c\\n\\uf06c\\n\\uf06c\\n\\uf06c\\n\\uf06c\\n\\uf06c\\n\\uf06cCanara HSBC Life Insurance Invest 4G  \\nA Unit Linked Individual Life Insurance Savings Plan\\nYou always work hard towards the very best in your life. Never settling for the second best option is your signature. So, \\nfor a valued customer like you, ﬁnancial protection and ﬁnancial planning for your loved ones has to be the very best. This plan provides life insurance cover to protect your family in case of your unfortunate demise as well as provides you with the greatest value for your hard earned savings. No matter at what life stage you are; a youngster just getting into the habit of savings, a family man planning for creating a secure future for his kids, planning for your own golden years or even for creating a legacy after you and at the same time safeguarding your wealth so that your personal ﬁnancial goals are met even in case you are not around. We have a solution for you.\\nPresenting Canara HSBC Life Insurance Invest 4G plan - A Unit Linked Individual Life Insurance Savings Plan which you \\ncan customize as per your goals and changing requirements. With an unmatched combination of Portfolio \\nManagement Options \\nand ﬂexibilities, this plan gives you complete control over your savings and insurance needs. \\nThis product is a non-participating product. \\nFinancial Protection for your loved ones with life insurance: Three Cover Options to choose from namely \\n‘Life Option’, ‘Care Option’ or ‘Century Option’ for diﬀerent life stages\\nLow Charges: Maximize your savings opportunity. Only Fund Management Charges and Risk Charges^ levied on your Policy\\nReturn of Mortality Charges (RoMC): Mortality Charges deducted during the Policy Term for Regular and \\nLimited Premium Paying policies will be added to the Fund Value at maturity \\nPremium Funding Beneﬁt: To ensure your targeted savings contributions are made even in your absenceAdditions in the fund to maximize the beneﬁts:\\n  \\n\\uf06c   Loyalty Additions from end of 5th Policy Year from the date of commencement and every 5th Policy Year'),\n",
       " Document(metadata={'source': 'invest4g_Product_Brochure.pdf', 'page': 6}, page_content='Sum AssuredTotal  Premiums PaidTotal  Maturity  Beneﬁ t (`)\\n(Fund Valu e) at age 100 \\nyears\\n4%##8%##\\n44,66, 066 3,09,28, 336\\n66,99, 099 4,63,92,505\\n97,15,164 6,68,58,588\\nAnnual  Premium Sum AssuredTotal  Premiums Paid Death Benefit\\n4%##8%##\\n9,13,102 12,68,496\\n13,69,65 3 1 9,02,743\\n18,26,204 2 5,36,99 1Death Beneﬁt: In case of Mr. Rajpal’s unfortunate death in the 15th policy year, the death beneﬁt, based on \\nthe assumed annual gross investment returns, are as per the table below.\\n##The assumed rates of return (4% p.a. and 8% p.a.) shown in the above illustrative examples of diﬀerent \\nscenarios are not guaranteed and they are not the upper or lower limits of what you might get back as the \\nvalue of your Policy  depends on a number of factors including future investment performance. The Fund Values shown in the above illustrative example are after deduction of all charges including applicable Goods and Services Tax & applicable cess (es) / levy, if any, (@18%).\\nThe death beneﬁt under all the options of this Plan is subject to the guaranteed beneﬁt of 105% of all \\nPremiums paid till the date of death.Annual  Premium  \\n(`)\\n(`)(`)(`)(`)\\n(`)(`)\\n50,000\\n75,000\\n1,00, 0005,00,000\\n7,50,00010,00,000\\n50,00075,0001,00,0005,00,0007,50,00010,00,0007,00,00010,50,00014,00,00010,00,000\\n15,00,00020,00,000')]"
      ]
     },
     "execution_count": 63,
     "metadata": {},
     "output_type": "execute_result"
    }
   ],
   "source": [
    "result['context']"
   ]
  },
  {
   "cell_type": "code",
   "execution_count": 150,
   "id": "779ed08a-0dad-4718-954a-97e77eb7ab23",
   "metadata": {},
   "outputs": [],
   "source": [
    "local_embeddings = HuggingFaceEmbeddings(model_name=\"sentence-transformers/all-mpnet-base-v2\")"
   ]
  },
  {
   "cell_type": "code",
   "execution_count": 164,
   "id": "87dcde17-dfc5-4179-b550-45a58b9520ce",
   "metadata": {},
   "outputs": [
    {
     "name": "stdout",
     "output_type": "stream",
     "text": [
      "0.832994277876304\n",
      "success\n"
     ]
    }
   ],
   "source": [
    "import numpy as np\n",
    "from sklearn.metrics.pairwise import cosine_similarity\n",
    "\n",
    "# Function to compute cosine similarity between two vectors\n",
    "def compute_cosine_similarity(query_embedding, passage_embedding):\n",
    "    return cosine_similarity([query_embedding], [passage_embedding])[0][0]\n",
    "\n",
    "# Example function to decide whether to answer based on similarity threshold\n",
    "def should_answer(query_embedding, retrieved_passage_embeddings, threshold):\n",
    "    # Compute similarities with all retrieved passages\n",
    "    similarities = [compute_cosine_similarity(query_embedding, passage_embedding) \n",
    "                    for passage_embedding in retrieved_passage_embeddings]\n",
    "    \n",
    "    # Check if any similarity exceeds the threshold\n",
    "    max_similarity = max(similarities)\n",
    "    \n",
    "    if max_similarity >= threshold:\n",
    "        print(max_similarity)\n",
    "        return True  # Proceed to answer the question\n",
    "    else:\n",
    "        print(max_similarity)\n",
    "        return False  # Return fallback response\n",
    "\n",
    "# Example usage\n",
    "'''query_embedding = np.array([0.1, 0.2, 0.3, 0.4])  # Replace with real query embedding\n",
    "retrieved_passage_embeddings = [np.array([0.1, 0.2, 0.3, 0.5]), \n",
    "                                np.array([0.0, 0.1, 0.2, 0.1])]  # Replace with real retrieved embeddings'''\n",
    "question=\"what is the policy term for the person aged 34 who opts life option\"\n",
    "#query_embedding=local_embeddings.embed_query(question)\n",
    "#relv_docs=db.similarity_search(question,k=3)\n",
    "#content=[doc.page_content for doc in relv_docs]\n",
    "answer_embed=local_embeddings.embed_query(result['answer'])\n",
    "content=[doc.page_content for doc in result['context']]\n",
    "relv_embed_docs=local_embeddings.embed_documents(content)\n",
    "relv_embed_docs=[np.array(embedding) for embedding in relv_embed_docs]\n",
    "# Set a threshold for similarity (tune this value based on your case)\n",
    "threshold = 0.58\n",
    "\n",
    "# Check if the model should answer the question\n",
    "if should_answer(answer_embed, relv_embed_docs, threshold):\n",
    "    print('success')\n",
    "else:\n",
    "    print(\"The question is out of context. No answer available.\")\n"
   ]
  },
  {
   "cell_type": "code",
   "execution_count": 165,
   "id": "a6a95498-d0d3-42a5-a79e-5d0374c0dc38",
   "metadata": {},
   "outputs": [
    {
     "data": {
      "text/plain": [
       "['Annual  Premium  \\n(`)Sum AssuredTotal  Premiums Paid \\n(`)Total  Maturity  Benefit (`)\\n(Fund Valu e) at the end of 15 years\\n4%##8%##\\n11,15,305 15,46,869\\n22,44,078 31,11,471\\n33,66,117 4 6,67,206\\nDeat hBenefit : In case of Amit ’s unfortunate deathat the en dof 5thpolicy yea r:\\n\\uf0d8\\n\\uf0d8\\n\\uf0d8\\nAnnual  PremiumTotal future \\nPremium  funded by \\nthe Company  (`)Total  Maturity  Beneﬁt (`)\\n(Fund Value) at the end of 15 \\nyears\\n4%##8%##\\n11,23,963 15,61,458\\n22,61,694 31,40,996\\n33,92,541 47,11,494\\nIllustrative Example 3:  Mrs. Singh, age 40 years, is a successful business woman and an intelligent investor having \\ninvestments in diﬀerent instruments. She chooses Cover Option 1 (Life Option) under this plan, to pay annual premium for a period of 10 years and a Policy Term of 10 years as shown below. \\nMaturity Beneﬁt: The table below shows fund values for multiple scenarios assuming annual gross investment \\nreturn of 4% and 8% with 100% investment in Balanced Plus Fund.Lump sum (higher of Sum Assured or 105% of all Premiums paid up to the date of death) is paid on death – to take care of any immediate liabilities on the family.\\nRemaining future premiums as and when due would be funded by the Company - ensuring that Rahul’s \\nsavings for his desired goal continues uninterrupted. \\nThe Fund Value would be paid on maturity of the Policy.\\nIllustrative Example 4:  Mr. Rajpal, age 40 years,  chooses Cover Option 3 (Century Option) under this plan, to pay \\nannual premiums for a period of 20 years as shown below. Maturity Beneﬁt: The table below shows fund values for multiple scenarios at age 100 years assuming annual \\ngross investment return of 4% and 8% with 100% investment in Balanced Plus Fund.Annual  Premium Sum AssuredTotal  Maturity  Beneﬁ t (`)\\n(Fund Valu e) at the end of 10 years\\n4%##8%##\\n10,00,000 1 ,00,00,000 1 ,00,00,000 1 ,16,02,869 1,44,37,592\\n20,00,000 2,00,00,000 2,00,00,000 2,32,05,737 2,88,75,184\\n50,00,000 5,00,00,000 5,00,00,000 5,80,14,343 7 ,21,87,959Total  Premiums Paid \\n(`)(`) (`)(`)\\n(`)Lump Sum paid',\n",
       " 'Cover  Options  that  you can choose\\nEligibility Conditi ons un der the plan\\nEligibility ConditionsCover  Opti on\\nLife Option Care  Option Century Option\\nEntry Age10 – 65 years 18 – 50 years 18 – 65 years\\nMaturity  Age 18 – 80 years 28 – 80 years Up till age 100 years\\nPolicy  Term\\n(in Years)For Limited Pay2 and Regular Pay\\n10 - 30 years  (inclusive ) 10 - 30 years  (inclusive ) 100 minus  Age at entry\\nFor Single Pay\\nCover\\nMulti pleAge at\\nEntry\\n(Years)Policy\\nTerm\\n(Years)\\n10 0 - 32 5 -30\\n10 33 -\\n38 5 - 20\\n10 39 -\\n44 5 - 10N/A N/AThe plan provides life risk coverage protection through diﬀerent Cover options to suit your needs. You can choose any \\none of the Cover Options as below and customize your plan.\\nCover Option 1- Life Option:   A simple option that provides life coverage the Policy Term and the accumulated fund value \\nof your savings at maturity .\\nUnder this option, higher of Sum Assured less partial withdrawals / withdrawals under Systematic Withdrawal Option / \\nwithdrawals under Milestone Withdrawal Option (in preceding two years) or Fund Value, subject to 105% of all \\nPremiums paid, is payable on death of the Life Assured. In case the Life Assured survives till the maturity of the Policy, \\nthe Fund value is payable at that point in time and the Policy will terminate.\\nCover Option 2: Care Option:  Option that provides life coverage and ensures that your savings contributions are made \\neven in your absence by means of ‘Premium Funding Beneﬁt’ , thus ensuring a secure future for your dependents.\\nUnder this option, lump sum (higher of Sum Assured or 105% of all Premiums paid) is paid on death of the Life Assured \\nand remaining future premiums as and when due are funded by the Company. The Fund Value is payable on maturity of \\nthe Policy. Please note that Sum Assured payable on death under this beneﬁt option is not reduced by the partial \\nwithdrawals / withdrawals under Systematic Withdrawal Option / withdrawals under Milestone Withdrawals Option \\nmade by the Life Assured prior to his / her death.',\n",
       " 'withdrawals / withdrawals under Systematic Withdrawal Option / withdrawals under Milestone Withdrawals Option \\nmade by the Life Assured prior to his / her death.\\nCover Option 3: Century Option:  Option that will cover you till you turn 100! And also allows you to leave a legacy for your \\nloved ones.\\nUnder this option, higher of Sum Assured less partial withdrawals / withdrawals under Systematic Withdrawal Option / \\nwithdrawals under Milestone Withdrawals Option (in preceding two years) or Fund Value, subject to 105% of all \\nPremiums paid, is payable on death of the Life Assured. In case the Life Assured survives till the policy anniversary on \\nwhich the Life Assured turns 100 years (age last birthday), the Fund value is payable at that point in time and the Policy \\nwill terminate.  \\nPlease note that you can choose a Cover Option at inception stage only. Once chosen it cannot be changed later during \\nthe Policy Term. The details of death beneﬁt under each of these cover options is given under beneﬁt section.',\n",
       " 'Exclusions\\nSuicide exclusion: In case of death due to suicide within 12 months from the date of commencement of the Policy or \\nfrom t he date of the revival of the Policy, the nominee of the Policyholder shall be entitled to Fund Value, as available \\non \\nthe date of intimation of death. Further, any charges other than Fund Management Charges recovered subsequent \\nto the date of death of the Life Assured shall be added back to the Fund Value as available on the date of intimation of \\ndeath. The Policy will terminate upon payment of such beneﬁt amount under all the Cover Options available under the \\nproduct.\\nOther Term\\ns & Conditions\\n1. Where Life Assured is a minor: Where the Policy has been issued on the life of a minor, the Life Assured (i.e. the \\nminor in this case) and the Policyholder will be diﬀerent at the date of commencement of the Policy. The risk cover \\nof the Life Assured shall start immediately from the date of commencement of the Policy. The Policy shall automatically vest on the Life Assured immediately on his / her date of completion of 18 years of age and the Life Assured would be the holder of the Policy from such date, subject to assignment, if any. Till such time that the Life Assured and the Policyholder are diﬀerent, all beneﬁts (death and survival) are linked to the life of the Life Assured and there is no contingency on the life of the Policyholder. In the event of death of the Life Assured in minority, all the proceeds under the Policy would go to the Policyholder and the Policy will terminate.\\n2. Free-Look Option:  If the Policyholder does not agree with the terms and conditions of the Policy, he / she shall have \\nthe option to request for cancellation of the Policy by returning the original Policy Document along with a written request stating the reasons for non-acceptance to the Company within the free-look period of 15 days (30 days in case the Policy is sourced through Distance Marketing Mode) from the date of receipt of the Policy Document.']"
      ]
     },
     "execution_count": 165,
     "metadata": {},
     "output_type": "execute_result"
    }
   ],
   "source": [
    "content"
   ]
  },
  {
   "cell_type": "code",
   "execution_count": 158,
   "id": "beccd7b5-8834-4d98-903c-4311d4e57075",
   "metadata": {},
   "outputs": [
    {
     "name": "stdout",
     "output_type": "stream",
     "text": [
      "Based on the context provided, I'll use the following assumptions to create an example:\n",
      "\n",
      "* Age: 30 years\n",
      "* Policy Term: 40 years\n",
      "* Sum Assured: 10 lakhs (1 million)\n",
      "* Annual Premium: 3.35 lakhs (based on the table in the context)\n",
      "* Investment Return: 8% per annum\n",
      "\n",
      "Here's a possible scenario:\n",
      "\n",
      "**Year 20**: The policyholder, aged 50, dies. The death benefit payable is higher of Sum Assured (10 lakhs) or 105% of all premiums paid up to that point (approximately 9.65 lakhs). Since the sum assured is more, the family receives a lump sum of 10 lakhs.\n",
      "\n",
      "**Remaining future premiums**: As per the Care Option, the Company funds the remaining future premiums as and when due. Let's assume there are approximately 15 years left in the policy term (i.e., up to age 65). The total premium for these 15 years would be around 5 crores (50 lakhs x 15).\n",
      "\n",
      "**Fund Value**: As per the Life Option, the Fund Value is payable on maturity of the Policy. Let's assume the investment return of 8% per annum has grown the fund value to approximately 4 crores (40 lakhs x 100) by the end of the policy term.\n",
      "\n",
      "Now, let's calculate the overall benefit:\n",
      "\n",
      "**Death Benefit**: 10 lakhs (lump sum paid on death)\n",
      "**Remaining Future Premiums Funded**: approximately 5 crores (funded by the Company for the next 15 years)\n",
      "**Fund Value**: approximately 4 crores (payable on maturity)\n",
      "\n",
      "Total Overall Benefit: **19.05 crores**\n",
      "\n",
      "Please note that this is a hypothetical example, and actual benefits may vary based on various factors such as investment returns, policy term, and premium payments.\n",
      "\n",
      "Source:\n",
      "* Context provided\n",
      "* Assumptions made for the example:\n",
      "\n",
      "Age: 30 years (from Eligibility Conditions)\n",
      "Policy Term: 40 years (selected from Policy Term options)\n",
      "Sum Assured: 10 lakhs (chosen from an arbitrary sum assured value)\n",
      "Annual Premium: 3.35 lakhs (based on the table in the context)\n",
      "Investment Return: 8% per annum (arbitrary assumption)\n",
      "\n",
      "Please keep in mind that this is just a simplified example to illustrate the overall benefit of the Life Option, and actual results may vary based on various factors.\n"
     ]
    }
   ],
   "source": [
    "answer=result['answer']\n",
    "print(answer)"
   ]
  },
  {
   "cell_type": "code",
   "execution_count": 157,
   "id": "8091e600-3513-4596-a900-4162c6502c2f",
   "metadata": {},
   "outputs": [
    {
     "data": {
      "text/plain": [
       "[(Document(metadata={'source': 'invest4g_Product_Brochure.pdf', 'page': 5}, page_content='Annual  Premium  \\n(`)Sum AssuredTotal  Premiums Paid \\n(`)Total  Maturity  Benefit (`)\\n(Fund Valu e) at the end of 15 years\\n4%##8%##\\n11,15,305 15,46,869\\n22,44,078 31,11,471\\n33,66,117 4 6,67,206\\nDeat hBenefit : In case of Amit ’s unfortunate deathat the en dof 5thpolicy yea r:\\n\\uf0d8\\n\\uf0d8\\n\\uf0d8\\nAnnual  PremiumTotal future \\nPremium  funded by \\nthe Company  (`)Total  Maturity  Beneﬁt (`)\\n(Fund Value) at the end of 15 \\nyears\\n4%##8%##\\n11,23,963 15,61,458\\n22,61,694 31,40,996\\n33,92,541 47,11,494\\nIllustrative Example 3:  Mrs. Singh, age 40 years, is a successful business woman and an intelligent investor having \\ninvestments in diﬀerent instruments. She chooses Cover Option 1 (Life Option) under this plan, to pay annual premium for a period of 10 years and a Policy Term of 10 years as shown below. \\nMaturity Beneﬁt: The table below shows fund values for multiple scenarios assuming annual gross investment \\nreturn of 4% and 8% with 100% investment in Balanced Plus Fund.Lump sum (higher of Sum Assured or 105% of all Premiums paid up to the date of death) is paid on death – to take care of any immediate liabilities on the family.\\nRemaining future premiums as and when due would be funded by the Company - ensuring that Rahul’s \\nsavings for his desired goal continues uninterrupted. \\nThe Fund Value would be paid on maturity of the Policy.\\nIllustrative Example 4:  Mr. Rajpal, age 40 years,  chooses Cover Option 3 (Century Option) under this plan, to pay \\nannual premiums for a period of 20 years as shown below. Maturity Beneﬁt: The table below shows fund values for multiple scenarios at age 100 years assuming annual \\ngross investment return of 4% and 8% with 100% investment in Balanced Plus Fund.Annual  Premium Sum AssuredTotal  Maturity  Beneﬁ t (`)\\n(Fund Valu e) at the end of 10 years\\n4%##8%##\\n10,00,000 1 ,00,00,000 1 ,00,00,000 1 ,16,02,869 1,44,37,592\\n20,00,000 2,00,00,000 2,00,00,000 2,32,05,737 2,88,75,184\\n50,00,000 5,00,00,000 5,00,00,000 5,80,14,343 7 ,21,87,959Total  Premiums Paid \\n(`)(`) (`)(`)\\n(`)Lump Sum paid'),\n",
       "  0.3112344),\n",
       " (Document(metadata={'source': 'invest4g_Product_Brochure.pdf', 'page': 6}, page_content='Sum AssuredTotal  Premiums PaidTotal  Maturity  Beneﬁ t (`)\\n(Fund Valu e) at age 100 \\nyears\\n4%##8%##\\n44,66, 066 3,09,28, 336\\n66,99, 099 4,63,92,505\\n97,15,164 6,68,58,588\\nAnnual  Premium Sum AssuredTotal  Premiums Paid Death Benefit\\n4%##8%##\\n9,13,102 12,68,496\\n13,69,65 3 1 9,02,743\\n18,26,204 2 5,36,99 1Death Beneﬁt: In case of Mr. Rajpal’s unfortunate death in the 15th policy year, the death beneﬁt, based on \\nthe assumed annual gross investment returns, are as per the table below.\\n##The assumed rates of return (4% p.a. and 8% p.a.) shown in the above illustrative examples of diﬀerent \\nscenarios are not guaranteed and they are not the upper or lower limits of what you might get back as the \\nvalue of your Policy  depends on a number of factors including future investment performance. The Fund Values shown in the above illustrative example are after deduction of all charges including applicable Goods and Services Tax & applicable cess (es) / levy, if any, (@18%).\\nThe death beneﬁt under all the options of this Plan is subject to the guaranteed beneﬁt of 105% of all \\nPremiums paid till the date of death.Annual  Premium  \\n(`)\\n(`)(`)(`)(`)\\n(`)(`)\\n50,000\\n75,000\\n1,00, 0005,00,000\\n7,50,00010,00,000\\n50,00075,0001,00,0005,00,0007,50,00010,00,0007,00,00010,50,00014,00,00010,00,000\\n15,00,00020,00,000'),\n",
       "  0.36662576),\n",
       " (Document(metadata={'source': 'invest4g_Product_Brochure.pdf', 'page': 2}, page_content='withdrawals / withdrawals under Systematic Withdrawal Option / withdrawals under Milestone Withdrawals Option \\nmade by the Life Assured prior to his / her death.\\nCover Option 3: Century Option:  Option that will cover you till you turn 100! And also allows you to leave a legacy for your \\nloved ones.\\nUnder this option, higher of Sum Assured less partial withdrawals / withdrawals under Systematic Withdrawal Option / \\nwithdrawals under Milestone Withdrawals Option (in preceding two years) or Fund Value, subject to 105% of all \\nPremiums paid, is payable on death of the Life Assured. In case the Life Assured survives till the policy anniversary on \\nwhich the Life Assured turns 100 years (age last birthday), the Fund value is payable at that point in time and the Policy \\nwill terminate.  \\nPlease note that you can choose a Cover Option at inception stage only. Once chosen it cannot be changed later during \\nthe Policy Term. The details of death beneﬁt under each of these cover options is given under beneﬁt section.'),\n",
       "  0.5440809),\n",
       " (Document(metadata={'source': 'invest4g_Product_Brochure.pdf', 'page': 7}, page_content='death.\\nThe Policyshall ter minate a fter the payment of any\\nof the above benefits.\\nNote:1. Death Beneﬁt\\nIn case of unfortunate demise of the Life Assured, the Death Beneﬁt will be as per the Cover Option chosen by you \\nand will be paid to the Claimant1. The death beneﬁt under each of three Cover Options will be as follows:\\n1. The term ‘Claimant’ in this Sales Literature means the Policyholder or Assignee; however for the purposes of\\npayment of death beneﬁt, Claimant means Policyholder/Nominee/ Appointee/ Legal Heir as the case may be.\\n2. The state of the policy attained due to non-payment of due premium after the completion of Lock-in Period,\\nwherein the policy continues in this state till the end of the revival period unless revived, with the risk cover\\nand charges continuing as per the terms and conditions of the policy.\\n3. Paid-up Sum Assured= Sum Assured x Number of Premiums Paid / Number of Premiums Payable.\\n4. Premium Funding Beneﬁt (PFB) refers to the Company funding all the future Premiums payable by\\nthe Life Assured on or after the date of death of the Life Assured, as and when due, until theend of Premium Payment Term, in the same premium payment mode as last chosen by the Policyholder.The Premiums funded by the Company shall be invested in various unit linked funds in the same allocationIf the death of the Life Assured occurs where the Policy is in Discontinuance state due to non-payment of \\npremium be fore\\n the end of the Lock-in Period, the proceeds of the Discontinued Policy Fund, as on date of \\nintimation of death claim will be payable to the Claimant. The Policy will terminate upon such payment.'),\n",
       "  0.5849303)]"
      ]
     },
     "execution_count": 157,
     "metadata": {},
     "output_type": "execute_result"
    }
   ],
   "source": [
    "ans_relv_docs=db.similarity_search_with_score(answer,k=4)\n",
    "ans_relv_docs"
   ]
  },
  {
   "cell_type": "code",
   "execution_count": 92,
   "id": "6fc3638c-f7fb-488b-a9b4-418399f2aa67",
   "metadata": {},
   "outputs": [
    {
     "name": "stderr",
     "output_type": "stream",
     "text": [
      "INFO:langchain.retrievers.multi_query:This is a test log from the multi_query retriever.\n"
     ]
    },
    {
     "name": "stdout",
     "output_type": "stream",
     "text": [
      "\n"
     ]
    },
    {
     "data": {
      "text/plain": [
       "0"
      ]
     },
     "execution_count": 92,
     "metadata": {},
     "output_type": "execute_result"
    }
   ],
   "source": [
    "import logging\n",
    "import io\n",
    "\n",
    "# Create an in-memory stream to capture logs\n",
    "log_stream = io.StringIO()\n",
    "\n",
    "# Configure logging to write to the in-memory stream\n",
    "logging.basicConfig(stream=log_stream, level=logging.INFO)\n",
    "logger = logging.getLogger(\"langchain.retrievers.multi_query\")\n",
    "logger.setLevel(logging.INFO)\n",
    "\n",
    "# Example: Use the retriever and generate some log messages\n",
    "# Assuming you run your MultiQueryRetriever or other Langchain operations here\n",
    "# Example log:\n",
    "logger.info(\"This is a test log from the multi_query retriever.\")\n",
    "\n",
    "# Get the log content from the in-memory stream\n",
    "log_contents = log_stream.getvalue()\n",
    "\n",
    "# Print the captured logs\n",
    "print(log_contents)\n",
    "\n",
    "# Optionally, reset the stream to reuse it\n",
    "log_stream.truncate(0)\n",
    "log_stream.seek(0)\n"
   ]
  },
  {
   "cell_type": "code",
   "execution_count": 3,
   "id": "749b3e62-251f-4fa2-b38b-1d288c590302",
   "metadata": {},
   "outputs": [
    {
     "ename": "ModuleNotFoundError",
     "evalue": "No module named 'flask'",
     "output_type": "error",
     "traceback": [
      "\u001b[0;31m---------------------------------------------------------------------------\u001b[0m",
      "\u001b[0;31mModuleNotFoundError\u001b[0m                       Traceback (most recent call last)",
      "Cell \u001b[0;32mIn[3], line 1\u001b[0m\n\u001b[0;32m----> 1\u001b[0m \u001b[38;5;28;01mfrom\u001b[39;00m \u001b[38;5;21;01mflask\u001b[39;00m \u001b[38;5;28;01mimport\u001b[39;00m jsonify\n",
      "\u001b[0;31mModuleNotFoundError\u001b[0m: No module named 'flask'"
     ]
    }
   ],
   "source": [
    "from flask import jsonify"
   ]
  },
  {
   "cell_type": "code",
   "execution_count": 11,
   "id": "7c68ac2c-d25c-4962-b8e7-3fd712eb7bc3",
   "metadata": {},
   "outputs": [
    {
     "name": "stdout",
     "output_type": "stream",
     "text": [
      "Collecting jsonify\n",
      "  Downloading jsonify-0.5.tar.gz (1.0 kB)\n",
      "  Preparing metadata (setup.py) ... \u001b[?25ldone\n",
      "\u001b[?25hBuilding wheels for collected packages: jsonify\n",
      "  Building wheel for jsonify (setup.py) ... \u001b[?25ldone\n",
      "\u001b[?25h  Created wheel for jsonify: filename=jsonify-0.5-py3-none-any.whl size=1538 sha256=6f8aeb067eb978622677a8cc3cf07876ee02a7a8e4d6334d4e3c77b89c7acfc4\n",
      "  Stored in directory: /Users/rosireddyvangala/Library/Caches/pip/wheels/8b/0b/70/cd8a2f72ec6e8dbab2d7fffe3e8a545f4d152255cc7e8541f5\n",
      "Successfully built jsonify\n",
      "Installing collected packages: jsonify\n",
      "Successfully installed jsonify-0.5\n",
      "\n",
      "\u001b[1m[\u001b[0m\u001b[34;49mnotice\u001b[0m\u001b[1;39;49m]\u001b[0m\u001b[39;49m A new release of pip is available: \u001b[0m\u001b[31;49m23.0.1\u001b[0m\u001b[39;49m -> \u001b[0m\u001b[32;49m24.2\u001b[0m\n",
      "\u001b[1m[\u001b[0m\u001b[34;49mnotice\u001b[0m\u001b[1;39;49m]\u001b[0m\u001b[39;49m To update, run: \u001b[0m\u001b[32;49mpip install --upgrade pip\u001b[0m\n"
     ]
    }
   ],
   "source": [
    "!pip install jso"
   ]
  },
  {
   "cell_type": "code",
   "execution_count": 2,
   "id": "d8027982-7bcb-4507-8915-d6e7b2df62cd",
   "metadata": {},
   "outputs": [],
   "source": [
    "def generate_queries():\n",
    "    question = \"What are the approaches to Task Decomposition?\"\n",
    "\n",
    "    # retriever_from_llm = MultiQueryRetriever.from_llm(\n",
    "    #     retriever=retriever, llm=llm\n",
    "    # )\n",
    "    # unique_docs = retriever_from_llm.invoke(question)\n",
    "    # # Access captured logs\n",
    "    # captured_logs = capture_handler.log_messages\n",
    "    # for i, log in enumerate(captured_logs, 1):\n",
    "    #     print(f\"Log {i}: {log}\")\n",
    "    \n",
    "    # ques=log.split(\", '\")\n",
    "    # ques=ques[1:]\n",
    "    # q=[]\n",
    "    # a=0\n",
    "    # for que in ques:\n",
    "    #     a+=1\n",
    "    #     if a==3:\n",
    "    #         q.append(que.replace(\"']\",\"\"))\n",
    "    #     else:\n",
    "    #         q.append(que.replace(\"'\",\"\"))\n",
    "\n",
    "    # Here you will capture the generated queries (assuming they're logged or available)\n",
    "      # Adapt this to how you access the queries\n",
    "    q = [\n",
    "        \"What are the approaches to Task Decomposition?\",\n",
    "        \"How can life insurance benefit policyholders at the age of 40?\",\n",
    "        \"What is the capital of France?\",\n",
    "        \"What are some real-life examples of life insurance policies?\"\n",
    "    ]\n",
    "\n",
    "    return jsonify({\"queries\": q})"
   ]
  },
  {
   "cell_type": "code",
   "execution_count": 2,
   "id": "3eb00b1d-67a7-4d01-b1d2-1e36532dfc59",
   "metadata": {},
   "outputs": [
    {
     "ename": "NameError",
     "evalue": "name 'jsonify' is not defined",
     "output_type": "error",
     "traceback": [
      "\u001b[0;31m---------------------------------------------------------------------------\u001b[0m",
      "\u001b[0;31mNameError\u001b[0m                                 Traceback (most recent call last)",
      "Cell \u001b[0;32mIn[2], line 1\u001b[0m\n\u001b[0;32m----> 1\u001b[0m generate_queries()\n",
      "Cell \u001b[0;32mIn[1], line 33\u001b[0m, in \u001b[0;36mgenerate_queries\u001b[0;34m()\u001b[0m\n\u001b[1;32m      4\u001b[0m \u001b[38;5;66;03m# retriever_from_llm = MultiQueryRetriever.from_llm(\u001b[39;00m\n\u001b[1;32m      5\u001b[0m \u001b[38;5;66;03m#     retriever=retriever, llm=llm\u001b[39;00m\n\u001b[1;32m      6\u001b[0m \u001b[38;5;66;03m# )\u001b[39;00m\n\u001b[0;32m   (...)\u001b[0m\n\u001b[1;32m     24\u001b[0m \u001b[38;5;66;03m# Here you will capture the generated queries (assuming they're logged or available)\u001b[39;00m\n\u001b[1;32m     25\u001b[0m   \u001b[38;5;66;03m# Adapt this to how you access the queries\u001b[39;00m\n\u001b[1;32m     26\u001b[0m q \u001b[38;5;241m=\u001b[39m [\n\u001b[1;32m     27\u001b[0m     \u001b[38;5;124m\"\u001b[39m\u001b[38;5;124mWhat are the approaches to Task Decomposition?\u001b[39m\u001b[38;5;124m\"\u001b[39m,\n\u001b[1;32m     28\u001b[0m     \u001b[38;5;124m\"\u001b[39m\u001b[38;5;124mHow can life insurance benefit policyholders at the age of 40?\u001b[39m\u001b[38;5;124m\"\u001b[39m,\n\u001b[1;32m     29\u001b[0m     \u001b[38;5;124m\"\u001b[39m\u001b[38;5;124mWhat is the capital of France?\u001b[39m\u001b[38;5;124m\"\u001b[39m,\n\u001b[1;32m     30\u001b[0m     \u001b[38;5;124m\"\u001b[39m\u001b[38;5;124mWhat are some real-life examples of life insurance policies?\u001b[39m\u001b[38;5;124m\"\u001b[39m\n\u001b[1;32m     31\u001b[0m ]\n\u001b[0;32m---> 33\u001b[0m \u001b[38;5;28;01mreturn\u001b[39;00m jsonify({\u001b[38;5;124m\"\u001b[39m\u001b[38;5;124mqueries\u001b[39m\u001b[38;5;124m\"\u001b[39m: q})\n",
      "\u001b[0;31mNameError\u001b[0m: name 'jsonify' is not defined"
     ]
    }
   ],
   "source": [
    "generate_queries()"
   ]
  },
  {
   "cell_type": "code",
   "execution_count": 4,
   "id": "f1fa0022-e6e3-4379-a0f7-ce93c1de1652",
   "metadata": {},
   "outputs": [
    {
     "name": "stdout",
     "output_type": "stream",
     "text": [
      "\u001b[31mERROR: pip's dependency resolver does not currently take into account all the packages that are installed. This behaviour is the source of the following dependency conflicts.\n",
      "langchain 0.2.12 requires langchain-core<0.3.0,>=0.2.27, but you have langchain-core 0.3.7 which is incompatible.\n",
      "langchain-community 0.2.11 requires langchain-core<0.3.0,>=0.2.27, but you have langchain-core 0.3.7 which is incompatible.\n",
      "langchain-chroma 0.1.2 requires langchain-core<0.3,>=0.1.40, but you have langchain-core 0.3.7 which is incompatible.\n",
      "langchain-ollama 0.1.1 requires langchain-core<0.3.0,>=0.2.20, but you have langchain-core 0.3.7 which is incompatible.\n",
      "langchain-experimental 0.0.64 requires langchain-core<0.3.0,>=0.2.27, but you have langchain-core 0.3.7 which is incompatible.\n",
      "langchain-huggingface 0.0.3 requires langchain-core<0.3,>=0.1.52, but you have langchain-core 0.3.7 which is incompatible.\n",
      "langchain-text-splitters 0.2.2 requires langchain-core<0.3.0,>=0.2.10, but you have langchain-core 0.3.7 which is incompatible.\n",
      "langchain-mistralai 0.1.12 requires langchain-core<0.3.0,>=0.2.26, but you have langchain-core 0.3.7 which is incompatible.\u001b[0m\u001b[31m\n",
      "\u001b[0mNote: you may need to restart the kernel to use updated packages.\n"
     ]
    }
   ],
   "source": [
    "pip install langchain-nomic"
   ]
  },
  {
   "cell_type": "code",
   "execution_count": 1,
   "id": "7f8f0098-1408-428b-8bd0-b01b4ea171e9",
   "metadata": {},
   "outputs": [],
   "source": [
    "### LLM\n",
    "from langchain_ollama import ChatOllama\n",
    "\n",
    "local_llm = \"llama3.2:3b-instruct-fp16\"\n",
    "llm = ChatOllama(model=local_llm, temperature=0)\n",
    "llm_json_mode = ChatOllama(model=local_llm, temperature=0, format=\"json\")"
   ]
  },
  {
   "cell_type": "code",
   "execution_count": 2,
   "id": "89620275-afc0-46e7-b57b-a006586b07d2",
   "metadata": {},
   "outputs": [
    {
     "name": "stderr",
     "output_type": "stream",
     "text": [
      "USER_AGENT environment variable not set, consider setting it to identify your requests.\n"
     ]
    }
   ],
   "source": [
    "from langchain.text_splitter import RecursiveCharacterTextSplitter\n",
    "from langchain_community.document_loaders import WebBaseLoader\n",
    "from langchain_community.vectorstores import SKLearnVectorStore\n",
    "from langchain_nomic.embeddings import NomicEmbeddings\n",
    "\n",
    "urls = [\n",
    "    \"https://lilianweng.github.io/posts/2023-06-23-agent/\",\n",
    "    \"https://lilianweng.github.io/posts/2023-03-15-prompt-engineering/\",\n",
    "    \"https://lilianweng.github.io/posts/2023-10-25-adv-attack-llm/\",\n",
    "]\n",
    "\n",
    "# Load documents\n",
    "docs = [WebBaseLoader(url).load() for url in urls]\n",
    "docs_list = [item for sublist in docs for item in sublist]\n",
    "\n",
    "# Split documents\n",
    "text_splitter = RecursiveCharacterTextSplitter.from_tiktoken_encoder(\n",
    "    chunk_size=1000, chunk_overlap=200\n",
    ")\n",
    "doc_splits = text_splitter.split_documents(docs_list)\n",
    "\n",
    "# Add to vectorDB\n",
    "vectorstore = SKLearnVectorStore.from_documents(\n",
    "    documents=doc_splits,\n",
    "    embedding=NomicEmbeddings(model=\"nomic-embed-text-v1.5\", inference_mode=\"local\"),\n",
    ")\n",
    "\n",
    "# Create retriever\n",
    "retriever = vectorstore.as_retriever(k=3)"
   ]
  },
  {
   "cell_type": "code",
   "execution_count": 35,
   "id": "31fb499b-c4d9-4434-889f-9ad974978c1c",
   "metadata": {},
   "outputs": [],
   "source": [
    "from langchain.text_splitter import RecursiveCharacterTextSplitter\n",
    "from langchain_community.vectorstores import SKLearnVectorStore\n",
    "from langchain_nomic.embeddings import NomicEmbeddings\n",
    "\n",
    "\n",
    "\n",
    "# Split documents\n",
    "text_splitter = RecursiveCharacterTextSplitter.from_tiktoken_encoder(\n",
    "    chunk_size=1000, chunk_overlap=200\n",
    ")\n",
    "doc_splits = text_splitter.split_documents(docs)\n",
    "\n",
    "# Add to vectorDB\n",
    "vectorstore = SKLearnVectorStore.from_documents(\n",
    "    documents=doc_splits,\n",
    "    embedding=NomicEmbeddings(model=\"nomic-embed-text-v1.5\", inference_mode=\"local\"),\n",
    ")\n",
    "\n",
    "# Create retriever\n",
    "retriever = vectorstore.as_retriever(k=3)"
   ]
  },
  {
   "cell_type": "code",
   "execution_count": 4,
   "id": "0ac5986d-7442-4891-8677-2e4d7b7c3e52",
   "metadata": {},
   "outputs": [
    {
     "name": "stdout",
     "output_type": "stream",
     "text": [
      "{'datasource': 'websearch'} {'datasource': 'websearch'} {'datasource': 'vectorstore'}\n"
     ]
    }
   ],
   "source": [
    "### Router\n",
    "import json\n",
    "from langchain_core.messages import HumanMessage, SystemMessage\n",
    "\n",
    "# Prompt\n",
    "router_instructions = \"\"\"You are an expert at routing a user question to a vectorstore or web search.\n",
    "\n",
    "The vectorstore contains documents related to agents, prompt engineering, and adversarial attacks.\n",
    "                                    \n",
    "Use the vectorstore for questions on these topics. For all else, and especially for current events, use web-search.\n",
    "\n",
    "Return JSON with single key, datasource, that is 'websearch' or 'vectorstore' depending on the question.\"\"\"\n",
    "\n",
    "# Test router\n",
    "test_web_search = llm_json_mode.invoke(\n",
    "    [SystemMessage(content=router_instructions)]\n",
    "    + [\n",
    "        HumanMessage(\n",
    "            content=\"Who is favored to win the NFC Championship game in the 2024 season?\"\n",
    "        )\n",
    "    ]\n",
    ")\n",
    "test_web_search_2 = llm_json_mode.invoke(\n",
    "    [SystemMessage(content=router_instructions)]\n",
    "    + [HumanMessage(content=\"What are the models released today for llama3.2?\")]\n",
    ")\n",
    "test_vector_store = llm_json_mode.invoke(\n",
    "    [SystemMessage(content=router_instructions)]\n",
    "    + [HumanMessage(content=\"What are the types of agent memory?\")]\n",
    ")\n",
    "print(\n",
    "    json.loads(test_web_search.content),\n",
    "    json.loads(test_web_search_2.content),\n",
    "    json.loads(test_vector_store.content),\n",
    ")"
   ]
  },
  {
   "cell_type": "code",
   "execution_count": 38,
   "id": "7bba2365-bbb7-4fc1-9d63-092dc3a58209",
   "metadata": {},
   "outputs": [
    {
     "data": {
      "text/plain": [
       "{'binary_score': 'yes'}"
      ]
     },
     "execution_count": 38,
     "metadata": {},
     "output_type": "execute_result"
    }
   ],
   "source": [
    "### Retrieval Grader\n",
    "\n",
    "# Doc grader instructions\n",
    "doc_grader_instructions = \"\"\"You are a grader assessing relevance of a retrieved document to a user question.\n",
    "\n",
    "If the document contains keyword(s) or semantic meaning related to the question, grade it as relevant.\"\"\"\n",
    "\n",
    "# Grader prompt\n",
    "doc_grader_prompt = \"\"\"Here is the retrieved document: \\n\\n {document} \\n\\n Here is the user question: \\n\\n {question}. \n",
    "\n",
    "This carefully and objectively assess whether the document contains at least some information that is relevant to the question.\n",
    "\n",
    "Return JSON with single key, binary_score, that is 'yes' or 'no' score to indicate whether the document contains at least some information that is relevant to the question.\"\"\"\n",
    "\n",
    "# Test\n",
    "def format_docs(docs):\n",
    "    return \"\\n\\n\".join(doc.page_content for doc in docs)\n",
    "\n",
    "\n",
    "question = \"give me an example for any particular age and a polciy term of 50 years through which i can understand the maturity benefit of Cover option1(life option)\"\n",
    "docs = retriever.invoke(question)\n",
    "doc_txt = format_docs(docs)\n",
    "doc_grader_prompt_formatted = doc_grader_prompt.format(\n",
    "    document=doc_txt, question=question\n",
    ")\n",
    "result = llm_json_mode.invoke(\n",
    "    [SystemMessage(content=doc_grader_instructions)]\n",
    "    + [HumanMessage(content=doc_grader_prompt_formatted)]\n",
    ")\n",
    "json.loads(result.content)"
   ]
  },
  {
   "cell_type": "code",
   "execution_count": 36,
   "id": "440dc491-8675-469d-a2ff-f1626e13e3e9",
   "metadata": {},
   "outputs": [
    {
     "name": "stdout",
     "output_type": "stream",
     "text": [
      "4\n",
      "\n",
      "\n",
      "Exclusions\n",
      "Suicide exclusion: In case of death due to suicide within 12 months from the date of commencement of the Policy or \n",
      "from t he date of the revival of the Policy, the nominee of the Policyholder shall be entitled to Fund Value, as available \n",
      "on \n",
      "the date of intimation of death. Further, any charges other than Fund Management Charges recovered subsequent \n",
      "to the date of death of the Life Assured shall be added back to the Fund Value as available on the date of intimation of \n",
      "death. The Policy will terminate upon payment of such beneﬁt amount under all the Cover Options available under the \n",
      "product.\n",
      "Other Term\n",
      "s & Conditions\n",
      "1. Where Life Assured is a minor: Where the Policy has been issued on the life of a minor, the Life Assured (i.e. the \n",
      "minor in this case) and the Policyholder will be diﬀerent at the date of commencement of the Policy. The risk cover \n",
      "of the Life Assured shall start immediately from the date of commencement of the Policy. The Policy shall automatically vest on the Life Assured immediately on his / her date of completion of 18 years of age and the Life Assured would be the holder of the Policy from such date, subject to assignment, if any. Till such time that the Life Assured and the Policyholder are diﬀerent, all beneﬁts (death and survival) are linked to the life of the Life Assured and there is no contingency on the life of the Policyholder. In the event of death of the Life Assured in minority, all the proceeds under the Policy would go to the Policyholder and the Policy will terminate.\n",
      "2. Free-Look Option:  If the Policyholder does not agree with the terms and conditions of the Policy, he / she shall have \n",
      "the option to request for cancellation of the Policy by returning the original Policy Document along with a written request stating the reasons for non-acceptance to the Company within the free-look period of 15 days (30 days in case the Policy is sourced through Distance Marketing Mode) from the date of receipt of the Policy Document. \n",
      "If the Policyholder opts for cancelling the Policy during the free-look period, the Company will refund the Fund Value \n",
      "as on the date of such cancellation plus the charges deducted by cancellation of units. This amount will be paid subject to deduction of the proportionate risk premium for the period of cover, stamp duty charges and expenses incurred on medicals (if any).\n",
      "Distance Marketing Mode pertains to the sale of the product through a mode other than personal interaction. \n",
      "3. Grace period: You have a period of 30 days for Annual, Half Yearly and Quarterly Mode of Premium payment and 15 \n",
      "days for Monthly Mode of Premium payment from the due date to pay your Premiums, during which life insurance cover will continue.\n",
      "4. Auto termination: At any time during the Policy Term after the completion of the Lock-in Period provided that ﬁrst \n",
      "5 Policy Years Premium have been paid, if on any monthly Policy anniversary, the Fund Value is insuﬃcient to deduct monthly charges due to cancellation of units, or becomes equal to zero, then this Policy shall terminate automatically. The remaining Fund Value (if any) as on the date of such termination shall be payable to you. However this will not apply once future premiums are being funded by the Company as per Cover Option 2 (Care Option).\n",
      "5. First premium will be allocated at the NAV on the date of commencement of the Policy. \n",
      "6. Transaction requests (including renewal Premiums, switches, partial withdrawals, surrender etc.) received before\n",
      "the cutoﬀ time of 3.00 pm will be allocated the same business day's NAV and the ones received after the cutoﬀ time \n",
      "of 3.00 pm will be allocated next business day's NAV. The cutoﬀ time will be as per IRDAI guidelines as amended from time to time.\n",
      "7. There is no provision of loan in this plan.\n",
      "8. Tax Beneﬁt:  Tax Beneﬁts under the Policy will be as per the prevailing Income Tax laws and are subject to \n",
      "amendments from time to time. For tax related queries, contact your independent tax advisor.\n",
      "9. Assignment/ Nomination Requirements: Assignment and Nomination are permitted under this Plan as per\n",
      "Section 38 and Section 39 respectively of the Insurance Act, 1938 as amended from time to time.\n"
     ]
    }
   ],
   "source": [
    "question = \"What is Chain of thought prompting?\"\n",
    "docs = retriever.invoke(question)\n",
    "doc_txt = docs[1].page_content\n",
    "print(len(docs))\n",
    "print()\n",
    "print()\n",
    "print(docs[1].page_content)"
   ]
  },
  {
   "cell_type": "code",
   "execution_count": 40,
   "id": "5584acb7-ca94-4c6b-80a4-8630283b6fc9",
   "metadata": {},
   "outputs": [
    {
     "ename": "RemoteProtocolError",
     "evalue": "peer closed connection without sending complete message body (incomplete chunked read)",
     "output_type": "error",
     "traceback": [
      "\u001b[0;31m---------------------------------------------------------------------------\u001b[0m",
      "\u001b[0;31mRemoteProtocolError\u001b[0m                       Traceback (most recent call last)",
      "File \u001b[0;32m/Applications/anaconda3/envs/misenv/lib/python3.12/site-packages/httpcore/_exceptions.py:10\u001b[0m, in \u001b[0;36mmap_exceptions\u001b[0;34m(map)\u001b[0m\n\u001b[1;32m      9\u001b[0m \u001b[38;5;28;01mtry\u001b[39;00m:\n\u001b[0;32m---> 10\u001b[0m     \u001b[38;5;28;01myield\u001b[39;00m\n\u001b[1;32m     11\u001b[0m \u001b[38;5;28;01mexcept\u001b[39;00m \u001b[38;5;167;01mException\u001b[39;00m \u001b[38;5;28;01mas\u001b[39;00m exc:  \u001b[38;5;66;03m# noqa: PIE786\u001b[39;00m\n",
      "File \u001b[0;32m/Applications/anaconda3/envs/misenv/lib/python3.12/site-packages/httpcore/_sync/http11.py:209\u001b[0m, in \u001b[0;36mHTTP11Connection._receive_event\u001b[0;34m(self, timeout)\u001b[0m\n\u001b[1;32m    208\u001b[0m \u001b[38;5;28;01mwith\u001b[39;00m map_exceptions({h11\u001b[38;5;241m.\u001b[39mRemoteProtocolError: RemoteProtocolError}):\n\u001b[0;32m--> 209\u001b[0m     event \u001b[38;5;241m=\u001b[39m \u001b[38;5;28mself\u001b[39m\u001b[38;5;241m.\u001b[39m_h11_state\u001b[38;5;241m.\u001b[39mnext_event()\n\u001b[1;32m    211\u001b[0m \u001b[38;5;28;01mif\u001b[39;00m event \u001b[38;5;129;01mis\u001b[39;00m h11\u001b[38;5;241m.\u001b[39mNEED_DATA:\n",
      "File \u001b[0;32m/Applications/anaconda3/envs/misenv/lib/python3.12/site-packages/h11/_connection.py:469\u001b[0m, in \u001b[0;36mConnection.next_event\u001b[0;34m(self)\u001b[0m\n\u001b[1;32m    468\u001b[0m \u001b[38;5;28;01mtry\u001b[39;00m:\n\u001b[0;32m--> 469\u001b[0m     event \u001b[38;5;241m=\u001b[39m \u001b[38;5;28mself\u001b[39m\u001b[38;5;241m.\u001b[39m_extract_next_receive_event()\n\u001b[1;32m    470\u001b[0m     \u001b[38;5;28;01mif\u001b[39;00m event \u001b[38;5;129;01mnot\u001b[39;00m \u001b[38;5;129;01min\u001b[39;00m [NEED_DATA, PAUSED]:\n",
      "File \u001b[0;32m/Applications/anaconda3/envs/misenv/lib/python3.12/site-packages/h11/_connection.py:419\u001b[0m, in \u001b[0;36mConnection._extract_next_receive_event\u001b[0;34m(self)\u001b[0m\n\u001b[1;32m    418\u001b[0m \u001b[38;5;28;01mif\u001b[39;00m \u001b[38;5;28mhasattr\u001b[39m(\u001b[38;5;28mself\u001b[39m\u001b[38;5;241m.\u001b[39m_reader, \u001b[38;5;124m\"\u001b[39m\u001b[38;5;124mread_eof\u001b[39m\u001b[38;5;124m\"\u001b[39m):\n\u001b[0;32m--> 419\u001b[0m     event \u001b[38;5;241m=\u001b[39m \u001b[38;5;28mself\u001b[39m\u001b[38;5;241m.\u001b[39m_reader\u001b[38;5;241m.\u001b[39mread_eof()  \u001b[38;5;66;03m# type: ignore[attr-defined]\u001b[39;00m\n\u001b[1;32m    420\u001b[0m \u001b[38;5;28;01melse\u001b[39;00m:\n",
      "File \u001b[0;32m/Applications/anaconda3/envs/misenv/lib/python3.12/site-packages/h11/_readers.py:204\u001b[0m, in \u001b[0;36mChunkedReader.read_eof\u001b[0;34m(self)\u001b[0m\n\u001b[1;32m    203\u001b[0m \u001b[38;5;28;01mdef\u001b[39;00m \u001b[38;5;21mread_eof\u001b[39m(\u001b[38;5;28mself\u001b[39m) \u001b[38;5;241m-\u001b[39m\u001b[38;5;241m>\u001b[39m NoReturn:\n\u001b[0;32m--> 204\u001b[0m     \u001b[38;5;28;01mraise\u001b[39;00m RemoteProtocolError(\n\u001b[1;32m    205\u001b[0m         \u001b[38;5;124m\"\u001b[39m\u001b[38;5;124mpeer closed connection without sending complete message body \u001b[39m\u001b[38;5;124m\"\u001b[39m\n\u001b[1;32m    206\u001b[0m         \u001b[38;5;124m\"\u001b[39m\u001b[38;5;124m(incomplete chunked read)\u001b[39m\u001b[38;5;124m\"\u001b[39m\n\u001b[1;32m    207\u001b[0m     )\n",
      "\u001b[0;31mRemoteProtocolError\u001b[0m: peer closed connection without sending complete message body (incomplete chunked read)",
      "\nThe above exception was the direct cause of the following exception:\n",
      "\u001b[0;31mRemoteProtocolError\u001b[0m                       Traceback (most recent call last)",
      "File \u001b[0;32m/Applications/anaconda3/envs/misenv/lib/python3.12/site-packages/httpx/_transports/default.py:69\u001b[0m, in \u001b[0;36mmap_httpcore_exceptions\u001b[0;34m()\u001b[0m\n\u001b[1;32m     68\u001b[0m \u001b[38;5;28;01mtry\u001b[39;00m:\n\u001b[0;32m---> 69\u001b[0m     \u001b[38;5;28;01myield\u001b[39;00m\n\u001b[1;32m     70\u001b[0m \u001b[38;5;28;01mexcept\u001b[39;00m \u001b[38;5;167;01mException\u001b[39;00m \u001b[38;5;28;01mas\u001b[39;00m exc:\n",
      "File \u001b[0;32m/Applications/anaconda3/envs/misenv/lib/python3.12/site-packages/httpx/_transports/default.py:113\u001b[0m, in \u001b[0;36mResponseStream.__iter__\u001b[0;34m(self)\u001b[0m\n\u001b[1;32m    112\u001b[0m \u001b[38;5;28;01mwith\u001b[39;00m map_httpcore_exceptions():\n\u001b[0;32m--> 113\u001b[0m     \u001b[38;5;28;01mfor\u001b[39;00m part \u001b[38;5;129;01min\u001b[39;00m \u001b[38;5;28mself\u001b[39m\u001b[38;5;241m.\u001b[39m_httpcore_stream:\n\u001b[1;32m    114\u001b[0m         \u001b[38;5;28;01myield\u001b[39;00m part\n",
      "File \u001b[0;32m/Applications/anaconda3/envs/misenv/lib/python3.12/site-packages/httpcore/_sync/connection_pool.py:361\u001b[0m, in \u001b[0;36mConnectionPoolByteStream.__iter__\u001b[0;34m(self)\u001b[0m\n\u001b[1;32m    360\u001b[0m \u001b[38;5;28;01mdef\u001b[39;00m \u001b[38;5;21m__iter__\u001b[39m(\u001b[38;5;28mself\u001b[39m) \u001b[38;5;241m-\u001b[39m\u001b[38;5;241m>\u001b[39m Iterator[\u001b[38;5;28mbytes\u001b[39m]:\n\u001b[0;32m--> 361\u001b[0m     \u001b[38;5;28;01mfor\u001b[39;00m part \u001b[38;5;129;01min\u001b[39;00m \u001b[38;5;28mself\u001b[39m\u001b[38;5;241m.\u001b[39m_stream:\n\u001b[1;32m    362\u001b[0m         \u001b[38;5;28;01myield\u001b[39;00m part\n",
      "File \u001b[0;32m/Applications/anaconda3/envs/misenv/lib/python3.12/site-packages/httpcore/_sync/http11.py:337\u001b[0m, in \u001b[0;36mHTTP11ConnectionByteStream.__iter__\u001b[0;34m(self)\u001b[0m\n\u001b[1;32m    336\u001b[0m     \u001b[38;5;28mself\u001b[39m\u001b[38;5;241m.\u001b[39mclose()\n\u001b[0;32m--> 337\u001b[0m \u001b[38;5;28;01mraise\u001b[39;00m exc\n",
      "File \u001b[0;32m/Applications/anaconda3/envs/misenv/lib/python3.12/site-packages/httpcore/_sync/http11.py:329\u001b[0m, in \u001b[0;36mHTTP11ConnectionByteStream.__iter__\u001b[0;34m(self)\u001b[0m\n\u001b[1;32m    328\u001b[0m \u001b[38;5;28;01mwith\u001b[39;00m Trace(\u001b[38;5;124m\"\u001b[39m\u001b[38;5;124mreceive_response_body\u001b[39m\u001b[38;5;124m\"\u001b[39m, logger, \u001b[38;5;28mself\u001b[39m\u001b[38;5;241m.\u001b[39m_request, kwargs):\n\u001b[0;32m--> 329\u001b[0m     \u001b[38;5;28;01mfor\u001b[39;00m chunk \u001b[38;5;129;01min\u001b[39;00m \u001b[38;5;28mself\u001b[39m\u001b[38;5;241m.\u001b[39m_connection\u001b[38;5;241m.\u001b[39m_receive_response_body(\u001b[38;5;241m*\u001b[39m\u001b[38;5;241m*\u001b[39mkwargs):\n\u001b[1;32m    330\u001b[0m         \u001b[38;5;28;01myield\u001b[39;00m chunk\n",
      "File \u001b[0;32m/Applications/anaconda3/envs/misenv/lib/python3.12/site-packages/httpcore/_sync/http11.py:198\u001b[0m, in \u001b[0;36mHTTP11Connection._receive_response_body\u001b[0;34m(self, request)\u001b[0m\n\u001b[1;32m    197\u001b[0m \u001b[38;5;28;01mwhile\u001b[39;00m \u001b[38;5;28;01mTrue\u001b[39;00m:\n\u001b[0;32m--> 198\u001b[0m     event \u001b[38;5;241m=\u001b[39m \u001b[38;5;28mself\u001b[39m\u001b[38;5;241m.\u001b[39m_receive_event(timeout\u001b[38;5;241m=\u001b[39mtimeout)\n\u001b[1;32m    199\u001b[0m     \u001b[38;5;28;01mif\u001b[39;00m \u001b[38;5;28misinstance\u001b[39m(event, h11\u001b[38;5;241m.\u001b[39mData):\n",
      "File \u001b[0;32m/Applications/anaconda3/envs/misenv/lib/python3.12/site-packages/httpcore/_sync/http11.py:208\u001b[0m, in \u001b[0;36mHTTP11Connection._receive_event\u001b[0;34m(self, timeout)\u001b[0m\n\u001b[1;32m    207\u001b[0m \u001b[38;5;28;01mwhile\u001b[39;00m \u001b[38;5;28;01mTrue\u001b[39;00m:\n\u001b[0;32m--> 208\u001b[0m     \u001b[38;5;28;01mwith\u001b[39;00m map_exceptions({h11\u001b[38;5;241m.\u001b[39mRemoteProtocolError: RemoteProtocolError}):\n\u001b[1;32m    209\u001b[0m         event \u001b[38;5;241m=\u001b[39m \u001b[38;5;28mself\u001b[39m\u001b[38;5;241m.\u001b[39m_h11_state\u001b[38;5;241m.\u001b[39mnext_event()\n",
      "File \u001b[0;32m/Applications/anaconda3/envs/misenv/lib/python3.12/contextlib.py:158\u001b[0m, in \u001b[0;36m_GeneratorContextManager.__exit__\u001b[0;34m(self, typ, value, traceback)\u001b[0m\n\u001b[1;32m    157\u001b[0m \u001b[38;5;28;01mtry\u001b[39;00m:\n\u001b[0;32m--> 158\u001b[0m     \u001b[38;5;28mself\u001b[39m\u001b[38;5;241m.\u001b[39mgen\u001b[38;5;241m.\u001b[39mthrow(value)\n\u001b[1;32m    159\u001b[0m \u001b[38;5;28;01mexcept\u001b[39;00m \u001b[38;5;167;01mStopIteration\u001b[39;00m \u001b[38;5;28;01mas\u001b[39;00m exc:\n\u001b[1;32m    160\u001b[0m     \u001b[38;5;66;03m# Suppress StopIteration *unless* it's the same exception that\u001b[39;00m\n\u001b[1;32m    161\u001b[0m     \u001b[38;5;66;03m# was passed to throw().  This prevents a StopIteration\u001b[39;00m\n\u001b[1;32m    162\u001b[0m     \u001b[38;5;66;03m# raised inside the \"with\" statement from being suppressed.\u001b[39;00m\n",
      "File \u001b[0;32m/Applications/anaconda3/envs/misenv/lib/python3.12/site-packages/httpcore/_exceptions.py:14\u001b[0m, in \u001b[0;36mmap_exceptions\u001b[0;34m(map)\u001b[0m\n\u001b[1;32m     13\u001b[0m     \u001b[38;5;28;01mif\u001b[39;00m \u001b[38;5;28misinstance\u001b[39m(exc, from_exc):\n\u001b[0;32m---> 14\u001b[0m         \u001b[38;5;28;01mraise\u001b[39;00m to_exc(exc) \u001b[38;5;28;01mfrom\u001b[39;00m \u001b[38;5;21;01mexc\u001b[39;00m\n\u001b[1;32m     15\u001b[0m \u001b[38;5;28;01mraise\u001b[39;00m\n",
      "\u001b[0;31mRemoteProtocolError\u001b[0m: peer closed connection without sending complete message body (incomplete chunked read)",
      "\nThe above exception was the direct cause of the following exception:\n",
      "\u001b[0;31mRemoteProtocolError\u001b[0m                       Traceback (most recent call last)",
      "Cell \u001b[0;32mIn[40], line 32\u001b[0m\n\u001b[1;32m     30\u001b[0m docs_txt \u001b[38;5;241m=\u001b[39m format_docs(docs)\n\u001b[1;32m     31\u001b[0m rag_prompt_formatted \u001b[38;5;241m=\u001b[39m rag_prompt\u001b[38;5;241m.\u001b[39mformat(context\u001b[38;5;241m=\u001b[39mdocs_txt, question\u001b[38;5;241m=\u001b[39mquestion)\n\u001b[0;32m---> 32\u001b[0m generation \u001b[38;5;241m=\u001b[39m llm\u001b[38;5;241m.\u001b[39minvoke([HumanMessage(content\u001b[38;5;241m=\u001b[39mrag_prompt_formatted)])\n\u001b[1;32m     33\u001b[0m \u001b[38;5;28mprint\u001b[39m(generation\u001b[38;5;241m.\u001b[39mcontent)\n",
      "File \u001b[0;32m/Applications/anaconda3/envs/misenv/lib/python3.12/site-packages/langchain_core/language_models/chat_models.py:277\u001b[0m, in \u001b[0;36mBaseChatModel.invoke\u001b[0;34m(self, input, config, stop, **kwargs)\u001b[0m\n\u001b[1;32m    266\u001b[0m \u001b[38;5;28;01mdef\u001b[39;00m \u001b[38;5;21minvoke\u001b[39m(\n\u001b[1;32m    267\u001b[0m     \u001b[38;5;28mself\u001b[39m,\n\u001b[1;32m    268\u001b[0m     \u001b[38;5;28minput\u001b[39m: LanguageModelInput,\n\u001b[0;32m   (...)\u001b[0m\n\u001b[1;32m    272\u001b[0m     \u001b[38;5;241m*\u001b[39m\u001b[38;5;241m*\u001b[39mkwargs: Any,\n\u001b[1;32m    273\u001b[0m ) \u001b[38;5;241m-\u001b[39m\u001b[38;5;241m>\u001b[39m BaseMessage:\n\u001b[1;32m    274\u001b[0m     config \u001b[38;5;241m=\u001b[39m ensure_config(config)\n\u001b[1;32m    275\u001b[0m     \u001b[38;5;28;01mreturn\u001b[39;00m cast(\n\u001b[1;32m    276\u001b[0m         ChatGeneration,\n\u001b[0;32m--> 277\u001b[0m         \u001b[38;5;28mself\u001b[39m\u001b[38;5;241m.\u001b[39mgenerate_prompt(\n\u001b[1;32m    278\u001b[0m             [\u001b[38;5;28mself\u001b[39m\u001b[38;5;241m.\u001b[39m_convert_input(\u001b[38;5;28minput\u001b[39m)],\n\u001b[1;32m    279\u001b[0m             stop\u001b[38;5;241m=\u001b[39mstop,\n\u001b[1;32m    280\u001b[0m             callbacks\u001b[38;5;241m=\u001b[39mconfig\u001b[38;5;241m.\u001b[39mget(\u001b[38;5;124m\"\u001b[39m\u001b[38;5;124mcallbacks\u001b[39m\u001b[38;5;124m\"\u001b[39m),\n\u001b[1;32m    281\u001b[0m             tags\u001b[38;5;241m=\u001b[39mconfig\u001b[38;5;241m.\u001b[39mget(\u001b[38;5;124m\"\u001b[39m\u001b[38;5;124mtags\u001b[39m\u001b[38;5;124m\"\u001b[39m),\n\u001b[1;32m    282\u001b[0m             metadata\u001b[38;5;241m=\u001b[39mconfig\u001b[38;5;241m.\u001b[39mget(\u001b[38;5;124m\"\u001b[39m\u001b[38;5;124mmetadata\u001b[39m\u001b[38;5;124m\"\u001b[39m),\n\u001b[1;32m    283\u001b[0m             run_name\u001b[38;5;241m=\u001b[39mconfig\u001b[38;5;241m.\u001b[39mget(\u001b[38;5;124m\"\u001b[39m\u001b[38;5;124mrun_name\u001b[39m\u001b[38;5;124m\"\u001b[39m),\n\u001b[1;32m    284\u001b[0m             run_id\u001b[38;5;241m=\u001b[39mconfig\u001b[38;5;241m.\u001b[39mpop(\u001b[38;5;124m\"\u001b[39m\u001b[38;5;124mrun_id\u001b[39m\u001b[38;5;124m\"\u001b[39m, \u001b[38;5;28;01mNone\u001b[39;00m),\n\u001b[1;32m    285\u001b[0m             \u001b[38;5;241m*\u001b[39m\u001b[38;5;241m*\u001b[39mkwargs,\n\u001b[1;32m    286\u001b[0m         )\u001b[38;5;241m.\u001b[39mgenerations[\u001b[38;5;241m0\u001b[39m][\u001b[38;5;241m0\u001b[39m],\n\u001b[1;32m    287\u001b[0m     )\u001b[38;5;241m.\u001b[39mmessage\n",
      "File \u001b[0;32m/Applications/anaconda3/envs/misenv/lib/python3.12/site-packages/langchain_core/language_models/chat_models.py:777\u001b[0m, in \u001b[0;36mBaseChatModel.generate_prompt\u001b[0;34m(self, prompts, stop, callbacks, **kwargs)\u001b[0m\n\u001b[1;32m    769\u001b[0m \u001b[38;5;28;01mdef\u001b[39;00m \u001b[38;5;21mgenerate_prompt\u001b[39m(\n\u001b[1;32m    770\u001b[0m     \u001b[38;5;28mself\u001b[39m,\n\u001b[1;32m    771\u001b[0m     prompts: List[PromptValue],\n\u001b[0;32m   (...)\u001b[0m\n\u001b[1;32m    774\u001b[0m     \u001b[38;5;241m*\u001b[39m\u001b[38;5;241m*\u001b[39mkwargs: Any,\n\u001b[1;32m    775\u001b[0m ) \u001b[38;5;241m-\u001b[39m\u001b[38;5;241m>\u001b[39m LLMResult:\n\u001b[1;32m    776\u001b[0m     prompt_messages \u001b[38;5;241m=\u001b[39m [p\u001b[38;5;241m.\u001b[39mto_messages() \u001b[38;5;28;01mfor\u001b[39;00m p \u001b[38;5;129;01min\u001b[39;00m prompts]\n\u001b[0;32m--> 777\u001b[0m     \u001b[38;5;28;01mreturn\u001b[39;00m \u001b[38;5;28mself\u001b[39m\u001b[38;5;241m.\u001b[39mgenerate(prompt_messages, stop\u001b[38;5;241m=\u001b[39mstop, callbacks\u001b[38;5;241m=\u001b[39mcallbacks, \u001b[38;5;241m*\u001b[39m\u001b[38;5;241m*\u001b[39mkwargs)\n",
      "File \u001b[0;32m/Applications/anaconda3/envs/misenv/lib/python3.12/site-packages/langchain_core/language_models/chat_models.py:634\u001b[0m, in \u001b[0;36mBaseChatModel.generate\u001b[0;34m(self, messages, stop, callbacks, tags, metadata, run_name, run_id, **kwargs)\u001b[0m\n\u001b[1;32m    632\u001b[0m         \u001b[38;5;28;01mif\u001b[39;00m run_managers:\n\u001b[1;32m    633\u001b[0m             run_managers[i]\u001b[38;5;241m.\u001b[39mon_llm_error(e, response\u001b[38;5;241m=\u001b[39mLLMResult(generations\u001b[38;5;241m=\u001b[39m[]))\n\u001b[0;32m--> 634\u001b[0m         \u001b[38;5;28;01mraise\u001b[39;00m e\n\u001b[1;32m    635\u001b[0m flattened_outputs \u001b[38;5;241m=\u001b[39m [\n\u001b[1;32m    636\u001b[0m     LLMResult(generations\u001b[38;5;241m=\u001b[39m[res\u001b[38;5;241m.\u001b[39mgenerations], llm_output\u001b[38;5;241m=\u001b[39mres\u001b[38;5;241m.\u001b[39mllm_output)  \u001b[38;5;66;03m# type: ignore[list-item]\u001b[39;00m\n\u001b[1;32m    637\u001b[0m     \u001b[38;5;28;01mfor\u001b[39;00m res \u001b[38;5;129;01min\u001b[39;00m results\n\u001b[1;32m    638\u001b[0m ]\n\u001b[1;32m    639\u001b[0m llm_output \u001b[38;5;241m=\u001b[39m \u001b[38;5;28mself\u001b[39m\u001b[38;5;241m.\u001b[39m_combine_llm_outputs([res\u001b[38;5;241m.\u001b[39mllm_output \u001b[38;5;28;01mfor\u001b[39;00m res \u001b[38;5;129;01min\u001b[39;00m results])\n",
      "File \u001b[0;32m/Applications/anaconda3/envs/misenv/lib/python3.12/site-packages/langchain_core/language_models/chat_models.py:624\u001b[0m, in \u001b[0;36mBaseChatModel.generate\u001b[0;34m(self, messages, stop, callbacks, tags, metadata, run_name, run_id, **kwargs)\u001b[0m\n\u001b[1;32m    621\u001b[0m \u001b[38;5;28;01mfor\u001b[39;00m i, m \u001b[38;5;129;01min\u001b[39;00m \u001b[38;5;28menumerate\u001b[39m(messages):\n\u001b[1;32m    622\u001b[0m     \u001b[38;5;28;01mtry\u001b[39;00m:\n\u001b[1;32m    623\u001b[0m         results\u001b[38;5;241m.\u001b[39mappend(\n\u001b[0;32m--> 624\u001b[0m             \u001b[38;5;28mself\u001b[39m\u001b[38;5;241m.\u001b[39m_generate_with_cache(\n\u001b[1;32m    625\u001b[0m                 m,\n\u001b[1;32m    626\u001b[0m                 stop\u001b[38;5;241m=\u001b[39mstop,\n\u001b[1;32m    627\u001b[0m                 run_manager\u001b[38;5;241m=\u001b[39mrun_managers[i] \u001b[38;5;28;01mif\u001b[39;00m run_managers \u001b[38;5;28;01melse\u001b[39;00m \u001b[38;5;28;01mNone\u001b[39;00m,\n\u001b[1;32m    628\u001b[0m                 \u001b[38;5;241m*\u001b[39m\u001b[38;5;241m*\u001b[39mkwargs,\n\u001b[1;32m    629\u001b[0m             )\n\u001b[1;32m    630\u001b[0m         )\n\u001b[1;32m    631\u001b[0m     \u001b[38;5;28;01mexcept\u001b[39;00m \u001b[38;5;167;01mBaseException\u001b[39;00m \u001b[38;5;28;01mas\u001b[39;00m e:\n\u001b[1;32m    632\u001b[0m         \u001b[38;5;28;01mif\u001b[39;00m run_managers:\n",
      "File \u001b[0;32m/Applications/anaconda3/envs/misenv/lib/python3.12/site-packages/langchain_core/language_models/chat_models.py:846\u001b[0m, in \u001b[0;36mBaseChatModel._generate_with_cache\u001b[0;34m(self, messages, stop, run_manager, **kwargs)\u001b[0m\n\u001b[1;32m    844\u001b[0m \u001b[38;5;28;01melse\u001b[39;00m:\n\u001b[1;32m    845\u001b[0m     \u001b[38;5;28;01mif\u001b[39;00m inspect\u001b[38;5;241m.\u001b[39msignature(\u001b[38;5;28mself\u001b[39m\u001b[38;5;241m.\u001b[39m_generate)\u001b[38;5;241m.\u001b[39mparameters\u001b[38;5;241m.\u001b[39mget(\u001b[38;5;124m\"\u001b[39m\u001b[38;5;124mrun_manager\u001b[39m\u001b[38;5;124m\"\u001b[39m):\n\u001b[0;32m--> 846\u001b[0m         result \u001b[38;5;241m=\u001b[39m \u001b[38;5;28mself\u001b[39m\u001b[38;5;241m.\u001b[39m_generate(\n\u001b[1;32m    847\u001b[0m             messages, stop\u001b[38;5;241m=\u001b[39mstop, run_manager\u001b[38;5;241m=\u001b[39mrun_manager, \u001b[38;5;241m*\u001b[39m\u001b[38;5;241m*\u001b[39mkwargs\n\u001b[1;32m    848\u001b[0m         )\n\u001b[1;32m    849\u001b[0m     \u001b[38;5;28;01melse\u001b[39;00m:\n\u001b[1;32m    850\u001b[0m         result \u001b[38;5;241m=\u001b[39m \u001b[38;5;28mself\u001b[39m\u001b[38;5;241m.\u001b[39m_generate(messages, stop\u001b[38;5;241m=\u001b[39mstop, \u001b[38;5;241m*\u001b[39m\u001b[38;5;241m*\u001b[39mkwargs)\n",
      "File \u001b[0;32m/Applications/anaconda3/envs/misenv/lib/python3.12/site-packages/langchain_ollama/chat_models.py:617\u001b[0m, in \u001b[0;36mChatOllama._generate\u001b[0;34m(self, messages, stop, run_manager, **kwargs)\u001b[0m\n\u001b[1;32m    610\u001b[0m \u001b[38;5;28;01mdef\u001b[39;00m \u001b[38;5;21m_generate\u001b[39m(\n\u001b[1;32m    611\u001b[0m     \u001b[38;5;28mself\u001b[39m,\n\u001b[1;32m    612\u001b[0m     messages: List[BaseMessage],\n\u001b[0;32m   (...)\u001b[0m\n\u001b[1;32m    615\u001b[0m     \u001b[38;5;241m*\u001b[39m\u001b[38;5;241m*\u001b[39mkwargs: Any,\n\u001b[1;32m    616\u001b[0m ) \u001b[38;5;241m-\u001b[39m\u001b[38;5;241m>\u001b[39m ChatResult:\n\u001b[0;32m--> 617\u001b[0m     final_chunk \u001b[38;5;241m=\u001b[39m \u001b[38;5;28mself\u001b[39m\u001b[38;5;241m.\u001b[39m_chat_stream_with_aggregation(\n\u001b[1;32m    618\u001b[0m         messages, stop, run_manager, verbose\u001b[38;5;241m=\u001b[39m\u001b[38;5;28mself\u001b[39m\u001b[38;5;241m.\u001b[39mverbose, \u001b[38;5;241m*\u001b[39m\u001b[38;5;241m*\u001b[39mkwargs\n\u001b[1;32m    619\u001b[0m     )\n\u001b[1;32m    620\u001b[0m     generation_info \u001b[38;5;241m=\u001b[39m final_chunk\u001b[38;5;241m.\u001b[39mgeneration_info\n\u001b[1;32m    621\u001b[0m     chat_generation \u001b[38;5;241m=\u001b[39m ChatGeneration(\n\u001b[1;32m    622\u001b[0m         message\u001b[38;5;241m=\u001b[39mAIMessage(\n\u001b[1;32m    623\u001b[0m             content\u001b[38;5;241m=\u001b[39mfinal_chunk\u001b[38;5;241m.\u001b[39mtext,\n\u001b[0;32m   (...)\u001b[0m\n\u001b[1;32m    627\u001b[0m         generation_info\u001b[38;5;241m=\u001b[39mgeneration_info,\n\u001b[1;32m    628\u001b[0m     )\n",
      "File \u001b[0;32m/Applications/anaconda3/envs/misenv/lib/python3.12/site-packages/langchain_ollama/chat_models.py:518\u001b[0m, in \u001b[0;36mChatOllama._chat_stream_with_aggregation\u001b[0;34m(self, messages, stop, run_manager, verbose, **kwargs)\u001b[0m\n\u001b[1;32m    509\u001b[0m \u001b[38;5;28;01mdef\u001b[39;00m \u001b[38;5;21m_chat_stream_with_aggregation\u001b[39m(\n\u001b[1;32m    510\u001b[0m     \u001b[38;5;28mself\u001b[39m,\n\u001b[1;32m    511\u001b[0m     messages: List[BaseMessage],\n\u001b[0;32m   (...)\u001b[0m\n\u001b[1;32m    515\u001b[0m     \u001b[38;5;241m*\u001b[39m\u001b[38;5;241m*\u001b[39mkwargs: Any,\n\u001b[1;32m    516\u001b[0m ) \u001b[38;5;241m-\u001b[39m\u001b[38;5;241m>\u001b[39m ChatGenerationChunk:\n\u001b[1;32m    517\u001b[0m     final_chunk \u001b[38;5;241m=\u001b[39m \u001b[38;5;28;01mNone\u001b[39;00m\n\u001b[0;32m--> 518\u001b[0m     \u001b[38;5;28;01mfor\u001b[39;00m stream_resp \u001b[38;5;129;01min\u001b[39;00m \u001b[38;5;28mself\u001b[39m\u001b[38;5;241m.\u001b[39m_create_chat_stream(messages, stop, \u001b[38;5;241m*\u001b[39m\u001b[38;5;241m*\u001b[39mkwargs):\n\u001b[1;32m    519\u001b[0m         \u001b[38;5;28;01mif\u001b[39;00m \u001b[38;5;129;01mnot\u001b[39;00m \u001b[38;5;28misinstance\u001b[39m(stream_resp, \u001b[38;5;28mstr\u001b[39m):\n\u001b[1;32m    520\u001b[0m             chunk \u001b[38;5;241m=\u001b[39m ChatGenerationChunk(\n\u001b[1;32m    521\u001b[0m                 message\u001b[38;5;241m=\u001b[39mAIMessageChunk(\n\u001b[1;32m    522\u001b[0m                     content\u001b[38;5;241m=\u001b[39m(\n\u001b[0;32m   (...)\u001b[0m\n\u001b[1;32m    535\u001b[0m                 ),\n\u001b[1;32m    536\u001b[0m             )\n",
      "File \u001b[0;32m/Applications/anaconda3/envs/misenv/lib/python3.12/site-packages/langchain_ollama/chat_models.py:500\u001b[0m, in \u001b[0;36mChatOllama._create_chat_stream\u001b[0;34m(self, messages, stop, **kwargs)\u001b[0m\n\u001b[1;32m    490\u001b[0m     \u001b[38;5;28;01myield\u001b[39;00m Client(host\u001b[38;5;241m=\u001b[39m\u001b[38;5;28mself\u001b[39m\u001b[38;5;241m.\u001b[39mbase_url)\u001b[38;5;241m.\u001b[39mchat(\n\u001b[1;32m    491\u001b[0m         model\u001b[38;5;241m=\u001b[39mparams[\u001b[38;5;124m\"\u001b[39m\u001b[38;5;124mmodel\u001b[39m\u001b[38;5;124m\"\u001b[39m],\n\u001b[1;32m    492\u001b[0m         messages\u001b[38;5;241m=\u001b[39mollama_messages,\n\u001b[0;32m   (...)\u001b[0m\n\u001b[1;32m    497\u001b[0m         tools\u001b[38;5;241m=\u001b[39mkwargs[\u001b[38;5;124m\"\u001b[39m\u001b[38;5;124mtools\u001b[39m\u001b[38;5;124m\"\u001b[39m],\n\u001b[1;32m    498\u001b[0m     )\n\u001b[1;32m    499\u001b[0m \u001b[38;5;28;01melse\u001b[39;00m:\n\u001b[0;32m--> 500\u001b[0m     \u001b[38;5;28;01myield from\u001b[39;00m Client(host\u001b[38;5;241m=\u001b[39m\u001b[38;5;28mself\u001b[39m\u001b[38;5;241m.\u001b[39mbase_url)\u001b[38;5;241m.\u001b[39mchat(\n\u001b[1;32m    501\u001b[0m         model\u001b[38;5;241m=\u001b[39mparams[\u001b[38;5;124m\"\u001b[39m\u001b[38;5;124mmodel\u001b[39m\u001b[38;5;124m\"\u001b[39m],\n\u001b[1;32m    502\u001b[0m         messages\u001b[38;5;241m=\u001b[39mollama_messages,\n\u001b[1;32m    503\u001b[0m         stream\u001b[38;5;241m=\u001b[39m\u001b[38;5;28;01mTrue\u001b[39;00m,\n\u001b[1;32m    504\u001b[0m         options\u001b[38;5;241m=\u001b[39mOptions(\u001b[38;5;241m*\u001b[39m\u001b[38;5;241m*\u001b[39mparams[\u001b[38;5;124m\"\u001b[39m\u001b[38;5;124moptions\u001b[39m\u001b[38;5;124m\"\u001b[39m]),\n\u001b[1;32m    505\u001b[0m         keep_alive\u001b[38;5;241m=\u001b[39mparams[\u001b[38;5;124m\"\u001b[39m\u001b[38;5;124mkeep_alive\u001b[39m\u001b[38;5;124m\"\u001b[39m],\n\u001b[1;32m    506\u001b[0m         \u001b[38;5;28mformat\u001b[39m\u001b[38;5;241m=\u001b[39mparams[\u001b[38;5;124m\"\u001b[39m\u001b[38;5;124mformat\u001b[39m\u001b[38;5;124m\"\u001b[39m],\n\u001b[1;32m    507\u001b[0m     )\n",
      "File \u001b[0;32m/Applications/anaconda3/envs/misenv/lib/python3.12/site-packages/ollama/_client.py:86\u001b[0m, in \u001b[0;36mClient._stream\u001b[0;34m(self, method, url, **kwargs)\u001b[0m\n\u001b[1;32m     83\u001b[0m   e\u001b[38;5;241m.\u001b[39mresponse\u001b[38;5;241m.\u001b[39mread()\n\u001b[1;32m     84\u001b[0m   \u001b[38;5;28;01mraise\u001b[39;00m ResponseError(e\u001b[38;5;241m.\u001b[39mresponse\u001b[38;5;241m.\u001b[39mtext, e\u001b[38;5;241m.\u001b[39mresponse\u001b[38;5;241m.\u001b[39mstatus_code) \u001b[38;5;28;01mfrom\u001b[39;00m \u001b[38;5;28;01mNone\u001b[39;00m\n\u001b[0;32m---> 86\u001b[0m \u001b[38;5;28;01mfor\u001b[39;00m line \u001b[38;5;129;01min\u001b[39;00m r\u001b[38;5;241m.\u001b[39miter_lines():\n\u001b[1;32m     87\u001b[0m   partial \u001b[38;5;241m=\u001b[39m json\u001b[38;5;241m.\u001b[39mloads(line)\n\u001b[1;32m     88\u001b[0m   \u001b[38;5;28;01mif\u001b[39;00m e \u001b[38;5;241m:=\u001b[39m partial\u001b[38;5;241m.\u001b[39mget(\u001b[38;5;124m'\u001b[39m\u001b[38;5;124merror\u001b[39m\u001b[38;5;124m'\u001b[39m):\n",
      "File \u001b[0;32m/Applications/anaconda3/envs/misenv/lib/python3.12/site-packages/httpx/_models.py:861\u001b[0m, in \u001b[0;36mResponse.iter_lines\u001b[0;34m(self)\u001b[0m\n\u001b[1;32m    859\u001b[0m decoder \u001b[38;5;241m=\u001b[39m LineDecoder()\n\u001b[1;32m    860\u001b[0m \u001b[38;5;28;01mwith\u001b[39;00m request_context(request\u001b[38;5;241m=\u001b[39m\u001b[38;5;28mself\u001b[39m\u001b[38;5;241m.\u001b[39m_request):\n\u001b[0;32m--> 861\u001b[0m     \u001b[38;5;28;01mfor\u001b[39;00m text \u001b[38;5;129;01min\u001b[39;00m \u001b[38;5;28mself\u001b[39m\u001b[38;5;241m.\u001b[39miter_text():\n\u001b[1;32m    862\u001b[0m         \u001b[38;5;28;01mfor\u001b[39;00m line \u001b[38;5;129;01min\u001b[39;00m decoder\u001b[38;5;241m.\u001b[39mdecode(text):\n\u001b[1;32m    863\u001b[0m             \u001b[38;5;28;01myield\u001b[39;00m line\n",
      "File \u001b[0;32m/Applications/anaconda3/envs/misenv/lib/python3.12/site-packages/httpx/_models.py:848\u001b[0m, in \u001b[0;36mResponse.iter_text\u001b[0;34m(self, chunk_size)\u001b[0m\n\u001b[1;32m    846\u001b[0m chunker \u001b[38;5;241m=\u001b[39m TextChunker(chunk_size\u001b[38;5;241m=\u001b[39mchunk_size)\n\u001b[1;32m    847\u001b[0m \u001b[38;5;28;01mwith\u001b[39;00m request_context(request\u001b[38;5;241m=\u001b[39m\u001b[38;5;28mself\u001b[39m\u001b[38;5;241m.\u001b[39m_request):\n\u001b[0;32m--> 848\u001b[0m     \u001b[38;5;28;01mfor\u001b[39;00m byte_content \u001b[38;5;129;01min\u001b[39;00m \u001b[38;5;28mself\u001b[39m\u001b[38;5;241m.\u001b[39miter_bytes():\n\u001b[1;32m    849\u001b[0m         text_content \u001b[38;5;241m=\u001b[39m decoder\u001b[38;5;241m.\u001b[39mdecode(byte_content)\n\u001b[1;32m    850\u001b[0m         \u001b[38;5;28;01mfor\u001b[39;00m chunk \u001b[38;5;129;01min\u001b[39;00m chunker\u001b[38;5;241m.\u001b[39mdecode(text_content):\n",
      "File \u001b[0;32m/Applications/anaconda3/envs/misenv/lib/python3.12/site-packages/httpx/_models.py:829\u001b[0m, in \u001b[0;36mResponse.iter_bytes\u001b[0;34m(self, chunk_size)\u001b[0m\n\u001b[1;32m    827\u001b[0m chunker \u001b[38;5;241m=\u001b[39m ByteChunker(chunk_size\u001b[38;5;241m=\u001b[39mchunk_size)\n\u001b[1;32m    828\u001b[0m \u001b[38;5;28;01mwith\u001b[39;00m request_context(request\u001b[38;5;241m=\u001b[39m\u001b[38;5;28mself\u001b[39m\u001b[38;5;241m.\u001b[39m_request):\n\u001b[0;32m--> 829\u001b[0m     \u001b[38;5;28;01mfor\u001b[39;00m raw_bytes \u001b[38;5;129;01min\u001b[39;00m \u001b[38;5;28mself\u001b[39m\u001b[38;5;241m.\u001b[39miter_raw():\n\u001b[1;32m    830\u001b[0m         decoded \u001b[38;5;241m=\u001b[39m decoder\u001b[38;5;241m.\u001b[39mdecode(raw_bytes)\n\u001b[1;32m    831\u001b[0m         \u001b[38;5;28;01mfor\u001b[39;00m chunk \u001b[38;5;129;01min\u001b[39;00m chunker\u001b[38;5;241m.\u001b[39mdecode(decoded):\n",
      "File \u001b[0;32m/Applications/anaconda3/envs/misenv/lib/python3.12/site-packages/httpx/_models.py:883\u001b[0m, in \u001b[0;36mResponse.iter_raw\u001b[0;34m(self, chunk_size)\u001b[0m\n\u001b[1;32m    880\u001b[0m chunker \u001b[38;5;241m=\u001b[39m ByteChunker(chunk_size\u001b[38;5;241m=\u001b[39mchunk_size)\n\u001b[1;32m    882\u001b[0m \u001b[38;5;28;01mwith\u001b[39;00m request_context(request\u001b[38;5;241m=\u001b[39m\u001b[38;5;28mself\u001b[39m\u001b[38;5;241m.\u001b[39m_request):\n\u001b[0;32m--> 883\u001b[0m     \u001b[38;5;28;01mfor\u001b[39;00m raw_stream_bytes \u001b[38;5;129;01min\u001b[39;00m \u001b[38;5;28mself\u001b[39m\u001b[38;5;241m.\u001b[39mstream:\n\u001b[1;32m    884\u001b[0m         \u001b[38;5;28mself\u001b[39m\u001b[38;5;241m.\u001b[39m_num_bytes_downloaded \u001b[38;5;241m+\u001b[39m\u001b[38;5;241m=\u001b[39m \u001b[38;5;28mlen\u001b[39m(raw_stream_bytes)\n\u001b[1;32m    885\u001b[0m         \u001b[38;5;28;01mfor\u001b[39;00m chunk \u001b[38;5;129;01min\u001b[39;00m chunker\u001b[38;5;241m.\u001b[39mdecode(raw_stream_bytes):\n",
      "File \u001b[0;32m/Applications/anaconda3/envs/misenv/lib/python3.12/site-packages/httpx/_client.py:126\u001b[0m, in \u001b[0;36mBoundSyncStream.__iter__\u001b[0;34m(self)\u001b[0m\n\u001b[1;32m    125\u001b[0m \u001b[38;5;28;01mdef\u001b[39;00m \u001b[38;5;21m__iter__\u001b[39m(\u001b[38;5;28mself\u001b[39m) \u001b[38;5;241m-\u001b[39m\u001b[38;5;241m>\u001b[39m typing\u001b[38;5;241m.\u001b[39mIterator[\u001b[38;5;28mbytes\u001b[39m]:\n\u001b[0;32m--> 126\u001b[0m     \u001b[38;5;28;01mfor\u001b[39;00m chunk \u001b[38;5;129;01min\u001b[39;00m \u001b[38;5;28mself\u001b[39m\u001b[38;5;241m.\u001b[39m_stream:\n\u001b[1;32m    127\u001b[0m         \u001b[38;5;28;01myield\u001b[39;00m chunk\n",
      "File \u001b[0;32m/Applications/anaconda3/envs/misenv/lib/python3.12/site-packages/httpx/_transports/default.py:112\u001b[0m, in \u001b[0;36mResponseStream.__iter__\u001b[0;34m(self)\u001b[0m\n\u001b[1;32m    111\u001b[0m \u001b[38;5;28;01mdef\u001b[39;00m \u001b[38;5;21m__iter__\u001b[39m(\u001b[38;5;28mself\u001b[39m) \u001b[38;5;241m-\u001b[39m\u001b[38;5;241m>\u001b[39m typing\u001b[38;5;241m.\u001b[39mIterator[\u001b[38;5;28mbytes\u001b[39m]:\n\u001b[0;32m--> 112\u001b[0m     \u001b[38;5;28;01mwith\u001b[39;00m map_httpcore_exceptions():\n\u001b[1;32m    113\u001b[0m         \u001b[38;5;28;01mfor\u001b[39;00m part \u001b[38;5;129;01min\u001b[39;00m \u001b[38;5;28mself\u001b[39m\u001b[38;5;241m.\u001b[39m_httpcore_stream:\n\u001b[1;32m    114\u001b[0m             \u001b[38;5;28;01myield\u001b[39;00m part\n",
      "File \u001b[0;32m/Applications/anaconda3/envs/misenv/lib/python3.12/contextlib.py:158\u001b[0m, in \u001b[0;36m_GeneratorContextManager.__exit__\u001b[0;34m(self, typ, value, traceback)\u001b[0m\n\u001b[1;32m    156\u001b[0m     value \u001b[38;5;241m=\u001b[39m typ()\n\u001b[1;32m    157\u001b[0m \u001b[38;5;28;01mtry\u001b[39;00m:\n\u001b[0;32m--> 158\u001b[0m     \u001b[38;5;28mself\u001b[39m\u001b[38;5;241m.\u001b[39mgen\u001b[38;5;241m.\u001b[39mthrow(value)\n\u001b[1;32m    159\u001b[0m \u001b[38;5;28;01mexcept\u001b[39;00m \u001b[38;5;167;01mStopIteration\u001b[39;00m \u001b[38;5;28;01mas\u001b[39;00m exc:\n\u001b[1;32m    160\u001b[0m     \u001b[38;5;66;03m# Suppress StopIteration *unless* it's the same exception that\u001b[39;00m\n\u001b[1;32m    161\u001b[0m     \u001b[38;5;66;03m# was passed to throw().  This prevents a StopIteration\u001b[39;00m\n\u001b[1;32m    162\u001b[0m     \u001b[38;5;66;03m# raised inside the \"with\" statement from being suppressed.\u001b[39;00m\n\u001b[1;32m    163\u001b[0m     \u001b[38;5;28;01mreturn\u001b[39;00m exc \u001b[38;5;129;01mis\u001b[39;00m \u001b[38;5;129;01mnot\u001b[39;00m value\n",
      "File \u001b[0;32m/Applications/anaconda3/envs/misenv/lib/python3.12/site-packages/httpx/_transports/default.py:86\u001b[0m, in \u001b[0;36mmap_httpcore_exceptions\u001b[0;34m()\u001b[0m\n\u001b[1;32m     83\u001b[0m     \u001b[38;5;28;01mraise\u001b[39;00m\n\u001b[1;32m     85\u001b[0m message \u001b[38;5;241m=\u001b[39m \u001b[38;5;28mstr\u001b[39m(exc)\n\u001b[0;32m---> 86\u001b[0m \u001b[38;5;28;01mraise\u001b[39;00m mapped_exc(message) \u001b[38;5;28;01mfrom\u001b[39;00m \u001b[38;5;21;01mexc\u001b[39;00m\n",
      "\u001b[0;31mRemoteProtocolError\u001b[0m: peer closed connection without sending complete message body (incomplete chunked read)"
     ]
    }
   ],
   "source": [
    "### Generate\n",
    "\n",
    "# Prompt\n",
    "rag_prompt = \"\"\"You are an assistant for question-answering tasks. \n",
    "\n",
    "Here is the context to use to answer the question:\n",
    "\n",
    "{context} \n",
    "\n",
    "Think carefully about the above context. \n",
    "\n",
    "Now, review the user question:\n",
    "\n",
    "{question}\n",
    "\n",
    "Provide an answer to this questions using only the above context. \n",
    "\n",
    "Use three sentences maximum and keep the answer concise.\n",
    "\n",
    "Answer:\"\"\"\n",
    "\n",
    "\n",
    "# Post-processing\n",
    "def format_docs(docs):\n",
    "    return \"\\n\\n\".join(doc.page_content for doc in docs)\n",
    "\n",
    "\n",
    "# Test\n",
    "docs = retriever.invoke(question)\n",
    "docs_txt = format_docs(docs)\n",
    "rag_prompt_formatted = rag_prompt.format(context=docs_txt, question=question)\n",
    "generation = llm.invoke([HumanMessage(content=rag_prompt_formatted)])\n",
    "print(generation.content)"
   ]
  },
  {
   "cell_type": "code",
   "execution_count": 8,
   "id": "f9847de9-821e-4cbe-8ebc-48b42fa541d5",
   "metadata": {},
   "outputs": [
    {
     "name": "stdout",
     "output_type": "stream",
     "text": [
      "[Document(metadata={'id': '30efd71f-5978-4b39-bb9f-a8b2c8f0d0a1', 'source': 'https://lilianweng.github.io/posts/2023-03-15-prompt-engineering/', 'title': \"Prompt Engineering | Lil'Log\", 'description': 'Prompt Engineering, also known as In-Context Prompting, refers to methods for how to communicate with LLM to steer its behavior for desired outcomes without updating the model weights. It is an empirical science and the effect of prompt engineering methods can vary a lot among models, thus requiring heavy experimentation and heuristics.\\nThis post only focuses on prompt engineering for autoregressive language models, so nothing with Cloze tests, image generation or multimodality models.', 'language': 'en'}, page_content='[21] Chen et al. “Program of Thoughts Prompting: Disentangling Computation from Reasoning for Numerical Reasoning Tasks.” arXiv preprint arXiv:2211.12588 (2022).\\n[22] Gao et al. “PAL: Program-aided language models.” arXiv preprint arXiv:2211.10435 (2022).\\n[23] Parisi et al. “TALM: Tool Augmented Language Models” arXiv preprint arXiv:2205.12255 (2022).\\n[24] Schick et al. “Toolformer: Language Models Can Teach Themselves to Use Tools.” arXiv preprint arXiv:2302.04761 (2023).\\n[25] Mialon et al. “Augmented Language Models: a Survey” arXiv preprint arXiv:2302.07842 (2023).\\n[26] Yao et al. “Tree of Thoughts: Deliberate Problem Solving with Large Language Models.” arXiv preprint arXiv:2305.10601 (2023).'), Document(metadata={'id': 'e669aade-de47-45d8-83c5-2b1ff5bc4ba7', 'source': 'https://lilianweng.github.io/posts/2023-03-15-prompt-engineering/', 'title': \"Prompt Engineering | Lil'Log\", 'description': 'Prompt Engineering, also known as In-Context Prompting, refers to methods for how to communicate with LLM to steer its behavior for desired outcomes without updating the model weights. It is an empirical science and the effect of prompt engineering methods can vary a lot among models, thus requiring heavy experimentation and heuristics.\\nThis post only focuses on prompt engineering for autoregressive language models, so nothing with Cloze tests, image generation or multimodality models.', 'language': 'en'}, page_content='For example to produce education materials for kids,\\n\\nDescribe what is quantum physics to a 6-year-old.\\n\\nAnd safe content,\\n\\n... in language that is safe for work.\\nIn-context instruction learning (Ye et al. 2023) combines few-shot learning with instruction prompting. It incorporates multiple demonstration examples across different tasks in the prompt, each demonstration consisting of instruction, task input and output. Note that their experiments were only on classification tasks and the instruction prompt contains all label options.\\nDefinition: Determine the speaker of the dialogue, \"agent\" or \"customer\".\\nInput: I have successfully booked your tickets.\\nOuput: agent\\n\\nDefinition: Determine which category the question asks for, \"Quantity\" or \"Location\".\\nInput: What\\'s the oldest building in US?\\nOuput: Location\\n\\nDefinition: Classify the sentiment of the given movie review, \"positive\" or \"negative\".\\nInput: i\\'ll bet the video game is a lot more fun than the film.\\nOutput:\\nSelf-Consistency Sampling#\\nSelf-consistency sampling (Wang et al. 2022a) is to sample multiple outputs with temperature > 0 and then selecting the best one out of these candidates.\\nThe criteria for selecting the best candidate can vary from task to task. A general solution is to pick majority vote. For tasks that are easy to validate such as a programming question with unit tests, we can simply run through the interpreter and verify the correctness with unit tests.\\nChain-of-Thought (CoT)#\\nChain-of-thought (CoT) prompting (Wei et al. 2022) generates a sequence of short sentences to describe reasoning logics step by step, known as reasoning chains or rationales, to eventually lead to the final answer. The benefit of CoT is more pronounced for complicated reasoning tasks, while using large models (e.g. with more than 50B parameters). Simple tasks only benefit slightly from CoT prompting.\\nTypes of CoT prompts#\\nTwo main types of CoT prompting:\\n\\nFew-shot CoT. It is to prompt the model with a few demonstrations, each containing manually written (or model-generated) high-quality reasoning chains.\\n\\n(All the math reasoning examples are from GSM8k)\\nQuestion: Tom and Elizabeth have a competition to climb a hill. Elizabeth takes 30 minutes to climb the hill. Tom takes four times as long as Elizabeth does to climb the hill. How many hours does it take Tom to climb up the hill?\\nAnswer: It takes Tom 30*4 = <<30*4=120>>120 minutes to climb the hill.\\nIt takes Tom 120/60 = <<120/60=2>>2 hours to climb the hill.\\nSo the answer is 2.\\n===\\nQuestion: Jack is a soccer player. He needs to buy two pairs of socks and a pair of soccer shoes. Each pair of socks cost $9.50, and the shoes cost $92. Jack has $40. How much more money does Jack need?\\nAnswer: The total cost of two pairs of socks is $9.50 x 2 = $<<9.5*2=19>>19.\\nThe total cost of the socks and the shoes is $19 + $92 = $<<19+92=111>>111.\\nJack need $111 - $40 = $<<111-40=71>>71 more.\\nSo the answer is 71.\\n===\\nQuestion: Marty has 100 centimeters of ribbon that he must cut into 4 equal parts. Each of the cut parts must be divided into 5 equal parts. How long will each final cut be?\\nAnswer:\\n\\nZero-shot CoT. Use natural language statement like Let\\'s think step by step to explicitly encourage the model to first generate reasoning chains and then to prompt with Therefore, the answer is to produce answers (Kojima et al. 2022 ). Or a similar statement Let\\'s work this out it a step by step to be sure we have the right answer (Zhou et al. 2022).\\n\\nQuestion: Marty has 100 centimeters of ribbon that he must cut into 4 equal parts. Each of the cut parts must be divided into 5 equal parts. How long will each final cut be?\\nAnswer: Let\\'s think step by step.\\nTips and Extensions#\\n\\n\\nSelf-consistency sampling can improve reasoning accuracy by sampling a number of diverse answers and then taking the majority vote. (Wang et al. 2022a)'), Document(metadata={'id': 'bf5f622b-87f9-40f3-a6f3-2a7a0c1ec253', 'source': 'https://lilianweng.github.io/posts/2023-03-15-prompt-engineering/', 'title': \"Prompt Engineering | Lil'Log\", 'description': 'Prompt Engineering, also known as In-Context Prompting, refers to methods for how to communicate with LLM to steer its behavior for desired outcomes without updating the model weights. It is an empirical science and the effect of prompt engineering methods can vary a lot among models, thus requiring heavy experimentation and heuristics.\\nThis post only focuses on prompt engineering for autoregressive language models, so nothing with Cloze tests, image generation or multimodality models.', 'language': 'en'}, page_content=\"Zero-shot CoT. Use natural language statement like Let's think step by step to explicitly encourage the model to first generate reasoning chains and then to prompt with Therefore, the answer is to produce answers (Kojima et al. 2022 ). Or a similar statement Let's work this out it a step by step to be sure we have the right answer (Zhou et al. 2022).\\n\\nQuestion: Marty has 100 centimeters of ribbon that he must cut into 4 equal parts. Each of the cut parts must be divided into 5 equal parts. How long will each final cut be?\\nAnswer: Let's think step by step.\\nTips and Extensions#\\n\\n\\nSelf-consistency sampling can improve reasoning accuracy by sampling a number of diverse answers and then taking the majority vote. (Wang et al. 2022a)\\n\\n\\nAnother approach for ensemble learning is to alter the example order or use model generated rationales to replace human-written ones to introduce randomness during multiple sample trials. Then aggregate model outputs with a majority vote to get final answer. (Wang et al. 2022b)\\n\\n\\nIf training examples are only associated with true answers (easy to verify!) but no rationales, we can follow the STaR (Self-Taught Reasoner; Zelikman et al. 2022) method : (1) Ask LLM to generate reasoning chains and only keep those leading to correct answers; (2) Then fine-tune the model with generated rationales and repeat the process until convergence. Note that higher temperature is more likely to generate incorrect rationales with correct answers. If training examples do not have ground truth answers, maybe consider using majority votes as the “correct” answers.\\n\\n\\nPrompts with demonstrations of higher reasoning complexity can achieve better performance, where complexity is measured by the number of reasoning steps in the chains. When separating reasoning steps, newline \\\\n symbol works better than step i, period . or semicolon ;. (Fu et al. 2023)\\n\\n\\nComplexity-based consistency is to explicitly prefer complex chains among all the generations by taking majority vote among only top $k$ complex chains. (Fu et al. 2023)\\n\\n\\nLater, Shum et al. (2023) found that in their experiments CoT prompts with only complex examples can improve the accuracy of complex questions, but perform poorly in simple questions; evidence shown on GSM8k.\\n\\n\\nChanging Q: to Question: is found to be helpful. (Fu et al. 2023)\\n\\n\\nYe & Durrett (2022) found that the benefit of including explanations in the prompt is small to moderate for NLP tasks that involve reasoning over text (i.e. QA and NLI) and the effects vary by models. They observed that explanations are more likely to be nonfactual than be inconsistent (i.e. whether explanation entails prediction). Nonfactual explanations most likely lead to incorrect predictions.\\n\\n\\nSelf-Ask (Press et al. 2022) is a method to repeatedly prompt the model to ask following-up questions to construct the thought process iteratively. Follow-up questions can be answered by search engine results. Similarly, IRCoT (Interleaving Retrieval CoT; Trivedi et al. 2022) and ReAct (Reason + Act; Yao et al. 2023) combines iterative CoT prompting with queries to Wikipedia APIs to search for relevant entities and content and then add it back into the context.\\n\\n\\n\\nFig. 1. How Self-Ask works with external search queries.(Image source: Press et al. 2022).\\n\\nTree of Thoughts (Yao et al. 2023) extends CoT by exploring multiple reasoning possibilities at each step. It first decomposes the problem into multiple thought steps and generates multiple thoughts per step, essentially creating a tree structure. The search process can be BFS or DFS while each state is evaluated by a classifier (via a prompt) or majority vote.\"), Document(metadata={'id': '30d3fc40-82a7-4347-8697-0e90f739793d', 'source': 'https://lilianweng.github.io/posts/2023-03-15-prompt-engineering/', 'title': \"Prompt Engineering | Lil'Log\", 'description': 'Prompt Engineering, also known as In-Context Prompting, refers to methods for how to communicate with LLM to steer its behavior for desired outcomes without updating the model weights. It is an empirical science and the effect of prompt engineering methods can vary a lot among models, thus requiring heavy experimentation and heuristics.\\nThis post only focuses on prompt engineering for autoregressive language models, so nothing with Cloze tests, image generation or multimodality models.', 'language': 'en'}, page_content='Fig. 1. How Self-Ask works with external search queries.(Image source: Press et al. 2022).\\n\\nTree of Thoughts (Yao et al. 2023) extends CoT by exploring multiple reasoning possibilities at each step. It first decomposes the problem into multiple thought steps and generates multiple thoughts per step, essentially creating a tree structure. The search process can be BFS or DFS while each state is evaluated by a classifier (via a prompt) or majority vote.\\n\\n\\nFig. 2. How Self-Ask works with external search queries.(Image source: Yao et al. 2022).\\nAutomatic Prompt Design#\\nPrompt is a sequence of prefix tokens that increase the probability of getting  desired output given input. Therefore we can treat them as trainable parameters and optimize them directly on the embedding space via gradient descent, such as AutoPrompt (Shin et al., 2020, Prefix-Tuning (Li & Liang (2021)), P-tuning (Liu et al. 2021) and Prompt-Tuning (Lester et al. 2021). This section in my “Controllable Neural Text Generation” post has a good coverage of them. The trend from AutoPrompt to Prompt-Tuning is that the setup gets gradually simplified.\\nAPE (Automatic Prompt Engineer; Zhou et al. 2022) is a method to search over a pool of model-generated instruction candidates and then filters the candidate set according to a chosen score function to ultimately choose the best candidate with highest score.\\n\\n\\nPrompt LLM to generate instruction candidates based on a small set of demonstrations in the form of input-output pairs. E.g. {{Given desired input-output pairs}}\\\\n\\\\nThe instruction is.\\n\\n\\nGiven a dataset of $\\\\mathcal{D}_\\\\text{train} = \\\\{(x, y)\\\\}$, we would like to find an instruction $\\\\rho$ such that $\\\\rho^* = \\\\arg\\\\max_\\\\rho \\\\mathbb{E}_{(x, y) \\\\in \\\\mathcal{D}_\\\\text{train}} [f(\\\\rho, x, y)]$, where $f(.)$ is a per-sample score function, such as execution accuracy $\\\\mathbb{1}[\\\\text{LM}(.\\\\vert \\\\rho, x)=y]$ or log probability: $p_\\\\text{LM}(y \\\\mid \\\\rho, x)$.\\n\\n\\nUse an iterative Monte Carlo search method to improve the best candidates by proposing semantically similar variants via prompts like Generate a variation of the following instruction while keeping the semantic meaning.\\\\n\\\\nInput: ...\\\\n\\\\nOutput:...\\n\\n\\nTo construct chain-of-thought prompts automatically, Shum et al. (2023) suggested augment-prune-select, a three-step process:\\n\\nAugment: Generate multiple pseudo-chains of thought given question using few-shot or zero-shot CoT prompts;\\nPrune: Prune pseudo chains based on whether generated answers match ground truths.\\nSelect: Apply a variance-reduced policy gradient strategy to learn the probability distribution over selected examples, while considering the probability distribution over examples as policy and the validation set accuracy as reward.\\n\\nZhang et al. (2023) instead adopted clustering techniques to sample questions and then generates chains. They observed that LLMs tend to make certain types of mistakes. One type of errors can be similar in the emebedding space and thus get grouped together. By only sampling one or a few from frequent-error clusters, we can prevent too many wrong demonstrations of one error type and collect a diverse set of examples.\\n\\nQuestion clustering: Embed questions and run $k$-means for clustering.\\nDemonstration selection: Select a set of representative questions from each cluster; i.e. one demonstration from one cluster. Samples in each cluster are sorted by distance to the cluster centroid and those closer to the centroid are selected first.\\nRationale generation: Use zero-shot CoT to generate reasoning chains for selected questions and construct few-shot prompt to run inference.')]\n",
      "\n",
      "\n",
      "[21] Chen et al. “Program of Thoughts Prompting: Disentangling Computation from Reasoning for Numerical Reasoning Tasks.” arXiv preprint arXiv:2211.12588 (2022).\n",
      "[22] Gao et al. “PAL: Program-aided language models.” arXiv preprint arXiv:2211.10435 (2022).\n",
      "[23] Parisi et al. “TALM: Tool Augmented Language Models” arXiv preprint arXiv:2205.12255 (2022).\n",
      "[24] Schick et al. “Toolformer: Language Models Can Teach Themselves to Use Tools.” arXiv preprint arXiv:2302.04761 (2023).\n",
      "[25] Mialon et al. “Augmented Language Models: a Survey” arXiv preprint arXiv:2302.07842 (2023).\n",
      "[26] Yao et al. “Tree of Thoughts: Deliberate Problem Solving with Large Language Models.” arXiv preprint arXiv:2305.10601 (2023).\n",
      "\n",
      "For example to produce education materials for kids,\n",
      "\n",
      "Describe what is quantum physics to a 6-year-old.\n",
      "\n",
      "And safe content,\n",
      "\n",
      "... in language that is safe for work.\n",
      "In-context instruction learning (Ye et al. 2023) combines few-shot learning with instruction prompting. It incorporates multiple demonstration examples across different tasks in the prompt, each demonstration consisting of instruction, task input and output. Note that their experiments were only on classification tasks and the instruction prompt contains all label options.\n",
      "Definition: Determine the speaker of the dialogue, \"agent\" or \"customer\".\n",
      "Input: I have successfully booked your tickets.\n",
      "Ouput: agent\n",
      "\n",
      "Definition: Determine which category the question asks for, \"Quantity\" or \"Location\".\n",
      "Input: What's the oldest building in US?\n",
      "Ouput: Location\n",
      "\n",
      "Definition: Classify the sentiment of the given movie review, \"positive\" or \"negative\".\n",
      "Input: i'll bet the video game is a lot more fun than the film.\n",
      "Output:\n",
      "Self-Consistency Sampling#\n",
      "Self-consistency sampling (Wang et al. 2022a) is to sample multiple outputs with temperature > 0 and then selecting the best one out of these candidates.\n",
      "The criteria for selecting the best candidate can vary from task to task. A general solution is to pick majority vote. For tasks that are easy to validate such as a programming question with unit tests, we can simply run through the interpreter and verify the correctness with unit tests.\n",
      "Chain-of-Thought (CoT)#\n",
      "Chain-of-thought (CoT) prompting (Wei et al. 2022) generates a sequence of short sentences to describe reasoning logics step by step, known as reasoning chains or rationales, to eventually lead to the final answer. The benefit of CoT is more pronounced for complicated reasoning tasks, while using large models (e.g. with more than 50B parameters). Simple tasks only benefit slightly from CoT prompting.\n",
      "Types of CoT prompts#\n",
      "Two main types of CoT prompting:\n",
      "\n",
      "Few-shot CoT. It is to prompt the model with a few demonstrations, each containing manually written (or model-generated) high-quality reasoning chains.\n",
      "\n",
      "(All the math reasoning examples are from GSM8k)\n",
      "Question: Tom and Elizabeth have a competition to climb a hill. Elizabeth takes 30 minutes to climb the hill. Tom takes four times as long as Elizabeth does to climb the hill. How many hours does it take Tom to climb up the hill?\n",
      "Answer: It takes Tom 30*4 = <<30*4=120>>120 minutes to climb the hill.\n",
      "It takes Tom 120/60 = <<120/60=2>>2 hours to climb the hill.\n",
      "So the answer is 2.\n",
      "===\n",
      "Question: Jack is a soccer player. He needs to buy two pairs of socks and a pair of soccer shoes. Each pair of socks cost $9.50, and the shoes cost $92. Jack has $40. How much more money does Jack need?\n",
      "Answer: The total cost of two pairs of socks is $9.50 x 2 = $<<9.5*2=19>>19.\n",
      "The total cost of the socks and the shoes is $19 + $92 = $<<19+92=111>>111.\n",
      "Jack need $111 - $40 = $<<111-40=71>>71 more.\n",
      "So the answer is 71.\n",
      "===\n",
      "Question: Marty has 100 centimeters of ribbon that he must cut into 4 equal parts. Each of the cut parts must be divided into 5 equal parts. How long will each final cut be?\n",
      "Answer:\n",
      "\n",
      "Zero-shot CoT. Use natural language statement like Let's think step by step to explicitly encourage the model to first generate reasoning chains and then to prompt with Therefore, the answer is to produce answers (Kojima et al. 2022 ). Or a similar statement Let's work this out it a step by step to be sure we have the right answer (Zhou et al. 2022).\n",
      "\n",
      "Question: Marty has 100 centimeters of ribbon that he must cut into 4 equal parts. Each of the cut parts must be divided into 5 equal parts. How long will each final cut be?\n",
      "Answer: Let's think step by step.\n",
      "Tips and Extensions#\n",
      "\n",
      "\n",
      "Self-consistency sampling can improve reasoning accuracy by sampling a number of diverse answers and then taking the majority vote. (Wang et al. 2022a)\n",
      "\n",
      "Zero-shot CoT. Use natural language statement like Let's think step by step to explicitly encourage the model to first generate reasoning chains and then to prompt with Therefore, the answer is to produce answers (Kojima et al. 2022 ). Or a similar statement Let's work this out it a step by step to be sure we have the right answer (Zhou et al. 2022).\n",
      "\n",
      "Question: Marty has 100 centimeters of ribbon that he must cut into 4 equal parts. Each of the cut parts must be divided into 5 equal parts. How long will each final cut be?\n",
      "Answer: Let's think step by step.\n",
      "Tips and Extensions#\n",
      "\n",
      "\n",
      "Self-consistency sampling can improve reasoning accuracy by sampling a number of diverse answers and then taking the majority vote. (Wang et al. 2022a)\n",
      "\n",
      "\n",
      "Another approach for ensemble learning is to alter the example order or use model generated rationales to replace human-written ones to introduce randomness during multiple sample trials. Then aggregate model outputs with a majority vote to get final answer. (Wang et al. 2022b)\n",
      "\n",
      "\n",
      "If training examples are only associated with true answers (easy to verify!) but no rationales, we can follow the STaR (Self-Taught Reasoner; Zelikman et al. 2022) method : (1) Ask LLM to generate reasoning chains and only keep those leading to correct answers; (2) Then fine-tune the model with generated rationales and repeat the process until convergence. Note that higher temperature is more likely to generate incorrect rationales with correct answers. If training examples do not have ground truth answers, maybe consider using majority votes as the “correct” answers.\n",
      "\n",
      "\n",
      "Prompts with demonstrations of higher reasoning complexity can achieve better performance, where complexity is measured by the number of reasoning steps in the chains. When separating reasoning steps, newline \\n symbol works better than step i, period . or semicolon ;. (Fu et al. 2023)\n",
      "\n",
      "\n",
      "Complexity-based consistency is to explicitly prefer complex chains among all the generations by taking majority vote among only top $k$ complex chains. (Fu et al. 2023)\n",
      "\n",
      "\n",
      "Later, Shum et al. (2023) found that in their experiments CoT prompts with only complex examples can improve the accuracy of complex questions, but perform poorly in simple questions; evidence shown on GSM8k.\n",
      "\n",
      "\n",
      "Changing Q: to Question: is found to be helpful. (Fu et al. 2023)\n",
      "\n",
      "\n",
      "Ye & Durrett (2022) found that the benefit of including explanations in the prompt is small to moderate for NLP tasks that involve reasoning over text (i.e. QA and NLI) and the effects vary by models. They observed that explanations are more likely to be nonfactual than be inconsistent (i.e. whether explanation entails prediction). Nonfactual explanations most likely lead to incorrect predictions.\n",
      "\n",
      "\n",
      "Self-Ask (Press et al. 2022) is a method to repeatedly prompt the model to ask following-up questions to construct the thought process iteratively. Follow-up questions can be answered by search engine results. Similarly, IRCoT (Interleaving Retrieval CoT; Trivedi et al. 2022) and ReAct (Reason + Act; Yao et al. 2023) combines iterative CoT prompting with queries to Wikipedia APIs to search for relevant entities and content and then add it back into the context.\n",
      "\n",
      "\n",
      "\n",
      "Fig. 1. How Self-Ask works with external search queries.(Image source: Press et al. 2022).\n",
      "\n",
      "Tree of Thoughts (Yao et al. 2023) extends CoT by exploring multiple reasoning possibilities at each step. It first decomposes the problem into multiple thought steps and generates multiple thoughts per step, essentially creating a tree structure. The search process can be BFS or DFS while each state is evaluated by a classifier (via a prompt) or majority vote.\n",
      "\n",
      "Fig. 1. How Self-Ask works with external search queries.(Image source: Press et al. 2022).\n",
      "\n",
      "Tree of Thoughts (Yao et al. 2023) extends CoT by exploring multiple reasoning possibilities at each step. It first decomposes the problem into multiple thought steps and generates multiple thoughts per step, essentially creating a tree structure. The search process can be BFS or DFS while each state is evaluated by a classifier (via a prompt) or majority vote.\n",
      "\n",
      "\n",
      "Fig. 2. How Self-Ask works with external search queries.(Image source: Yao et al. 2022).\n",
      "Automatic Prompt Design#\n",
      "Prompt is a sequence of prefix tokens that increase the probability of getting  desired output given input. Therefore we can treat them as trainable parameters and optimize them directly on the embedding space via gradient descent, such as AutoPrompt (Shin et al., 2020, Prefix-Tuning (Li & Liang (2021)), P-tuning (Liu et al. 2021) and Prompt-Tuning (Lester et al. 2021). This section in my “Controllable Neural Text Generation” post has a good coverage of them. The trend from AutoPrompt to Prompt-Tuning is that the setup gets gradually simplified.\n",
      "APE (Automatic Prompt Engineer; Zhou et al. 2022) is a method to search over a pool of model-generated instruction candidates and then filters the candidate set according to a chosen score function to ultimately choose the best candidate with highest score.\n",
      "\n",
      "\n",
      "Prompt LLM to generate instruction candidates based on a small set of demonstrations in the form of input-output pairs. E.g. {{Given desired input-output pairs}}\\n\\nThe instruction is.\n",
      "\n",
      "\n",
      "Given a dataset of $\\mathcal{D}_\\text{train} = \\{(x, y)\\}$, we would like to find an instruction $\\rho$ such that $\\rho^* = \\arg\\max_\\rho \\mathbb{E}_{(x, y) \\in \\mathcal{D}_\\text{train}} [f(\\rho, x, y)]$, where $f(.)$ is a per-sample score function, such as execution accuracy $\\mathbb{1}[\\text{LM}(.\\vert \\rho, x)=y]$ or log probability: $p_\\text{LM}(y \\mid \\rho, x)$.\n",
      "\n",
      "\n",
      "Use an iterative Monte Carlo search method to improve the best candidates by proposing semantically similar variants via prompts like Generate a variation of the following instruction while keeping the semantic meaning.\\n\\nInput: ...\\n\\nOutput:...\n",
      "\n",
      "\n",
      "To construct chain-of-thought prompts automatically, Shum et al. (2023) suggested augment-prune-select, a three-step process:\n",
      "\n",
      "Augment: Generate multiple pseudo-chains of thought given question using few-shot or zero-shot CoT prompts;\n",
      "Prune: Prune pseudo chains based on whether generated answers match ground truths.\n",
      "Select: Apply a variance-reduced policy gradient strategy to learn the probability distribution over selected examples, while considering the probability distribution over examples as policy and the validation set accuracy as reward.\n",
      "\n",
      "Zhang et al. (2023) instead adopted clustering techniques to sample questions and then generates chains. They observed that LLMs tend to make certain types of mistakes. One type of errors can be similar in the emebedding space and thus get grouped together. By only sampling one or a few from frequent-error clusters, we can prevent too many wrong demonstrations of one error type and collect a diverse set of examples.\n",
      "\n",
      "Question clustering: Embed questions and run $k$-means for clustering.\n",
      "Demonstration selection: Select a set of representative questions from each cluster; i.e. one demonstration from one cluster. Samples in each cluster are sorted by distance to the cluster centroid and those closer to the centroid are selected first.\n",
      "Rationale generation: Use zero-shot CoT to generate reasoning chains for selected questions and construct few-shot prompt to run inference.\n"
     ]
    }
   ],
   "source": [
    "print(docs)\n",
    "print()\n",
    "print()\n",
    "print(docs_txt)"
   ]
  },
  {
   "cell_type": "code",
   "execution_count": null,
   "id": "98401b76-f7a0-4e0f-bf93-120ef5facc61",
   "metadata": {},
   "outputs": [],
   "source": []
  },
  {
   "cell_type": "code",
   "execution_count": null,
   "id": "6ffc98b1-0550-4e08-9af1-d0af2b4e26dd",
   "metadata": {},
   "outputs": [],
   "source": []
  },
  {
   "cell_type": "code",
   "execution_count": null,
   "id": "ebf4e373-92f4-436d-a5cc-8fb540629889",
   "metadata": {},
   "outputs": [],
   "source": []
  },
  {
   "cell_type": "code",
   "execution_count": null,
   "id": "32343fb7-210f-4b02-8f3d-b031d8cb7635",
   "metadata": {},
   "outputs": [],
   "source": []
  },
  {
   "cell_type": "code",
   "execution_count": null,
   "id": "301da1c8-97eb-4843-975e-00fa78ae7eca",
   "metadata": {},
   "outputs": [],
   "source": []
  },
  {
   "cell_type": "code",
   "execution_count": null,
   "id": "749a0bd1-9230-4a0b-982a-d246e53789e8",
   "metadata": {},
   "outputs": [],
   "source": []
  },
  {
   "cell_type": "code",
   "execution_count": 11,
   "id": "2d907b2c-52d2-45cc-90e3-48537ebdbdf0",
   "metadata": {},
   "outputs": [
    {
     "name": "stdout",
     "output_type": "stream",
     "text": [
      "Requirement already satisfied: nomic[local] in /Applications/anaconda3/envs/misenv/lib/python3.12/site-packages (3.1.2)\n",
      "Requirement already satisfied: click in /Applications/anaconda3/envs/misenv/lib/python3.12/site-packages (from nomic[local]) (8.1.7)\n",
      "Requirement already satisfied: jsonlines in /Applications/anaconda3/envs/misenv/lib/python3.12/site-packages (from nomic[local]) (4.0.0)\n",
      "Requirement already satisfied: loguru in /Applications/anaconda3/envs/misenv/lib/python3.12/site-packages (from nomic[local]) (0.5.3)\n",
      "Requirement already satisfied: rich in /Applications/anaconda3/envs/misenv/lib/python3.12/site-packages (from nomic[local]) (13.7.1)\n",
      "Requirement already satisfied: requests in /Applications/anaconda3/envs/misenv/lib/python3.12/site-packages (from nomic[local]) (2.32.3)\n",
      "Requirement already satisfied: numpy in /Applications/anaconda3/envs/misenv/lib/python3.12/site-packages (from nomic[local]) (1.26.4)\n",
      "Requirement already satisfied: pandas in /Applications/anaconda3/envs/misenv/lib/python3.12/site-packages (from nomic[local]) (2.2.2)\n",
      "Requirement already satisfied: pydantic in /Applications/anaconda3/envs/misenv/lib/python3.12/site-packages (from nomic[local]) (2.8.2)\n",
      "Requirement already satisfied: tqdm in /Applications/anaconda3/envs/misenv/lib/python3.12/site-packages (from nomic[local]) (4.66.4)\n",
      "Requirement already satisfied: pyarrow in /Applications/anaconda3/envs/misenv/lib/python3.12/site-packages (from nomic[local]) (16.1.0)\n",
      "Requirement already satisfied: pillow in /Applications/anaconda3/envs/misenv/lib/python3.12/site-packages (from nomic[local]) (10.4.0)\n",
      "Requirement already satisfied: pyjwt in /Applications/anaconda3/envs/misenv/lib/python3.12/site-packages (from nomic[local]) (2.9.0)\n",
      "Collecting gpt4all<3,>=2.5.0 (from nomic[local])\n",
      "  Downloading gpt4all-2.8.2-py3-none-macosx_10_15_universal2.whl.metadata (4.8 kB)\n",
      "Requirement already satisfied: attrs>=19.2.0 in /Applications/anaconda3/envs/misenv/lib/python3.12/site-packages (from jsonlines->nomic[local]) (23.1.0)\n",
      "Requirement already satisfied: python-dateutil>=2.8.2 in /Applications/anaconda3/envs/misenv/lib/python3.12/site-packages (from pandas->nomic[local]) (2.9.0.post0)\n",
      "Requirement already satisfied: pytz>=2020.1 in /Applications/anaconda3/envs/misenv/lib/python3.12/site-packages (from pandas->nomic[local]) (2024.1)\n",
      "Requirement already satisfied: tzdata>=2022.7 in /Applications/anaconda3/envs/misenv/lib/python3.12/site-packages (from pandas->nomic[local]) (2023.3)\n",
      "Requirement already satisfied: annotated-types>=0.4.0 in /Applications/anaconda3/envs/misenv/lib/python3.12/site-packages (from pydantic->nomic[local]) (0.6.0)\n",
      "Requirement already satisfied: pydantic-core==2.20.1 in /Applications/anaconda3/envs/misenv/lib/python3.12/site-packages (from pydantic->nomic[local]) (2.20.1)\n",
      "Requirement already satisfied: typing-extensions>=4.6.1 in /Applications/anaconda3/envs/misenv/lib/python3.12/site-packages (from pydantic->nomic[local]) (4.11.0)\n",
      "Requirement already satisfied: charset-normalizer<4,>=2 in /Applications/anaconda3/envs/misenv/lib/python3.12/site-packages (from requests->nomic[local]) (3.3.2)\n",
      "Requirement already satisfied: idna<4,>=2.5 in /Applications/anaconda3/envs/misenv/lib/python3.12/site-packages (from requests->nomic[local]) (3.7)\n",
      "Requirement already satisfied: urllib3<3,>=1.21.1 in /Applications/anaconda3/envs/misenv/lib/python3.12/site-packages (from requests->nomic[local]) (2.2.2)\n",
      "Requirement already satisfied: certifi>=2017.4.17 in /Applications/anaconda3/envs/misenv/lib/python3.12/site-packages (from requests->nomic[local]) (2024.8.30)\n",
      "Requirement already satisfied: markdown-it-py>=2.2.0 in /Applications/anaconda3/envs/misenv/lib/python3.12/site-packages (from rich->nomic[local]) (3.0.0)\n",
      "Requirement already satisfied: pygments<3.0.0,>=2.13.0 in /Applications/anaconda3/envs/misenv/lib/python3.12/site-packages (from rich->nomic[local]) (2.15.1)\n",
      "Requirement already satisfied: mdurl~=0.1 in /Applications/anaconda3/envs/misenv/lib/python3.12/site-packages (from markdown-it-py>=2.2.0->rich->nomic[local]) (0.1.0)\n",
      "Requirement already satisfied: six>=1.5 in /Applications/anaconda3/envs/misenv/lib/python3.12/site-packages (from python-dateutil>=2.8.2->pandas->nomic[local]) (1.16.0)\n",
      "Downloading gpt4all-2.8.2-py3-none-macosx_10_15_universal2.whl (6.6 MB)\n",
      "\u001b[2K   \u001b[38;2;114;156;31m━━━━━━━━━━━━━━━━━━━━━━━━━━━━━━━━━━━━━━━━\u001b[0m \u001b[32m6.6/6.6 MB\u001b[0m \u001b[31m341.7 kB/s\u001b[0m eta \u001b[36m0:00:00\u001b[0m kB/s\u001b[0m eta \u001b[36m0:00:01\u001b[0m:03\u001b[0m\n",
      "\u001b[?25hInstalling collected packages: gpt4all\n",
      "Successfully installed gpt4all-2.8.2\n",
      "Note: you may need to restart the kernel to use updated packages.\n"
     ]
    }
   ],
   "source": [
    "pip install \"nomic[local]\""
   ]
  },
  {
   "cell_type": "code",
   "execution_count": null,
   "id": "56d673a2-dec4-4f28-91b9-b25ca17f158a",
   "metadata": {},
   "outputs": [],
   "source": []
  }
 ],
 "metadata": {
  "kernelspec": {
   "display_name": "Python 3 (ipykernel)",
   "language": "python",
   "name": "python3"
  },
  "language_info": {
   "codemirror_mode": {
    "name": "ipython",
    "version": 3
   },
   "file_extension": ".py",
   "mimetype": "text/x-python",
   "name": "python",
   "nbconvert_exporter": "python",
   "pygments_lexer": "ipython3",
   "version": "3.12.4"
  }
 },
 "nbformat": 4,
 "nbformat_minor": 5
}
