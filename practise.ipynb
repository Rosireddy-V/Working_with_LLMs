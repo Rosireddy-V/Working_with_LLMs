{
 "cells": [
  {
   "cell_type": "code",
   "execution_count": 1,
   "id": "ef5b2ebb-28bb-43fa-b712-3a7329d97a0b",
   "metadata": {},
   "outputs": [],
   "source": [
    "from langchain_ollama import ChatOllama\n",
    "llm=ChatOllama(\n",
    "    model=\"llama3.1:8b\",\n",
    ")"
   ]
  },
  {
   "cell_type": "code",
   "execution_count": 9,
   "id": "6afe6e42-e546-4ca1-bce4-5a15483eb24d",
   "metadata": {},
   "outputs": [],
   "source": [
    "from langchain_core.messages import HumanMessage, SystemMessage\n",
    "messages=[\n",
    "    SystemMessage(content=\"Translate the following from english to italian\"),\n",
    "    HumanMessage(content=\"hi\")\n",
    "]"
   ]
  },
  {
   "cell_type": "code",
   "execution_count": 3,
   "id": "993fd501-3bb6-4914-ba77-fe319c419a36",
   "metadata": {},
   "outputs": [
    {
     "data": {
      "text/plain": [
       "AIMessage(content='Stai bene?', response_metadata={'model': 'llama3.1:8b', 'created_at': '2024-10-10T06:43:49.124419Z', 'message': {'role': 'assistant', 'content': ''}, 'done_reason': 'stop', 'done': True, 'total_duration': 14677872709, 'load_duration': 13244943584, 'prompt_eval_count': 27, 'prompt_eval_duration': 655380000, 'eval_count': 5, 'eval_duration': 561940000}, id='run-632f57cd-31ec-4746-b765-3671f33f5050-0', usage_metadata={'input_tokens': 27, 'output_tokens': 5, 'total_tokens': 32})"
      ]
     },
     "execution_count": 3,
     "metadata": {},
     "output_type": "execute_result"
    }
   ],
   "source": [
    "llm.invoke(messages)"
   ]
  },
  {
   "cell_type": "code",
   "execution_count": 4,
   "id": "5626cbff-f0e1-452a-8845-4f3736e6a4a4",
   "metadata": {},
   "outputs": [],
   "source": [
    "from langchain_core.output_parsers import StrOutputParser\n",
    "parser=StrOutputParser()"
   ]
  },
  {
   "cell_type": "code",
   "execution_count": 10,
   "id": "8b8c142b-3282-42e2-bd2d-a1c7609b3ff2",
   "metadata": {},
   "outputs": [],
   "source": [
    "result=llm.invoke(messages)"
   ]
  },
  {
   "cell_type": "code",
   "execution_count": 11,
   "id": "9eaf197e-5ea2-43f2-abc8-f47615d706bb",
   "metadata": {},
   "outputs": [
    {
     "data": {
      "text/plain": [
       "'Ciao! Come posso aiutarti oggi?'"
      ]
     },
     "execution_count": 11,
     "metadata": {},
     "output_type": "execute_result"
    }
   ],
   "source": [
    "parser.invoke(result)"
   ]
  },
  {
   "cell_type": "code",
   "execution_count": 12,
   "id": "b43fe3df-6fa5-4399-8516-7b4b7371f6d4",
   "metadata": {},
   "outputs": [
    {
     "data": {
      "text/plain": [
       "'Ciao!'"
      ]
     },
     "execution_count": 12,
     "metadata": {},
     "output_type": "execute_result"
    }
   ],
   "source": [
    "chain=llm | parser\n",
    "chain.invoke(messages)"
   ]
  },
  {
   "cell_type": "code",
   "execution_count": 13,
   "id": "40f6a816-72e4-4678-8df3-b7b70f9283b5",
   "metadata": {},
   "outputs": [],
   "source": [
    "from langchain_core.prompts import ChatPromptTemplate "
   ]
  },
  {
   "cell_type": "code",
   "execution_count": 16,
   "id": "b9bf13d9-2ada-4417-b01b-30a1cebbc050",
   "metadata": {},
   "outputs": [],
   "source": [
    "system_template=\"Translate the following into {language}:\""
   ]
  },
  {
   "cell_type": "code",
   "execution_count": 17,
   "id": "4a31e9ae-af77-4e5d-9ecf-07da3cf41587",
   "metadata": {},
   "outputs": [],
   "source": [
    "prompt_template=ChatPromptTemplate.from_messages(\n",
    "    [('system',system_template),('user',\"{text}\")]\n",
    ")"
   ]
  },
  {
   "cell_type": "code",
   "execution_count": 19,
   "id": "4046db41-a2fe-4070-a772-d5423a4854a7",
   "metadata": {},
   "outputs": [
    {
     "data": {
      "text/plain": [
       "ChatPromptValue(messages=[SystemMessage(content='Translate the following into Italian:'), HumanMessage(content='hi')])"
      ]
     },
     "execution_count": 19,
     "metadata": {},
     "output_type": "execute_result"
    }
   ],
   "source": [
    "result=prompt_template.invoke({'language':'Italian', 'text': 'hi'})\n",
    "result"
   ]
  },
  {
   "cell_type": "code",
   "execution_count": 20,
   "id": "2c747591-c5cd-459b-aa01-4b7cfa0cd09c",
   "metadata": {},
   "outputs": [
    {
     "data": {
      "text/plain": [
       "[SystemMessage(content='Translate the following into Italian:'),\n",
       " HumanMessage(content='hi')]"
      ]
     },
     "execution_count": 20,
     "metadata": {},
     "output_type": "execute_result"
    }
   ],
   "source": [
    "result.to_messages()"
   ]
  },
  {
   "cell_type": "code",
   "execution_count": 23,
   "id": "24a9da23-136e-4bf7-9181-4df799ad36ba",
   "metadata": {},
   "outputs": [
    {
     "data": {
      "text/plain": [
       "'Giocare.'"
      ]
     },
     "execution_count": 23,
     "metadata": {},
     "output_type": "execute_result"
    }
   ],
   "source": [
    "chain=prompt_template | llm | parser\n",
    "chain.invoke({'language':'Italian','text':'play'})"
   ]
  },
  {
   "cell_type": "code",
   "execution_count": null,
   "id": "df5f008d-0829-4db9-aff5-ae5edf580129",
   "metadata": {},
   "outputs": [],
   "source": []
  }
 ],
 "metadata": {
  "kernelspec": {
   "display_name": "Python 3 (ipykernel)",
   "language": "python",
   "name": "python3"
  },
  "language_info": {
   "codemirror_mode": {
    "name": "ipython",
    "version": 3
   },
   "file_extension": ".py",
   "mimetype": "text/x-python",
   "name": "python",
   "nbconvert_exporter": "python",
   "pygments_lexer": "ipython3",
   "version": "3.12.4"
  }
 },
 "nbformat": 4,
 "nbformat_minor": 5
}
